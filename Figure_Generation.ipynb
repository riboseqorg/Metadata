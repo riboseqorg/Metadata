{
 "cells": [
  {
   "cell_type": "markdown",
   "metadata": {},
   "source": [
    "# Figure Generation for the Ribo-Seq Data Portal Manuscript"
   ]
  },
  {
   "cell_type": "markdown",
   "metadata": {},
   "source": [
    "We want a multi panel figure that shows a breakdown of the contents of the metadata stored in the RDP database. \n",
    "\n",
    "The areas we want to get a breakdown of include:\n",
    "- Organism\n",
    "- Inhibitor \n",
    "- Cell Lines/Tissues \n",
    "- Missing Data "
   ]
  },
  {
   "cell_type": "code",
   "execution_count": 76,
   "metadata": {},
   "outputs": [],
   "source": [
    "# !pip install pandas plotly nbformat"
   ]
  },
  {
   "cell_type": "code",
   "execution_count": 77,
   "metadata": {},
   "outputs": [
    {
     "name": "stderr",
     "output_type": "stream",
     "text": [
      "/tmp/ipykernel_2256505/1534731982.py:6: DtypeWarning:\n",
      "\n",
      "Columns (50,60,61,64,66) have mixed types. Specify dtype option on import or set low_memory=False.\n",
      "\n"
     ]
    }
   ],
   "source": [
    "import pandas as pd\n",
    "from textwrap import wrap\n",
    "import plotly.graph_objects as go\n",
    "import plotly.express as px\n",
    "\n",
    "df = pd.read_csv('data/standardised_22-04-24.csv')"
   ]
  },
  {
   "cell_type": "code",
   "execution_count": 78,
   "metadata": {},
   "outputs": [
    {
     "data": {
      "text/plain": [
       "126"
      ]
     },
     "execution_count": 78,
     "metadata": {},
     "output_type": "execute_result"
    }
   ],
   "source": [
    "len(df['ScientificName'].unique())"
   ]
  },
  {
   "cell_type": "code",
   "execution_count": 79,
   "metadata": {},
   "outputs": [
    {
     "data": {
      "application/vnd.plotly.v1+json": {
       "config": {
        "plotlyServerURL": "https://plot.ly"
       },
       "data": [
        {
         "domain": {
          "x": [
           0,
           1
          ],
          "y": [
           0,
           1
          ]
         },
         "hovertemplate": "ScientificName_Other=%{label}<br>counts=%{value}<extra></extra>",
         "labels": [
          "Homo sapiens",
          "Mus musculus",
          "Saccharomyces cerevisiae",
          "Danio rerio",
          "Escherichia coli",
          "Zea mays",
          "Caenorhabditis elegans",
          "Arabidopsis thaliana",
          "Rattus norvegicus",
          "Drosophila melanogaster",
          "Schizosaccharomyces pombe",
          "Escherichia coli str. K-12 substr. MG1655",
          "Other Organisms",
          "Other Organisms",
          "Other Organisms",
          "Other Organisms",
          "Other Organisms",
          "Other Organisms",
          "Other Organisms",
          "Other Organisms",
          "Other Organisms",
          "Other Organisms",
          "Other Organisms",
          "Other Organisms",
          "Other Organisms",
          "Other Organisms",
          "Other Organisms",
          "Other Organisms",
          "Other Organisms",
          "Other Organisms",
          "Other Organisms",
          "Other Organisms",
          "Other Organisms",
          "Other Organisms",
          "Other Organisms",
          "Other Organisms",
          "Other Organisms",
          "Other Organisms",
          "Other Organisms",
          "Other Organisms",
          "Other Organisms",
          "Other Organisms",
          "Other Organisms",
          "Other Organisms",
          "Other Organisms",
          "Other Organisms",
          "Other Organisms",
          "Other Organisms",
          "Other Organisms",
          "Other Organisms",
          "Other Organisms",
          "Other Organisms",
          "Other Organisms",
          "Other Organisms",
          "Other Organisms",
          "Other Organisms",
          "Other Organisms",
          "Other Organisms",
          "Other Organisms",
          "Other Organisms",
          "Other Organisms",
          "Other Organisms",
          "Other Organisms",
          "Other Organisms",
          "Other Organisms",
          "Other Organisms",
          "Other Organisms",
          "Other Organisms",
          "Other Organisms",
          "Other Organisms",
          "Other Organisms",
          "Other Organisms",
          "Other Organisms",
          "Other Organisms",
          "Other Organisms",
          "Other Organisms",
          "Other Organisms",
          "Other Organisms",
          "Other Organisms",
          "Other Organisms",
          "Other Organisms",
          "Other Organisms",
          "Other Organisms",
          "Other Organisms",
          "Other Organisms",
          "Other Organisms",
          "Other Organisms",
          "Other Organisms",
          "Other Organisms",
          "Other Organisms",
          "Other Organisms",
          "Other Organisms",
          "Other Organisms",
          "Other Organisms",
          "Other Organisms",
          "Other Organisms",
          "Other Organisms",
          "Other Organisms",
          "Other Organisms",
          "Other Organisms",
          "Other Organisms",
          "Other Organisms",
          "Other Organisms",
          "Other Organisms",
          "Other Organisms",
          "Other Organisms",
          "Other Organisms",
          "Other Organisms",
          "Other Organisms",
          "Other Organisms",
          "Other Organisms",
          "Other Organisms",
          "Other Organisms",
          "Other Organisms",
          "Other Organisms",
          "Other Organisms",
          "Other Organisms",
          "Other Organisms",
          "Other Organisms",
          "Other Organisms",
          "Other Organisms",
          "Other Organisms",
          "Other Organisms",
          "Other Organisms",
          "Other Organisms",
          "Other Organisms"
         ],
         "legendgroup": "",
         "name": "",
         "showlegend": true,
         "type": "pie",
         "values": [
          4188,
          4071,
          2032,
          705,
          540,
          374,
          365,
          282,
          181,
          156,
          136,
          133,
          115,
          94,
          78,
          77,
          62,
          60,
          59,
          53,
          51,
          41,
          40,
          36,
          35,
          33,
          32,
          28,
          28,
          27,
          24,
          22,
          21,
          20,
          20,
          19,
          18,
          16,
          16,
          16,
          16,
          16,
          14,
          12,
          12,
          12,
          12,
          12,
          12,
          12,
          12,
          12,
          11,
          11,
          10,
          10,
          10,
          10,
          10,
          10,
          10,
          9,
          9,
          9,
          9,
          8,
          8,
          8,
          8,
          8,
          7,
          6,
          6,
          6,
          6,
          6,
          6,
          6,
          6,
          6,
          6,
          6,
          6,
          6,
          6,
          5,
          5,
          5,
          4,
          4,
          4,
          4,
          4,
          4,
          4,
          4,
          4,
          4,
          4,
          4,
          4,
          4,
          4,
          4,
          3,
          3,
          3,
          3,
          2,
          2,
          2,
          2,
          2,
          2,
          2,
          2,
          2,
          2,
          2,
          2,
          2,
          2,
          1,
          1,
          1,
          1
         ]
        }
       ],
       "layout": {
        "legend": {
         "tracegroupgap": 0
        },
        "template": {
         "data": {
          "bar": [
           {
            "error_x": {
             "color": "#2a3f5f"
            },
            "error_y": {
             "color": "#2a3f5f"
            },
            "marker": {
             "line": {
              "color": "#E5ECF6",
              "width": 0.5
             },
             "pattern": {
              "fillmode": "overlay",
              "size": 10,
              "solidity": 0.2
             }
            },
            "type": "bar"
           }
          ],
          "barpolar": [
           {
            "marker": {
             "line": {
              "color": "#E5ECF6",
              "width": 0.5
             },
             "pattern": {
              "fillmode": "overlay",
              "size": 10,
              "solidity": 0.2
             }
            },
            "type": "barpolar"
           }
          ],
          "carpet": [
           {
            "aaxis": {
             "endlinecolor": "#2a3f5f",
             "gridcolor": "white",
             "linecolor": "white",
             "minorgridcolor": "white",
             "startlinecolor": "#2a3f5f"
            },
            "baxis": {
             "endlinecolor": "#2a3f5f",
             "gridcolor": "white",
             "linecolor": "white",
             "minorgridcolor": "white",
             "startlinecolor": "#2a3f5f"
            },
            "type": "carpet"
           }
          ],
          "choropleth": [
           {
            "colorbar": {
             "outlinewidth": 0,
             "ticks": ""
            },
            "type": "choropleth"
           }
          ],
          "contour": [
           {
            "colorbar": {
             "outlinewidth": 0,
             "ticks": ""
            },
            "colorscale": [
             [
              0,
              "#0d0887"
             ],
             [
              0.1111111111111111,
              "#46039f"
             ],
             [
              0.2222222222222222,
              "#7201a8"
             ],
             [
              0.3333333333333333,
              "#9c179e"
             ],
             [
              0.4444444444444444,
              "#bd3786"
             ],
             [
              0.5555555555555556,
              "#d8576b"
             ],
             [
              0.6666666666666666,
              "#ed7953"
             ],
             [
              0.7777777777777778,
              "#fb9f3a"
             ],
             [
              0.8888888888888888,
              "#fdca26"
             ],
             [
              1,
              "#f0f921"
             ]
            ],
            "type": "contour"
           }
          ],
          "contourcarpet": [
           {
            "colorbar": {
             "outlinewidth": 0,
             "ticks": ""
            },
            "type": "contourcarpet"
           }
          ],
          "heatmap": [
           {
            "colorbar": {
             "outlinewidth": 0,
             "ticks": ""
            },
            "colorscale": [
             [
              0,
              "#0d0887"
             ],
             [
              0.1111111111111111,
              "#46039f"
             ],
             [
              0.2222222222222222,
              "#7201a8"
             ],
             [
              0.3333333333333333,
              "#9c179e"
             ],
             [
              0.4444444444444444,
              "#bd3786"
             ],
             [
              0.5555555555555556,
              "#d8576b"
             ],
             [
              0.6666666666666666,
              "#ed7953"
             ],
             [
              0.7777777777777778,
              "#fb9f3a"
             ],
             [
              0.8888888888888888,
              "#fdca26"
             ],
             [
              1,
              "#f0f921"
             ]
            ],
            "type": "heatmap"
           }
          ],
          "heatmapgl": [
           {
            "colorbar": {
             "outlinewidth": 0,
             "ticks": ""
            },
            "colorscale": [
             [
              0,
              "#0d0887"
             ],
             [
              0.1111111111111111,
              "#46039f"
             ],
             [
              0.2222222222222222,
              "#7201a8"
             ],
             [
              0.3333333333333333,
              "#9c179e"
             ],
             [
              0.4444444444444444,
              "#bd3786"
             ],
             [
              0.5555555555555556,
              "#d8576b"
             ],
             [
              0.6666666666666666,
              "#ed7953"
             ],
             [
              0.7777777777777778,
              "#fb9f3a"
             ],
             [
              0.8888888888888888,
              "#fdca26"
             ],
             [
              1,
              "#f0f921"
             ]
            ],
            "type": "heatmapgl"
           }
          ],
          "histogram": [
           {
            "marker": {
             "pattern": {
              "fillmode": "overlay",
              "size": 10,
              "solidity": 0.2
             }
            },
            "type": "histogram"
           }
          ],
          "histogram2d": [
           {
            "colorbar": {
             "outlinewidth": 0,
             "ticks": ""
            },
            "colorscale": [
             [
              0,
              "#0d0887"
             ],
             [
              0.1111111111111111,
              "#46039f"
             ],
             [
              0.2222222222222222,
              "#7201a8"
             ],
             [
              0.3333333333333333,
              "#9c179e"
             ],
             [
              0.4444444444444444,
              "#bd3786"
             ],
             [
              0.5555555555555556,
              "#d8576b"
             ],
             [
              0.6666666666666666,
              "#ed7953"
             ],
             [
              0.7777777777777778,
              "#fb9f3a"
             ],
             [
              0.8888888888888888,
              "#fdca26"
             ],
             [
              1,
              "#f0f921"
             ]
            ],
            "type": "histogram2d"
           }
          ],
          "histogram2dcontour": [
           {
            "colorbar": {
             "outlinewidth": 0,
             "ticks": ""
            },
            "colorscale": [
             [
              0,
              "#0d0887"
             ],
             [
              0.1111111111111111,
              "#46039f"
             ],
             [
              0.2222222222222222,
              "#7201a8"
             ],
             [
              0.3333333333333333,
              "#9c179e"
             ],
             [
              0.4444444444444444,
              "#bd3786"
             ],
             [
              0.5555555555555556,
              "#d8576b"
             ],
             [
              0.6666666666666666,
              "#ed7953"
             ],
             [
              0.7777777777777778,
              "#fb9f3a"
             ],
             [
              0.8888888888888888,
              "#fdca26"
             ],
             [
              1,
              "#f0f921"
             ]
            ],
            "type": "histogram2dcontour"
           }
          ],
          "mesh3d": [
           {
            "colorbar": {
             "outlinewidth": 0,
             "ticks": ""
            },
            "type": "mesh3d"
           }
          ],
          "parcoords": [
           {
            "line": {
             "colorbar": {
              "outlinewidth": 0,
              "ticks": ""
             }
            },
            "type": "parcoords"
           }
          ],
          "pie": [
           {
            "automargin": true,
            "type": "pie"
           }
          ],
          "scatter": [
           {
            "fillpattern": {
             "fillmode": "overlay",
             "size": 10,
             "solidity": 0.2
            },
            "type": "scatter"
           }
          ],
          "scatter3d": [
           {
            "line": {
             "colorbar": {
              "outlinewidth": 0,
              "ticks": ""
             }
            },
            "marker": {
             "colorbar": {
              "outlinewidth": 0,
              "ticks": ""
             }
            },
            "type": "scatter3d"
           }
          ],
          "scattercarpet": [
           {
            "marker": {
             "colorbar": {
              "outlinewidth": 0,
              "ticks": ""
             }
            },
            "type": "scattercarpet"
           }
          ],
          "scattergeo": [
           {
            "marker": {
             "colorbar": {
              "outlinewidth": 0,
              "ticks": ""
             }
            },
            "type": "scattergeo"
           }
          ],
          "scattergl": [
           {
            "marker": {
             "colorbar": {
              "outlinewidth": 0,
              "ticks": ""
             }
            },
            "type": "scattergl"
           }
          ],
          "scattermapbox": [
           {
            "marker": {
             "colorbar": {
              "outlinewidth": 0,
              "ticks": ""
             }
            },
            "type": "scattermapbox"
           }
          ],
          "scatterpolar": [
           {
            "marker": {
             "colorbar": {
              "outlinewidth": 0,
              "ticks": ""
             }
            },
            "type": "scatterpolar"
           }
          ],
          "scatterpolargl": [
           {
            "marker": {
             "colorbar": {
              "outlinewidth": 0,
              "ticks": ""
             }
            },
            "type": "scatterpolargl"
           }
          ],
          "scatterternary": [
           {
            "marker": {
             "colorbar": {
              "outlinewidth": 0,
              "ticks": ""
             }
            },
            "type": "scatterternary"
           }
          ],
          "surface": [
           {
            "colorbar": {
             "outlinewidth": 0,
             "ticks": ""
            },
            "colorscale": [
             [
              0,
              "#0d0887"
             ],
             [
              0.1111111111111111,
              "#46039f"
             ],
             [
              0.2222222222222222,
              "#7201a8"
             ],
             [
              0.3333333333333333,
              "#9c179e"
             ],
             [
              0.4444444444444444,
              "#bd3786"
             ],
             [
              0.5555555555555556,
              "#d8576b"
             ],
             [
              0.6666666666666666,
              "#ed7953"
             ],
             [
              0.7777777777777778,
              "#fb9f3a"
             ],
             [
              0.8888888888888888,
              "#fdca26"
             ],
             [
              1,
              "#f0f921"
             ]
            ],
            "type": "surface"
           }
          ],
          "table": [
           {
            "cells": {
             "fill": {
              "color": "#EBF0F8"
             },
             "line": {
              "color": "white"
             }
            },
            "header": {
             "fill": {
              "color": "#C8D4E3"
             },
             "line": {
              "color": "white"
             }
            },
            "type": "table"
           }
          ]
         },
         "layout": {
          "annotationdefaults": {
           "arrowcolor": "#2a3f5f",
           "arrowhead": 0,
           "arrowwidth": 1
          },
          "autotypenumbers": "strict",
          "coloraxis": {
           "colorbar": {
            "outlinewidth": 0,
            "ticks": ""
           }
          },
          "colorscale": {
           "diverging": [
            [
             0,
             "#8e0152"
            ],
            [
             0.1,
             "#c51b7d"
            ],
            [
             0.2,
             "#de77ae"
            ],
            [
             0.3,
             "#f1b6da"
            ],
            [
             0.4,
             "#fde0ef"
            ],
            [
             0.5,
             "#f7f7f7"
            ],
            [
             0.6,
             "#e6f5d0"
            ],
            [
             0.7,
             "#b8e186"
            ],
            [
             0.8,
             "#7fbc41"
            ],
            [
             0.9,
             "#4d9221"
            ],
            [
             1,
             "#276419"
            ]
           ],
           "sequential": [
            [
             0,
             "#0d0887"
            ],
            [
             0.1111111111111111,
             "#46039f"
            ],
            [
             0.2222222222222222,
             "#7201a8"
            ],
            [
             0.3333333333333333,
             "#9c179e"
            ],
            [
             0.4444444444444444,
             "#bd3786"
            ],
            [
             0.5555555555555556,
             "#d8576b"
            ],
            [
             0.6666666666666666,
             "#ed7953"
            ],
            [
             0.7777777777777778,
             "#fb9f3a"
            ],
            [
             0.8888888888888888,
             "#fdca26"
            ],
            [
             1,
             "#f0f921"
            ]
           ],
           "sequentialminus": [
            [
             0,
             "#0d0887"
            ],
            [
             0.1111111111111111,
             "#46039f"
            ],
            [
             0.2222222222222222,
             "#7201a8"
            ],
            [
             0.3333333333333333,
             "#9c179e"
            ],
            [
             0.4444444444444444,
             "#bd3786"
            ],
            [
             0.5555555555555556,
             "#d8576b"
            ],
            [
             0.6666666666666666,
             "#ed7953"
            ],
            [
             0.7777777777777778,
             "#fb9f3a"
            ],
            [
             0.8888888888888888,
             "#fdca26"
            ],
            [
             1,
             "#f0f921"
            ]
           ]
          },
          "colorway": [
           "#636efa",
           "#EF553B",
           "#00cc96",
           "#ab63fa",
           "#FFA15A",
           "#19d3f3",
           "#FF6692",
           "#B6E880",
           "#FF97FF",
           "#FECB52"
          ],
          "font": {
           "color": "#2a3f5f"
          },
          "geo": {
           "bgcolor": "white",
           "lakecolor": "white",
           "landcolor": "#E5ECF6",
           "showlakes": true,
           "showland": true,
           "subunitcolor": "white"
          },
          "hoverlabel": {
           "align": "left"
          },
          "hovermode": "closest",
          "mapbox": {
           "style": "light"
          },
          "paper_bgcolor": "white",
          "plot_bgcolor": "#E5ECF6",
          "polar": {
           "angularaxis": {
            "gridcolor": "white",
            "linecolor": "white",
            "ticks": ""
           },
           "bgcolor": "#E5ECF6",
           "radialaxis": {
            "gridcolor": "white",
            "linecolor": "white",
            "ticks": ""
           }
          },
          "scene": {
           "xaxis": {
            "backgroundcolor": "#E5ECF6",
            "gridcolor": "white",
            "gridwidth": 2,
            "linecolor": "white",
            "showbackground": true,
            "ticks": "",
            "zerolinecolor": "white"
           },
           "yaxis": {
            "backgroundcolor": "#E5ECF6",
            "gridcolor": "white",
            "gridwidth": 2,
            "linecolor": "white",
            "showbackground": true,
            "ticks": "",
            "zerolinecolor": "white"
           },
           "zaxis": {
            "backgroundcolor": "#E5ECF6",
            "gridcolor": "white",
            "gridwidth": 2,
            "linecolor": "white",
            "showbackground": true,
            "ticks": "",
            "zerolinecolor": "white"
           }
          },
          "shapedefaults": {
           "line": {
            "color": "#2a3f5f"
           }
          },
          "ternary": {
           "aaxis": {
            "gridcolor": "white",
            "linecolor": "white",
            "ticks": ""
           },
           "baxis": {
            "gridcolor": "white",
            "linecolor": "white",
            "ticks": ""
           },
           "bgcolor": "#E5ECF6",
           "caxis": {
            "gridcolor": "white",
            "linecolor": "white",
            "ticks": ""
           }
          },
          "title": {
           "x": 0.05
          },
          "xaxis": {
           "automargin": true,
           "gridcolor": "white",
           "linecolor": "white",
           "ticks": "",
           "title": {
            "standoff": 15
           },
           "zerolinecolor": "white",
           "zerolinewidth": 2
          },
          "yaxis": {
           "automargin": true,
           "gridcolor": "white",
           "linecolor": "white",
           "ticks": "",
           "title": {
            "standoff": 15
           },
           "zerolinecolor": "white",
           "zerolinewidth": 2
          }
         }
        },
        "title": {
         "text": "Organism Breakdown"
        }
       }
      }
     },
     "metadata": {},
     "output_type": "display_data"
    }
   ],
   "source": [
    "def plot_organism_metadata_pie(df):\n",
    "    df_organism_counts = df.groupby('ScientificName').size().reset_index(name='counts')\n",
    "    df_organism_counts.sort_values('counts', ascending=False, inplace=True)\n",
    "    accepted_organisms = df_organism_counts['ScientificName'].head(12).tolist()\n",
    "    df_organism_counts['ScientificName_Other'] = df_organism_counts['ScientificName'].apply(lambda x: x if x in accepted_organisms else 'Other Organisms')\n",
    "    fig = px.pie(df_organism_counts, names='ScientificName_Other', values='counts', title='Organism Breakdown')\n",
    "    fig.show()\n",
    "\n",
    "plot_organism_metadata_pie(df)"
   ]
  },
  {
   "cell_type": "code",
   "execution_count": 80,
   "metadata": {},
   "outputs": [
    {
     "data": {
      "text/plain": [
       "Bar({\n",
       "    'name': 'Organism Breakdown',\n",
       "    'orientation': 'h',\n",
       "    'x': array([4188, 4071, 2032,  705,  540,  374,  365,  282,  181,  156,  136,  133,\n",
       "                 115,   94,   78,   77,   62,   60,   59,   53,   51,   41,   40,   36,\n",
       "                  35,   33,   32,   28,   28,   27,   24,   22,   21,   20,   20,   19,\n",
       "                  18,   16,   16,   16,   16,   16,   14,   12,   12,   12,   12,   12,\n",
       "                  12,   12,   12,   12,   11,   11,   10,   10,   10,   10,   10,   10,\n",
       "                  10,    9,    9,    9,    9,    8,    8,    8,    8,    8,    7,    6,\n",
       "                   6,    6,    6,    6,    6,    6,    6,    6,    6,    6,    6,    6,\n",
       "                   6,    5,    5,    5,    4,    4,    4,    4,    4,    4,    4,    4,\n",
       "                   4,    4,    4,    4,    4,    4,    4,    4,    3,    3,    3,    3,\n",
       "                   2,    2,    2,    2,    2,    2,    2,    2,    2,    2,    2,    2,\n",
       "                   2,    2,    1,    1,    1,    1]),\n",
       "    'y': array(['Homo sapiens', 'Mus musculus', 'Saccharomyces cerevisiae',\n",
       "                'Danio rerio', 'Escherichia coli', 'Other Organisms', 'Other Organisms',\n",
       "                'Other Organisms', 'Other Organisms', 'Other Organisms',\n",
       "                'Other Organisms', 'Other Organisms', 'Other Organisms',\n",
       "                'Other Organisms', 'Other Organisms', 'Other Organisms',\n",
       "                'Other Organisms', 'Other Organisms', 'Other Organisms',\n",
       "                'Other Organisms', 'Other Organisms', 'Other Organisms',\n",
       "                'Other Organisms', 'Other Organisms', 'Other Organisms',\n",
       "                'Other Organisms', 'Other Organisms', 'Other Organisms',\n",
       "                'Other Organisms', 'Other Organisms', 'Other Organisms',\n",
       "                'Other Organisms', 'Other Organisms', 'Other Organisms',\n",
       "                'Other Organisms', 'Other Organisms', 'Other Organisms',\n",
       "                'Other Organisms', 'Other Organisms', 'Other Organisms',\n",
       "                'Other Organisms', 'Other Organisms', 'Other Organisms',\n",
       "                'Other Organisms', 'Other Organisms', 'Other Organisms',\n",
       "                'Other Organisms', 'Other Organisms', 'Other Organisms',\n",
       "                'Other Organisms', 'Other Organisms', 'Other Organisms',\n",
       "                'Other Organisms', 'Other Organisms', 'Other Organisms',\n",
       "                'Other Organisms', 'Other Organisms', 'Other Organisms',\n",
       "                'Other Organisms', 'Other Organisms', 'Other Organisms',\n",
       "                'Other Organisms', 'Other Organisms', 'Other Organisms',\n",
       "                'Other Organisms', 'Other Organisms', 'Other Organisms',\n",
       "                'Other Organisms', 'Other Organisms', 'Other Organisms',\n",
       "                'Other Organisms', 'Other Organisms', 'Other Organisms',\n",
       "                'Other Organisms', 'Other Organisms', 'Other Organisms',\n",
       "                'Other Organisms', 'Other Organisms', 'Other Organisms',\n",
       "                'Other Organisms', 'Other Organisms', 'Other Organisms',\n",
       "                'Other Organisms', 'Other Organisms', 'Other Organisms',\n",
       "                'Other Organisms', 'Other Organisms', 'Other Organisms',\n",
       "                'Other Organisms', 'Other Organisms', 'Other Organisms',\n",
       "                'Other Organisms', 'Other Organisms', 'Other Organisms',\n",
       "                'Other Organisms', 'Other Organisms', 'Other Organisms',\n",
       "                'Other Organisms', 'Other Organisms', 'Other Organisms',\n",
       "                'Other Organisms', 'Other Organisms', 'Other Organisms',\n",
       "                'Other Organisms', 'Other Organisms', 'Other Organisms',\n",
       "                'Other Organisms', 'Other Organisms', 'Other Organisms',\n",
       "                'Other Organisms', 'Other Organisms', 'Other Organisms',\n",
       "                'Other Organisms', 'Other Organisms', 'Other Organisms',\n",
       "                'Other Organisms', 'Other Organisms', 'Other Organisms',\n",
       "                'Other Organisms', 'Other Organisms', 'Other Organisms',\n",
       "                'Other Organisms', 'Other Organisms', 'Other Organisms',\n",
       "                'Other Organisms', 'Other Organisms'], dtype=object)\n",
       "})"
      ]
     },
     "execution_count": 80,
     "metadata": {},
     "output_type": "execute_result"
    }
   ],
   "source": [
    "def plot_organism_metadata_bar(df, subset=5):\n",
    "    df_organism_counts = df.groupby('ScientificName').size().reset_index(name='counts')\n",
    "    df_organism_counts.sort_values('counts', ascending=False, inplace=True)\n",
    "    accepted_organisms = df_organism_counts['ScientificName'].head(subset).tolist()\n",
    "    df_organism_counts['ScientificName_Other'] = df_organism_counts['ScientificName'].apply(lambda x: x if x in accepted_organisms else 'Other Organisms')\n",
    "    \n",
    "    # Create a go.Bar object\n",
    "    bar_trace = go.Bar(\n",
    "        x=df_organism_counts['counts'],\n",
    "        y=df_organism_counts['ScientificName_Other'],\n",
    "        orientation='h',\n",
    "        name='Organism Breakdown'\n",
    "    )\n",
    "        \n",
    "    return bar_trace\n",
    "plot_organism_metadata_bar(df)"
   ]
  },
  {
   "cell_type": "code",
   "execution_count": 81,
   "metadata": {},
   "outputs": [
    {
     "data": {
      "application/vnd.plotly.v1+json": {
       "config": {
        "plotlyServerURL": "https://plot.ly"
       },
       "data": [
        {
         "hovertemplate": "counts=%{text}<br>ScientificName_Other=%{y}<extra></extra>",
         "legendgroup": "",
         "marker": {
          "color": "red",
          "size": 10,
          "symbol": "circle"
         },
         "mode": "markers",
         "name": "",
         "orientation": "h",
         "showlegend": false,
         "text": [
          4188,
          4071,
          2032,
          705,
          540,
          374,
          365,
          282,
          181,
          156,
          136,
          133,
          115,
          94,
          78,
          77,
          62,
          60,
          59,
          53,
          51,
          41,
          40,
          36,
          35,
          33,
          32,
          28,
          28,
          27,
          24,
          22,
          21,
          20,
          20,
          19,
          18,
          16,
          16,
          16,
          16,
          16,
          14,
          12,
          12,
          12,
          12,
          12,
          12,
          12,
          12,
          12,
          11,
          11,
          10,
          10,
          10,
          10,
          10,
          10,
          10,
          9,
          9,
          9,
          9,
          8,
          8,
          8,
          8,
          8,
          7,
          6,
          6,
          6,
          6,
          6,
          6,
          6,
          6,
          6,
          6,
          6,
          6,
          6,
          6,
          5,
          5,
          5,
          4,
          4,
          4,
          4,
          4,
          4,
          4,
          4,
          4,
          4,
          4,
          4,
          4,
          4,
          4,
          4,
          3,
          3,
          3,
          3,
          2,
          2,
          2,
          2,
          2,
          2,
          2,
          2,
          2,
          2,
          2,
          2,
          2,
          2,
          1,
          1,
          1,
          1
         ],
         "type": "scatter",
         "x": [
          4188,
          4071,
          2032,
          705,
          540,
          374,
          365,
          282,
          181,
          156,
          136,
          133,
          115,
          94,
          78,
          77,
          62,
          60,
          59,
          53,
          51,
          41,
          40,
          36,
          35,
          33,
          32,
          28,
          28,
          27,
          24,
          22,
          21,
          20,
          20,
          19,
          18,
          16,
          16,
          16,
          16,
          16,
          14,
          12,
          12,
          12,
          12,
          12,
          12,
          12,
          12,
          12,
          11,
          11,
          10,
          10,
          10,
          10,
          10,
          10,
          10,
          9,
          9,
          9,
          9,
          8,
          8,
          8,
          8,
          8,
          7,
          6,
          6,
          6,
          6,
          6,
          6,
          6,
          6,
          6,
          6,
          6,
          6,
          6,
          6,
          5,
          5,
          5,
          4,
          4,
          4,
          4,
          4,
          4,
          4,
          4,
          4,
          4,
          4,
          4,
          4,
          4,
          4,
          4,
          3,
          3,
          3,
          3,
          2,
          2,
          2,
          2,
          2,
          2,
          2,
          2,
          2,
          2,
          2,
          2,
          2,
          2,
          1,
          1,
          1,
          1
         ],
         "xaxis": "x",
         "y": [
          "Homo sapiens",
          "Mus musculus",
          "Saccharomyces cerevisiae",
          "Danio rerio",
          "Escherichia coli",
          "Zea mays",
          "Caenorhabditis elegans",
          "Arabidopsis thaliana",
          "Rattus norvegicus",
          "Drosophila melanogaster",
          "Schizosaccharomyces pombe",
          "Escherichia coli str. K-12 substr. MG1655",
          "Other Organisms",
          "Other Organisms",
          "Other Organisms",
          "Other Organisms",
          "Other Organisms",
          "Other Organisms",
          "Other Organisms",
          "Other Organisms",
          "Other Organisms",
          "Other Organisms",
          "Other Organisms",
          "Other Organisms",
          "Other Organisms",
          "Other Organisms",
          "Other Organisms",
          "Other Organisms",
          "Other Organisms",
          "Other Organisms",
          "Other Organisms",
          "Other Organisms",
          "Other Organisms",
          "Other Organisms",
          "Other Organisms",
          "Other Organisms",
          "Other Organisms",
          "Other Organisms",
          "Other Organisms",
          "Other Organisms",
          "Other Organisms",
          "Other Organisms",
          "Other Organisms",
          "Other Organisms",
          "Other Organisms",
          "Other Organisms",
          "Other Organisms",
          "Other Organisms",
          "Other Organisms",
          "Other Organisms",
          "Other Organisms",
          "Other Organisms",
          "Other Organisms",
          "Other Organisms",
          "Other Organisms",
          "Other Organisms",
          "Other Organisms",
          "Other Organisms",
          "Other Organisms",
          "Other Organisms",
          "Other Organisms",
          "Other Organisms",
          "Other Organisms",
          "Other Organisms",
          "Other Organisms",
          "Other Organisms",
          "Other Organisms",
          "Other Organisms",
          "Other Organisms",
          "Other Organisms",
          "Other Organisms",
          "Other Organisms",
          "Other Organisms",
          "Other Organisms",
          "Other Organisms",
          "Other Organisms",
          "Other Organisms",
          "Other Organisms",
          "Other Organisms",
          "Other Organisms",
          "Other Organisms",
          "Other Organisms",
          "Other Organisms",
          "Other Organisms",
          "Other Organisms",
          "Other Organisms",
          "Other Organisms",
          "Other Organisms",
          "Other Organisms",
          "Other Organisms",
          "Other Organisms",
          "Other Organisms",
          "Other Organisms",
          "Other Organisms",
          "Other Organisms",
          "Other Organisms",
          "Other Organisms",
          "Other Organisms",
          "Other Organisms",
          "Other Organisms",
          "Other Organisms",
          "Other Organisms",
          "Other Organisms",
          "Other Organisms",
          "Other Organisms",
          "Other Organisms",
          "Other Organisms",
          "Other Organisms",
          "Other Organisms",
          "Other Organisms",
          "Other Organisms",
          "Other Organisms",
          "Other Organisms",
          "Other Organisms",
          "Other Organisms",
          "Other Organisms",
          "Other Organisms",
          "Other Organisms",
          "Other Organisms",
          "Other Organisms",
          "Other Organisms",
          "Other Organisms",
          "Other Organisms",
          "Other Organisms",
          "Other Organisms",
          "Other Organisms"
         ],
         "yaxis": "y"
        }
       ],
       "layout": {
        "legend": {
         "tracegroupgap": 0
        },
        "margin": {
         "t": 60
        },
        "showlegend": false,
        "template": {
         "data": {
          "bar": [
           {
            "error_x": {
             "color": "#2a3f5f"
            },
            "error_y": {
             "color": "#2a3f5f"
            },
            "marker": {
             "line": {
              "color": "#E5ECF6",
              "width": 0.5
             },
             "pattern": {
              "fillmode": "overlay",
              "size": 10,
              "solidity": 0.2
             }
            },
            "type": "bar"
           }
          ],
          "barpolar": [
           {
            "marker": {
             "line": {
              "color": "#E5ECF6",
              "width": 0.5
             },
             "pattern": {
              "fillmode": "overlay",
              "size": 10,
              "solidity": 0.2
             }
            },
            "type": "barpolar"
           }
          ],
          "carpet": [
           {
            "aaxis": {
             "endlinecolor": "#2a3f5f",
             "gridcolor": "white",
             "linecolor": "white",
             "minorgridcolor": "white",
             "startlinecolor": "#2a3f5f"
            },
            "baxis": {
             "endlinecolor": "#2a3f5f",
             "gridcolor": "white",
             "linecolor": "white",
             "minorgridcolor": "white",
             "startlinecolor": "#2a3f5f"
            },
            "type": "carpet"
           }
          ],
          "choropleth": [
           {
            "colorbar": {
             "outlinewidth": 0,
             "ticks": ""
            },
            "type": "choropleth"
           }
          ],
          "contour": [
           {
            "colorbar": {
             "outlinewidth": 0,
             "ticks": ""
            },
            "colorscale": [
             [
              0,
              "#0d0887"
             ],
             [
              0.1111111111111111,
              "#46039f"
             ],
             [
              0.2222222222222222,
              "#7201a8"
             ],
             [
              0.3333333333333333,
              "#9c179e"
             ],
             [
              0.4444444444444444,
              "#bd3786"
             ],
             [
              0.5555555555555556,
              "#d8576b"
             ],
             [
              0.6666666666666666,
              "#ed7953"
             ],
             [
              0.7777777777777778,
              "#fb9f3a"
             ],
             [
              0.8888888888888888,
              "#fdca26"
             ],
             [
              1,
              "#f0f921"
             ]
            ],
            "type": "contour"
           }
          ],
          "contourcarpet": [
           {
            "colorbar": {
             "outlinewidth": 0,
             "ticks": ""
            },
            "type": "contourcarpet"
           }
          ],
          "heatmap": [
           {
            "colorbar": {
             "outlinewidth": 0,
             "ticks": ""
            },
            "colorscale": [
             [
              0,
              "#0d0887"
             ],
             [
              0.1111111111111111,
              "#46039f"
             ],
             [
              0.2222222222222222,
              "#7201a8"
             ],
             [
              0.3333333333333333,
              "#9c179e"
             ],
             [
              0.4444444444444444,
              "#bd3786"
             ],
             [
              0.5555555555555556,
              "#d8576b"
             ],
             [
              0.6666666666666666,
              "#ed7953"
             ],
             [
              0.7777777777777778,
              "#fb9f3a"
             ],
             [
              0.8888888888888888,
              "#fdca26"
             ],
             [
              1,
              "#f0f921"
             ]
            ],
            "type": "heatmap"
           }
          ],
          "heatmapgl": [
           {
            "colorbar": {
             "outlinewidth": 0,
             "ticks": ""
            },
            "colorscale": [
             [
              0,
              "#0d0887"
             ],
             [
              0.1111111111111111,
              "#46039f"
             ],
             [
              0.2222222222222222,
              "#7201a8"
             ],
             [
              0.3333333333333333,
              "#9c179e"
             ],
             [
              0.4444444444444444,
              "#bd3786"
             ],
             [
              0.5555555555555556,
              "#d8576b"
             ],
             [
              0.6666666666666666,
              "#ed7953"
             ],
             [
              0.7777777777777778,
              "#fb9f3a"
             ],
             [
              0.8888888888888888,
              "#fdca26"
             ],
             [
              1,
              "#f0f921"
             ]
            ],
            "type": "heatmapgl"
           }
          ],
          "histogram": [
           {
            "marker": {
             "pattern": {
              "fillmode": "overlay",
              "size": 10,
              "solidity": 0.2
             }
            },
            "type": "histogram"
           }
          ],
          "histogram2d": [
           {
            "colorbar": {
             "outlinewidth": 0,
             "ticks": ""
            },
            "colorscale": [
             [
              0,
              "#0d0887"
             ],
             [
              0.1111111111111111,
              "#46039f"
             ],
             [
              0.2222222222222222,
              "#7201a8"
             ],
             [
              0.3333333333333333,
              "#9c179e"
             ],
             [
              0.4444444444444444,
              "#bd3786"
             ],
             [
              0.5555555555555556,
              "#d8576b"
             ],
             [
              0.6666666666666666,
              "#ed7953"
             ],
             [
              0.7777777777777778,
              "#fb9f3a"
             ],
             [
              0.8888888888888888,
              "#fdca26"
             ],
             [
              1,
              "#f0f921"
             ]
            ],
            "type": "histogram2d"
           }
          ],
          "histogram2dcontour": [
           {
            "colorbar": {
             "outlinewidth": 0,
             "ticks": ""
            },
            "colorscale": [
             [
              0,
              "#0d0887"
             ],
             [
              0.1111111111111111,
              "#46039f"
             ],
             [
              0.2222222222222222,
              "#7201a8"
             ],
             [
              0.3333333333333333,
              "#9c179e"
             ],
             [
              0.4444444444444444,
              "#bd3786"
             ],
             [
              0.5555555555555556,
              "#d8576b"
             ],
             [
              0.6666666666666666,
              "#ed7953"
             ],
             [
              0.7777777777777778,
              "#fb9f3a"
             ],
             [
              0.8888888888888888,
              "#fdca26"
             ],
             [
              1,
              "#f0f921"
             ]
            ],
            "type": "histogram2dcontour"
           }
          ],
          "mesh3d": [
           {
            "colorbar": {
             "outlinewidth": 0,
             "ticks": ""
            },
            "type": "mesh3d"
           }
          ],
          "parcoords": [
           {
            "line": {
             "colorbar": {
              "outlinewidth": 0,
              "ticks": ""
             }
            },
            "type": "parcoords"
           }
          ],
          "pie": [
           {
            "automargin": true,
            "type": "pie"
           }
          ],
          "scatter": [
           {
            "fillpattern": {
             "fillmode": "overlay",
             "size": 10,
             "solidity": 0.2
            },
            "type": "scatter"
           }
          ],
          "scatter3d": [
           {
            "line": {
             "colorbar": {
              "outlinewidth": 0,
              "ticks": ""
             }
            },
            "marker": {
             "colorbar": {
              "outlinewidth": 0,
              "ticks": ""
             }
            },
            "type": "scatter3d"
           }
          ],
          "scattercarpet": [
           {
            "marker": {
             "colorbar": {
              "outlinewidth": 0,
              "ticks": ""
             }
            },
            "type": "scattercarpet"
           }
          ],
          "scattergeo": [
           {
            "marker": {
             "colorbar": {
              "outlinewidth": 0,
              "ticks": ""
             }
            },
            "type": "scattergeo"
           }
          ],
          "scattergl": [
           {
            "marker": {
             "colorbar": {
              "outlinewidth": 0,
              "ticks": ""
             }
            },
            "type": "scattergl"
           }
          ],
          "scattermapbox": [
           {
            "marker": {
             "colorbar": {
              "outlinewidth": 0,
              "ticks": ""
             }
            },
            "type": "scattermapbox"
           }
          ],
          "scatterpolar": [
           {
            "marker": {
             "colorbar": {
              "outlinewidth": 0,
              "ticks": ""
             }
            },
            "type": "scatterpolar"
           }
          ],
          "scatterpolargl": [
           {
            "marker": {
             "colorbar": {
              "outlinewidth": 0,
              "ticks": ""
             }
            },
            "type": "scatterpolargl"
           }
          ],
          "scatterternary": [
           {
            "marker": {
             "colorbar": {
              "outlinewidth": 0,
              "ticks": ""
             }
            },
            "type": "scatterternary"
           }
          ],
          "surface": [
           {
            "colorbar": {
             "outlinewidth": 0,
             "ticks": ""
            },
            "colorscale": [
             [
              0,
              "#0d0887"
             ],
             [
              0.1111111111111111,
              "#46039f"
             ],
             [
              0.2222222222222222,
              "#7201a8"
             ],
             [
              0.3333333333333333,
              "#9c179e"
             ],
             [
              0.4444444444444444,
              "#bd3786"
             ],
             [
              0.5555555555555556,
              "#d8576b"
             ],
             [
              0.6666666666666666,
              "#ed7953"
             ],
             [
              0.7777777777777778,
              "#fb9f3a"
             ],
             [
              0.8888888888888888,
              "#fdca26"
             ],
             [
              1,
              "#f0f921"
             ]
            ],
            "type": "surface"
           }
          ],
          "table": [
           {
            "cells": {
             "fill": {
              "color": "#EBF0F8"
             },
             "line": {
              "color": "white"
             }
            },
            "header": {
             "fill": {
              "color": "#C8D4E3"
             },
             "line": {
              "color": "white"
             }
            },
            "type": "table"
           }
          ]
         },
         "layout": {
          "annotationdefaults": {
           "arrowcolor": "#2a3f5f",
           "arrowhead": 0,
           "arrowwidth": 1
          },
          "autotypenumbers": "strict",
          "coloraxis": {
           "colorbar": {
            "outlinewidth": 0,
            "ticks": ""
           }
          },
          "colorscale": {
           "diverging": [
            [
             0,
             "#8e0152"
            ],
            [
             0.1,
             "#c51b7d"
            ],
            [
             0.2,
             "#de77ae"
            ],
            [
             0.3,
             "#f1b6da"
            ],
            [
             0.4,
             "#fde0ef"
            ],
            [
             0.5,
             "#f7f7f7"
            ],
            [
             0.6,
             "#e6f5d0"
            ],
            [
             0.7,
             "#b8e186"
            ],
            [
             0.8,
             "#7fbc41"
            ],
            [
             0.9,
             "#4d9221"
            ],
            [
             1,
             "#276419"
            ]
           ],
           "sequential": [
            [
             0,
             "#0d0887"
            ],
            [
             0.1111111111111111,
             "#46039f"
            ],
            [
             0.2222222222222222,
             "#7201a8"
            ],
            [
             0.3333333333333333,
             "#9c179e"
            ],
            [
             0.4444444444444444,
             "#bd3786"
            ],
            [
             0.5555555555555556,
             "#d8576b"
            ],
            [
             0.6666666666666666,
             "#ed7953"
            ],
            [
             0.7777777777777778,
             "#fb9f3a"
            ],
            [
             0.8888888888888888,
             "#fdca26"
            ],
            [
             1,
             "#f0f921"
            ]
           ],
           "sequentialminus": [
            [
             0,
             "#0d0887"
            ],
            [
             0.1111111111111111,
             "#46039f"
            ],
            [
             0.2222222222222222,
             "#7201a8"
            ],
            [
             0.3333333333333333,
             "#9c179e"
            ],
            [
             0.4444444444444444,
             "#bd3786"
            ],
            [
             0.5555555555555556,
             "#d8576b"
            ],
            [
             0.6666666666666666,
             "#ed7953"
            ],
            [
             0.7777777777777778,
             "#fb9f3a"
            ],
            [
             0.8888888888888888,
             "#fdca26"
            ],
            [
             1,
             "#f0f921"
            ]
           ]
          },
          "colorway": [
           "#636efa",
           "#EF553B",
           "#00cc96",
           "#ab63fa",
           "#FFA15A",
           "#19d3f3",
           "#FF6692",
           "#B6E880",
           "#FF97FF",
           "#FECB52"
          ],
          "font": {
           "color": "#2a3f5f"
          },
          "geo": {
           "bgcolor": "white",
           "lakecolor": "white",
           "landcolor": "#E5ECF6",
           "showlakes": true,
           "showland": true,
           "subunitcolor": "white"
          },
          "hoverlabel": {
           "align": "left"
          },
          "hovermode": "closest",
          "mapbox": {
           "style": "light"
          },
          "paper_bgcolor": "white",
          "plot_bgcolor": "#E5ECF6",
          "polar": {
           "angularaxis": {
            "gridcolor": "white",
            "linecolor": "white",
            "ticks": ""
           },
           "bgcolor": "#E5ECF6",
           "radialaxis": {
            "gridcolor": "white",
            "linecolor": "white",
            "ticks": ""
           }
          },
          "scene": {
           "xaxis": {
            "backgroundcolor": "#E5ECF6",
            "gridcolor": "white",
            "gridwidth": 2,
            "linecolor": "white",
            "showbackground": true,
            "ticks": "",
            "zerolinecolor": "white"
           },
           "yaxis": {
            "backgroundcolor": "#E5ECF6",
            "gridcolor": "white",
            "gridwidth": 2,
            "linecolor": "white",
            "showbackground": true,
            "ticks": "",
            "zerolinecolor": "white"
           },
           "zaxis": {
            "backgroundcolor": "#E5ECF6",
            "gridcolor": "white",
            "gridwidth": 2,
            "linecolor": "white",
            "showbackground": true,
            "ticks": "",
            "zerolinecolor": "white"
           }
          },
          "shapedefaults": {
           "line": {
            "color": "#2a3f5f"
           }
          },
          "ternary": {
           "aaxis": {
            "gridcolor": "white",
            "linecolor": "white",
            "ticks": ""
           },
           "baxis": {
            "gridcolor": "white",
            "linecolor": "white",
            "ticks": ""
           },
           "bgcolor": "#E5ECF6",
           "caxis": {
            "gridcolor": "white",
            "linecolor": "white",
            "ticks": ""
           }
          },
          "title": {
           "x": 0.05
          },
          "xaxis": {
           "automargin": true,
           "gridcolor": "white",
           "linecolor": "white",
           "ticks": "",
           "title": {
            "standoff": 15
           },
           "zerolinecolor": "white",
           "zerolinewidth": 2
          },
          "yaxis": {
           "automargin": true,
           "gridcolor": "white",
           "linecolor": "white",
           "ticks": "",
           "title": {
            "standoff": 15
           },
           "zerolinecolor": "white",
           "zerolinewidth": 2
          }
         }
        },
        "xaxis": {
         "anchor": "y",
         "domain": [
          0,
          1
         ],
         "title": {
          "text": "Number of Entries"
         }
        },
        "yaxis": {
         "anchor": "x",
         "categoryorder": "total descending",
         "domain": [
          0,
          1
         ],
         "title": {
          "text": "Organism"
         }
        }
       }
      }
     },
     "metadata": {},
     "output_type": "display_data"
    }
   ],
   "source": [
    "import plotly.express as px\n",
    "\n",
    "def plot_organism_metadata_lollipop(df):\n",
    "    df_organism_counts = df.groupby('ScientificName').size().reset_index(name='counts')\n",
    "    df_organism_counts.sort_values('counts', ascending=False, inplace=True)\n",
    "    accepted_organisms = df_organism_counts['ScientificName'].head(12).tolist()\n",
    "    df_organism_counts['ScientificName_Other'] = df_organism_counts['ScientificName'].apply(lambda x: x if x in accepted_organisms else 'Other Organisms')\n",
    "    \n",
    "    # Create a lollipop chart\n",
    "    fig = px.scatter(df_organism_counts, x='counts', y='ScientificName_Other', orientation='h', text='counts')\n",
    "    \n",
    "    # Customize the chart appearance\n",
    "    fig.update_traces(mode='markers', marker=dict(size=10, color='red'))\n",
    "    fig.update_layout(\n",
    "        xaxis_title=\"Number of Entries\",\n",
    "        yaxis_title=\"Organism\",\n",
    "        yaxis_categoryorder='total descending',  # Sort categories by count in descending order\n",
    "        showlegend=False\n",
    "    )\n",
    "    \n",
    "    return fig\n",
    "\n",
    "plot_organism_metadata_lollipop(df)"
   ]
  },
  {
   "cell_type": "code",
   "execution_count": 82,
   "metadata": {},
   "outputs": [
    {
     "data": {
      "application/vnd.plotly.v1+json": {
       "config": {
        "plotlyServerURL": "https://plot.ly"
       },
       "data": [
        {
         "alignmentgroup": "True",
         "hovertemplate": "ScientificName_Other=%{y}<br>counts=%{x}<extra></extra>",
         "legendgroup": "Homo sapiens",
         "marker": {
          "color": "#636efa",
          "pattern": {
           "shape": ""
          }
         },
         "name": "Homo sapiens",
         "offsetgroup": "Homo sapiens",
         "orientation": "h",
         "showlegend": true,
         "textposition": "auto",
         "type": "bar",
         "x": [
          4188
         ],
         "xaxis": "x",
         "y": [
          "Homo sapiens"
         ],
         "yaxis": "y"
        },
        {
         "alignmentgroup": "True",
         "hovertemplate": "ScientificName_Other=%{y}<br>counts=%{x}<extra></extra>",
         "legendgroup": "Mus musculus",
         "marker": {
          "color": "#EF553B",
          "pattern": {
           "shape": ""
          }
         },
         "name": "Mus musculus",
         "offsetgroup": "Mus musculus",
         "orientation": "h",
         "showlegend": true,
         "textposition": "auto",
         "type": "bar",
         "x": [
          4071
         ],
         "xaxis": "x",
         "y": [
          "Mus musculus"
         ],
         "yaxis": "y"
        },
        {
         "alignmentgroup": "True",
         "hovertemplate": "ScientificName_Other=%{y}<br>counts=%{x}<extra></extra>",
         "legendgroup": "Saccharomyces cerevisiae",
         "marker": {
          "color": "#00cc96",
          "pattern": {
           "shape": ""
          }
         },
         "name": "Saccharomyces cerevisiae",
         "offsetgroup": "Saccharomyces cerevisiae",
         "orientation": "h",
         "showlegend": true,
         "textposition": "auto",
         "type": "bar",
         "x": [
          2032
         ],
         "xaxis": "x",
         "y": [
          "Saccharomyces cerevisiae"
         ],
         "yaxis": "y"
        },
        {
         "alignmentgroup": "True",
         "hovertemplate": "ScientificName_Other=%{y}<br>counts=%{x}<extra></extra>",
         "legendgroup": "Danio rerio",
         "marker": {
          "color": "#ab63fa",
          "pattern": {
           "shape": ""
          }
         },
         "name": "Danio rerio",
         "offsetgroup": "Danio rerio",
         "orientation": "h",
         "showlegend": true,
         "textposition": "auto",
         "type": "bar",
         "x": [
          705
         ],
         "xaxis": "x",
         "y": [
          "Danio rerio"
         ],
         "yaxis": "y"
        },
        {
         "alignmentgroup": "True",
         "hovertemplate": "ScientificName_Other=%{y}<br>counts=%{x}<extra></extra>",
         "legendgroup": "Escherichia coli",
         "marker": {
          "color": "#FFA15A",
          "pattern": {
           "shape": ""
          }
         },
         "name": "Escherichia coli",
         "offsetgroup": "Escherichia coli",
         "orientation": "h",
         "showlegend": true,
         "textposition": "auto",
         "type": "bar",
         "x": [
          540
         ],
         "xaxis": "x",
         "y": [
          "Escherichia coli"
         ],
         "yaxis": "y"
        },
        {
         "alignmentgroup": "True",
         "hovertemplate": "ScientificName_Other=%{y}<br>counts=%{x}<extra></extra>",
         "legendgroup": "Zea mays",
         "marker": {
          "color": "#19d3f3",
          "pattern": {
           "shape": ""
          }
         },
         "name": "Zea mays",
         "offsetgroup": "Zea mays",
         "orientation": "h",
         "showlegend": true,
         "textposition": "auto",
         "type": "bar",
         "x": [
          374
         ],
         "xaxis": "x",
         "y": [
          "Zea mays"
         ],
         "yaxis": "y"
        },
        {
         "alignmentgroup": "True",
         "hovertemplate": "ScientificName_Other=%{y}<br>counts=%{x}<extra></extra>",
         "legendgroup": "Caenorhabditis elegans",
         "marker": {
          "color": "#FF6692",
          "pattern": {
           "shape": ""
          }
         },
         "name": "Caenorhabditis elegans",
         "offsetgroup": "Caenorhabditis elegans",
         "orientation": "h",
         "showlegend": true,
         "textposition": "auto",
         "type": "bar",
         "x": [
          365
         ],
         "xaxis": "x",
         "y": [
          "Caenorhabditis elegans"
         ],
         "yaxis": "y"
        },
        {
         "alignmentgroup": "True",
         "hovertemplate": "ScientificName_Other=%{y}<br>counts=%{x}<extra></extra>",
         "legendgroup": "Arabidopsis thaliana",
         "marker": {
          "color": "#B6E880",
          "pattern": {
           "shape": ""
          }
         },
         "name": "Arabidopsis thaliana",
         "offsetgroup": "Arabidopsis thaliana",
         "orientation": "h",
         "showlegend": true,
         "textposition": "auto",
         "type": "bar",
         "x": [
          282
         ],
         "xaxis": "x",
         "y": [
          "Arabidopsis thaliana"
         ],
         "yaxis": "y"
        },
        {
         "alignmentgroup": "True",
         "hovertemplate": "ScientificName_Other=%{y}<br>counts=%{x}<extra></extra>",
         "legendgroup": "Rattus norvegicus",
         "marker": {
          "color": "#FF97FF",
          "pattern": {
           "shape": ""
          }
         },
         "name": "Rattus norvegicus",
         "offsetgroup": "Rattus norvegicus",
         "orientation": "h",
         "showlegend": true,
         "textposition": "auto",
         "type": "bar",
         "x": [
          181
         ],
         "xaxis": "x",
         "y": [
          "Rattus norvegicus"
         ],
         "yaxis": "y"
        },
        {
         "alignmentgroup": "True",
         "hovertemplate": "ScientificName_Other=%{y}<br>counts=%{x}<extra></extra>",
         "legendgroup": "Drosophila melanogaster",
         "marker": {
          "color": "#FECB52",
          "pattern": {
           "shape": ""
          }
         },
         "name": "Drosophila melanogaster",
         "offsetgroup": "Drosophila melanogaster",
         "orientation": "h",
         "showlegend": true,
         "textposition": "auto",
         "type": "bar",
         "x": [
          156
         ],
         "xaxis": "x",
         "y": [
          "Drosophila melanogaster"
         ],
         "yaxis": "y"
        },
        {
         "alignmentgroup": "True",
         "hovertemplate": "ScientificName_Other=%{y}<br>counts=%{x}<extra></extra>",
         "legendgroup": "Schizosaccharomyces pombe",
         "marker": {
          "color": "#636efa",
          "pattern": {
           "shape": ""
          }
         },
         "name": "Schizosaccharomyces pombe",
         "offsetgroup": "Schizosaccharomyces pombe",
         "orientation": "h",
         "showlegend": true,
         "textposition": "auto",
         "type": "bar",
         "x": [
          136
         ],
         "xaxis": "x",
         "y": [
          "Schizosaccharomyces pombe"
         ],
         "yaxis": "y"
        },
        {
         "alignmentgroup": "True",
         "hovertemplate": "ScientificName_Other=%{y}<br>counts=%{x}<extra></extra>",
         "legendgroup": "Escherichia coli str. K-12 substr. MG1655",
         "marker": {
          "color": "#EF553B",
          "pattern": {
           "shape": ""
          }
         },
         "name": "Escherichia coli str. K-12 substr. MG1655",
         "offsetgroup": "Escherichia coli str. K-12 substr. MG1655",
         "orientation": "h",
         "showlegend": true,
         "textposition": "auto",
         "type": "bar",
         "x": [
          133
         ],
         "xaxis": "x",
         "y": [
          "Escherichia coli str. K-12 substr. MG1655"
         ],
         "yaxis": "y"
        },
        {
         "alignmentgroup": "True",
         "hovertemplate": "ScientificName_Other=%{y}<br>counts=%{x}<extra></extra>",
         "legendgroup": "Other Organisms",
         "marker": {
          "color": "#00cc96",
          "pattern": {
           "shape": ""
          }
         },
         "name": "Other Organisms",
         "offsetgroup": "Other Organisms",
         "orientation": "h",
         "showlegend": true,
         "textposition": "auto",
         "type": "bar",
         "x": [
          115,
          94,
          78,
          77,
          62,
          60,
          59,
          53,
          51,
          41,
          40,
          36,
          35,
          33,
          32,
          28,
          28,
          27,
          24,
          22,
          21,
          20,
          20,
          19,
          18,
          16,
          16,
          16,
          16,
          16,
          14,
          12,
          12,
          12,
          12,
          12,
          12,
          12,
          12,
          12,
          11,
          11,
          10,
          10,
          10,
          10,
          10,
          10,
          10,
          9,
          9,
          9,
          9,
          8,
          8,
          8,
          8,
          8,
          7,
          6,
          6,
          6,
          6,
          6,
          6,
          6,
          6,
          6,
          6,
          6,
          6,
          6,
          6,
          5,
          5,
          5,
          4,
          4,
          4,
          4,
          4,
          4,
          4,
          4,
          4,
          4,
          4,
          4,
          4,
          4,
          4,
          4,
          3,
          3,
          3,
          3,
          2,
          2,
          2,
          2,
          2,
          2,
          2,
          2,
          2,
          2,
          2,
          2,
          2,
          2,
          1,
          1,
          1,
          1
         ],
         "xaxis": "x",
         "y": [
          "Other Organisms",
          "Other Organisms",
          "Other Organisms",
          "Other Organisms",
          "Other Organisms",
          "Other Organisms",
          "Other Organisms",
          "Other Organisms",
          "Other Organisms",
          "Other Organisms",
          "Other Organisms",
          "Other Organisms",
          "Other Organisms",
          "Other Organisms",
          "Other Organisms",
          "Other Organisms",
          "Other Organisms",
          "Other Organisms",
          "Other Organisms",
          "Other Organisms",
          "Other Organisms",
          "Other Organisms",
          "Other Organisms",
          "Other Organisms",
          "Other Organisms",
          "Other Organisms",
          "Other Organisms",
          "Other Organisms",
          "Other Organisms",
          "Other Organisms",
          "Other Organisms",
          "Other Organisms",
          "Other Organisms",
          "Other Organisms",
          "Other Organisms",
          "Other Organisms",
          "Other Organisms",
          "Other Organisms",
          "Other Organisms",
          "Other Organisms",
          "Other Organisms",
          "Other Organisms",
          "Other Organisms",
          "Other Organisms",
          "Other Organisms",
          "Other Organisms",
          "Other Organisms",
          "Other Organisms",
          "Other Organisms",
          "Other Organisms",
          "Other Organisms",
          "Other Organisms",
          "Other Organisms",
          "Other Organisms",
          "Other Organisms",
          "Other Organisms",
          "Other Organisms",
          "Other Organisms",
          "Other Organisms",
          "Other Organisms",
          "Other Organisms",
          "Other Organisms",
          "Other Organisms",
          "Other Organisms",
          "Other Organisms",
          "Other Organisms",
          "Other Organisms",
          "Other Organisms",
          "Other Organisms",
          "Other Organisms",
          "Other Organisms",
          "Other Organisms",
          "Other Organisms",
          "Other Organisms",
          "Other Organisms",
          "Other Organisms",
          "Other Organisms",
          "Other Organisms",
          "Other Organisms",
          "Other Organisms",
          "Other Organisms",
          "Other Organisms",
          "Other Organisms",
          "Other Organisms",
          "Other Organisms",
          "Other Organisms",
          "Other Organisms",
          "Other Organisms",
          "Other Organisms",
          "Other Organisms",
          "Other Organisms",
          "Other Organisms",
          "Other Organisms",
          "Other Organisms",
          "Other Organisms",
          "Other Organisms",
          "Other Organisms",
          "Other Organisms",
          "Other Organisms",
          "Other Organisms",
          "Other Organisms",
          "Other Organisms",
          "Other Organisms",
          "Other Organisms",
          "Other Organisms",
          "Other Organisms",
          "Other Organisms",
          "Other Organisms",
          "Other Organisms",
          "Other Organisms",
          "Other Organisms",
          "Other Organisms",
          "Other Organisms",
          "Other Organisms"
         ],
         "yaxis": "y"
        }
       ],
       "layout": {
        "barmode": "stack",
        "legend": {
         "title": {
          "text": "Organism"
         },
         "tracegroupgap": 0
        },
        "margin": {
         "t": 60
        },
        "template": {
         "data": {
          "bar": [
           {
            "error_x": {
             "color": "#2a3f5f"
            },
            "error_y": {
             "color": "#2a3f5f"
            },
            "marker": {
             "line": {
              "color": "#E5ECF6",
              "width": 0.5
             },
             "pattern": {
              "fillmode": "overlay",
              "size": 10,
              "solidity": 0.2
             }
            },
            "type": "bar"
           }
          ],
          "barpolar": [
           {
            "marker": {
             "line": {
              "color": "#E5ECF6",
              "width": 0.5
             },
             "pattern": {
              "fillmode": "overlay",
              "size": 10,
              "solidity": 0.2
             }
            },
            "type": "barpolar"
           }
          ],
          "carpet": [
           {
            "aaxis": {
             "endlinecolor": "#2a3f5f",
             "gridcolor": "white",
             "linecolor": "white",
             "minorgridcolor": "white",
             "startlinecolor": "#2a3f5f"
            },
            "baxis": {
             "endlinecolor": "#2a3f5f",
             "gridcolor": "white",
             "linecolor": "white",
             "minorgridcolor": "white",
             "startlinecolor": "#2a3f5f"
            },
            "type": "carpet"
           }
          ],
          "choropleth": [
           {
            "colorbar": {
             "outlinewidth": 0,
             "ticks": ""
            },
            "type": "choropleth"
           }
          ],
          "contour": [
           {
            "colorbar": {
             "outlinewidth": 0,
             "ticks": ""
            },
            "colorscale": [
             [
              0,
              "#0d0887"
             ],
             [
              0.1111111111111111,
              "#46039f"
             ],
             [
              0.2222222222222222,
              "#7201a8"
             ],
             [
              0.3333333333333333,
              "#9c179e"
             ],
             [
              0.4444444444444444,
              "#bd3786"
             ],
             [
              0.5555555555555556,
              "#d8576b"
             ],
             [
              0.6666666666666666,
              "#ed7953"
             ],
             [
              0.7777777777777778,
              "#fb9f3a"
             ],
             [
              0.8888888888888888,
              "#fdca26"
             ],
             [
              1,
              "#f0f921"
             ]
            ],
            "type": "contour"
           }
          ],
          "contourcarpet": [
           {
            "colorbar": {
             "outlinewidth": 0,
             "ticks": ""
            },
            "type": "contourcarpet"
           }
          ],
          "heatmap": [
           {
            "colorbar": {
             "outlinewidth": 0,
             "ticks": ""
            },
            "colorscale": [
             [
              0,
              "#0d0887"
             ],
             [
              0.1111111111111111,
              "#46039f"
             ],
             [
              0.2222222222222222,
              "#7201a8"
             ],
             [
              0.3333333333333333,
              "#9c179e"
             ],
             [
              0.4444444444444444,
              "#bd3786"
             ],
             [
              0.5555555555555556,
              "#d8576b"
             ],
             [
              0.6666666666666666,
              "#ed7953"
             ],
             [
              0.7777777777777778,
              "#fb9f3a"
             ],
             [
              0.8888888888888888,
              "#fdca26"
             ],
             [
              1,
              "#f0f921"
             ]
            ],
            "type": "heatmap"
           }
          ],
          "heatmapgl": [
           {
            "colorbar": {
             "outlinewidth": 0,
             "ticks": ""
            },
            "colorscale": [
             [
              0,
              "#0d0887"
             ],
             [
              0.1111111111111111,
              "#46039f"
             ],
             [
              0.2222222222222222,
              "#7201a8"
             ],
             [
              0.3333333333333333,
              "#9c179e"
             ],
             [
              0.4444444444444444,
              "#bd3786"
             ],
             [
              0.5555555555555556,
              "#d8576b"
             ],
             [
              0.6666666666666666,
              "#ed7953"
             ],
             [
              0.7777777777777778,
              "#fb9f3a"
             ],
             [
              0.8888888888888888,
              "#fdca26"
             ],
             [
              1,
              "#f0f921"
             ]
            ],
            "type": "heatmapgl"
           }
          ],
          "histogram": [
           {
            "marker": {
             "pattern": {
              "fillmode": "overlay",
              "size": 10,
              "solidity": 0.2
             }
            },
            "type": "histogram"
           }
          ],
          "histogram2d": [
           {
            "colorbar": {
             "outlinewidth": 0,
             "ticks": ""
            },
            "colorscale": [
             [
              0,
              "#0d0887"
             ],
             [
              0.1111111111111111,
              "#46039f"
             ],
             [
              0.2222222222222222,
              "#7201a8"
             ],
             [
              0.3333333333333333,
              "#9c179e"
             ],
             [
              0.4444444444444444,
              "#bd3786"
             ],
             [
              0.5555555555555556,
              "#d8576b"
             ],
             [
              0.6666666666666666,
              "#ed7953"
             ],
             [
              0.7777777777777778,
              "#fb9f3a"
             ],
             [
              0.8888888888888888,
              "#fdca26"
             ],
             [
              1,
              "#f0f921"
             ]
            ],
            "type": "histogram2d"
           }
          ],
          "histogram2dcontour": [
           {
            "colorbar": {
             "outlinewidth": 0,
             "ticks": ""
            },
            "colorscale": [
             [
              0,
              "#0d0887"
             ],
             [
              0.1111111111111111,
              "#46039f"
             ],
             [
              0.2222222222222222,
              "#7201a8"
             ],
             [
              0.3333333333333333,
              "#9c179e"
             ],
             [
              0.4444444444444444,
              "#bd3786"
             ],
             [
              0.5555555555555556,
              "#d8576b"
             ],
             [
              0.6666666666666666,
              "#ed7953"
             ],
             [
              0.7777777777777778,
              "#fb9f3a"
             ],
             [
              0.8888888888888888,
              "#fdca26"
             ],
             [
              1,
              "#f0f921"
             ]
            ],
            "type": "histogram2dcontour"
           }
          ],
          "mesh3d": [
           {
            "colorbar": {
             "outlinewidth": 0,
             "ticks": ""
            },
            "type": "mesh3d"
           }
          ],
          "parcoords": [
           {
            "line": {
             "colorbar": {
              "outlinewidth": 0,
              "ticks": ""
             }
            },
            "type": "parcoords"
           }
          ],
          "pie": [
           {
            "automargin": true,
            "type": "pie"
           }
          ],
          "scatter": [
           {
            "fillpattern": {
             "fillmode": "overlay",
             "size": 10,
             "solidity": 0.2
            },
            "type": "scatter"
           }
          ],
          "scatter3d": [
           {
            "line": {
             "colorbar": {
              "outlinewidth": 0,
              "ticks": ""
             }
            },
            "marker": {
             "colorbar": {
              "outlinewidth": 0,
              "ticks": ""
             }
            },
            "type": "scatter3d"
           }
          ],
          "scattercarpet": [
           {
            "marker": {
             "colorbar": {
              "outlinewidth": 0,
              "ticks": ""
             }
            },
            "type": "scattercarpet"
           }
          ],
          "scattergeo": [
           {
            "marker": {
             "colorbar": {
              "outlinewidth": 0,
              "ticks": ""
             }
            },
            "type": "scattergeo"
           }
          ],
          "scattergl": [
           {
            "marker": {
             "colorbar": {
              "outlinewidth": 0,
              "ticks": ""
             }
            },
            "type": "scattergl"
           }
          ],
          "scattermapbox": [
           {
            "marker": {
             "colorbar": {
              "outlinewidth": 0,
              "ticks": ""
             }
            },
            "type": "scattermapbox"
           }
          ],
          "scatterpolar": [
           {
            "marker": {
             "colorbar": {
              "outlinewidth": 0,
              "ticks": ""
             }
            },
            "type": "scatterpolar"
           }
          ],
          "scatterpolargl": [
           {
            "marker": {
             "colorbar": {
              "outlinewidth": 0,
              "ticks": ""
             }
            },
            "type": "scatterpolargl"
           }
          ],
          "scatterternary": [
           {
            "marker": {
             "colorbar": {
              "outlinewidth": 0,
              "ticks": ""
             }
            },
            "type": "scatterternary"
           }
          ],
          "surface": [
           {
            "colorbar": {
             "outlinewidth": 0,
             "ticks": ""
            },
            "colorscale": [
             [
              0,
              "#0d0887"
             ],
             [
              0.1111111111111111,
              "#46039f"
             ],
             [
              0.2222222222222222,
              "#7201a8"
             ],
             [
              0.3333333333333333,
              "#9c179e"
             ],
             [
              0.4444444444444444,
              "#bd3786"
             ],
             [
              0.5555555555555556,
              "#d8576b"
             ],
             [
              0.6666666666666666,
              "#ed7953"
             ],
             [
              0.7777777777777778,
              "#fb9f3a"
             ],
             [
              0.8888888888888888,
              "#fdca26"
             ],
             [
              1,
              "#f0f921"
             ]
            ],
            "type": "surface"
           }
          ],
          "table": [
           {
            "cells": {
             "fill": {
              "color": "#EBF0F8"
             },
             "line": {
              "color": "white"
             }
            },
            "header": {
             "fill": {
              "color": "#C8D4E3"
             },
             "line": {
              "color": "white"
             }
            },
            "type": "table"
           }
          ]
         },
         "layout": {
          "annotationdefaults": {
           "arrowcolor": "#2a3f5f",
           "arrowhead": 0,
           "arrowwidth": 1
          },
          "autotypenumbers": "strict",
          "coloraxis": {
           "colorbar": {
            "outlinewidth": 0,
            "ticks": ""
           }
          },
          "colorscale": {
           "diverging": [
            [
             0,
             "#8e0152"
            ],
            [
             0.1,
             "#c51b7d"
            ],
            [
             0.2,
             "#de77ae"
            ],
            [
             0.3,
             "#f1b6da"
            ],
            [
             0.4,
             "#fde0ef"
            ],
            [
             0.5,
             "#f7f7f7"
            ],
            [
             0.6,
             "#e6f5d0"
            ],
            [
             0.7,
             "#b8e186"
            ],
            [
             0.8,
             "#7fbc41"
            ],
            [
             0.9,
             "#4d9221"
            ],
            [
             1,
             "#276419"
            ]
           ],
           "sequential": [
            [
             0,
             "#0d0887"
            ],
            [
             0.1111111111111111,
             "#46039f"
            ],
            [
             0.2222222222222222,
             "#7201a8"
            ],
            [
             0.3333333333333333,
             "#9c179e"
            ],
            [
             0.4444444444444444,
             "#bd3786"
            ],
            [
             0.5555555555555556,
             "#d8576b"
            ],
            [
             0.6666666666666666,
             "#ed7953"
            ],
            [
             0.7777777777777778,
             "#fb9f3a"
            ],
            [
             0.8888888888888888,
             "#fdca26"
            ],
            [
             1,
             "#f0f921"
            ]
           ],
           "sequentialminus": [
            [
             0,
             "#0d0887"
            ],
            [
             0.1111111111111111,
             "#46039f"
            ],
            [
             0.2222222222222222,
             "#7201a8"
            ],
            [
             0.3333333333333333,
             "#9c179e"
            ],
            [
             0.4444444444444444,
             "#bd3786"
            ],
            [
             0.5555555555555556,
             "#d8576b"
            ],
            [
             0.6666666666666666,
             "#ed7953"
            ],
            [
             0.7777777777777778,
             "#fb9f3a"
            ],
            [
             0.8888888888888888,
             "#fdca26"
            ],
            [
             1,
             "#f0f921"
            ]
           ]
          },
          "colorway": [
           "#636efa",
           "#EF553B",
           "#00cc96",
           "#ab63fa",
           "#FFA15A",
           "#19d3f3",
           "#FF6692",
           "#B6E880",
           "#FF97FF",
           "#FECB52"
          ],
          "font": {
           "color": "#2a3f5f"
          },
          "geo": {
           "bgcolor": "white",
           "lakecolor": "white",
           "landcolor": "#E5ECF6",
           "showlakes": true,
           "showland": true,
           "subunitcolor": "white"
          },
          "hoverlabel": {
           "align": "left"
          },
          "hovermode": "closest",
          "mapbox": {
           "style": "light"
          },
          "paper_bgcolor": "white",
          "plot_bgcolor": "#E5ECF6",
          "polar": {
           "angularaxis": {
            "gridcolor": "white",
            "linecolor": "white",
            "ticks": ""
           },
           "bgcolor": "#E5ECF6",
           "radialaxis": {
            "gridcolor": "white",
            "linecolor": "white",
            "ticks": ""
           }
          },
          "scene": {
           "xaxis": {
            "backgroundcolor": "#E5ECF6",
            "gridcolor": "white",
            "gridwidth": 2,
            "linecolor": "white",
            "showbackground": true,
            "ticks": "",
            "zerolinecolor": "white"
           },
           "yaxis": {
            "backgroundcolor": "#E5ECF6",
            "gridcolor": "white",
            "gridwidth": 2,
            "linecolor": "white",
            "showbackground": true,
            "ticks": "",
            "zerolinecolor": "white"
           },
           "zaxis": {
            "backgroundcolor": "#E5ECF6",
            "gridcolor": "white",
            "gridwidth": 2,
            "linecolor": "white",
            "showbackground": true,
            "ticks": "",
            "zerolinecolor": "white"
           }
          },
          "shapedefaults": {
           "line": {
            "color": "#2a3f5f"
           }
          },
          "ternary": {
           "aaxis": {
            "gridcolor": "white",
            "linecolor": "white",
            "ticks": ""
           },
           "baxis": {
            "gridcolor": "white",
            "linecolor": "white",
            "ticks": ""
           },
           "bgcolor": "#E5ECF6",
           "caxis": {
            "gridcolor": "white",
            "linecolor": "white",
            "ticks": ""
           }
          },
          "title": {
           "x": 0.05
          },
          "xaxis": {
           "automargin": true,
           "gridcolor": "white",
           "linecolor": "white",
           "ticks": "",
           "title": {
            "standoff": 15
           },
           "zerolinecolor": "white",
           "zerolinewidth": 2
          },
          "yaxis": {
           "automargin": true,
           "gridcolor": "white",
           "linecolor": "white",
           "ticks": "",
           "title": {
            "standoff": 15
           },
           "zerolinecolor": "white",
           "zerolinewidth": 2
          }
         }
        },
        "xaxis": {
         "anchor": "y",
         "domain": [
          0,
          1
         ],
         "title": {
          "text": "Number of Entries"
         }
        },
        "yaxis": {
         "anchor": "x",
         "categoryarray": [
          "Other Organisms",
          "Escherichia coli str. K-12 substr. MG1655",
          "Schizosaccharomyces pombe",
          "Drosophila melanogaster",
          "Rattus norvegicus",
          "Arabidopsis thaliana",
          "Caenorhabditis elegans",
          "Zea mays",
          "Escherichia coli",
          "Danio rerio",
          "Saccharomyces cerevisiae",
          "Mus musculus",
          "Homo sapiens"
         ],
         "categoryorder": "total descending",
         "domain": [
          0,
          1
         ],
         "title": {
          "text": "Organism"
         }
        }
       }
      }
     },
     "metadata": {},
     "output_type": "display_data"
    }
   ],
   "source": [
    "\n",
    "import plotly.colors as colors\n",
    "\n",
    "def plot_organism_metadataacked(df):\n",
    "    df_organism_counts = df.groupby('ScientificName').size().reset_index(name='counts')\n",
    "    df_organism_counts.sort_values('counts', ascending=False, inplace=True)\n",
    "    accepted_organisms = df_organism_counts['ScientificName'].head(12).tolist()\n",
    "    df_organism_counts['ScientificName_Other'] = df_organism_counts['ScientificName'].apply(lambda x: x if x in accepted_organisms else 'Other Organisms')\n",
    "    \n",
    "    # Create a horizontal stacked bar chart\n",
    "    fig = px.bar(df_organism_counts, x='counts', y='ScientificName_Other', orientation='h', color='ScientificName_Other')\n",
    "\n",
    "    # Customize the chart appearance\n",
    "    fig.update_layout(\n",
    "        xaxis_title=\"Number of Entries\",\n",
    "        yaxis_title=\"Organism\",\n",
    "        yaxis_categoryorder='total descending',  # Sort categories by count in descending order\n",
    "        barmode='stack',\n",
    "        legend_title_text='Organism'\n",
    "    )\n",
    "    \n",
    "    return fig\n",
    "plot_organism_metadataacked(df)"
   ]
  },
  {
   "cell_type": "code",
   "execution_count": 83,
   "metadata": {},
   "outputs": [],
   "source": [
    "def plot_inhibitor(df):\n",
    "    df['INHIBITOR_Updated'] = df['INHIBITOR'].replace(\n",
    "        {\n",
    "            'chx': 'Cycloheximide',\n",
    "            'harr': 'Harringtonine',\n",
    "            'chx_harr': 'Cycloheximide & Harringtonine',\n",
    "            'lactim': 'Lactimidomycin',\n",
    "            'frozen': 'Frozen',\n",
    "            'tunicamycin': 'Tunicamycin',\n",
    "            'anisomycin': 'Anisomycin',\n",
    "            'amikacin': 'Amikacin',\n",
    "            'puro': 'Puromycin',\n",
    "            'chloram': 'Chloramphenicol',\n",
    "            'none': 'None Identified',\n",
    "            'untreated': 'Untreated',\n",
    "        }\n",
    "    )\n",
    "    inhibitor_counts = df['INHIBITOR_Updated'].value_counts().reset_index(name='counts')\n",
    "    accepted_inhibitors = inhibitor_counts['INHIBITOR_Updated'].head(6).tolist()\n",
    "    inhibitor_counts['INHIBITOR_Updated_Other'] = inhibitor_counts['INHIBITOR_Updated'].apply(lambda x: x if x in accepted_inhibitors else 'Other Inhibitors')\n",
    "    inhibitor_counts = inhibitor_counts[inhibitor_counts['INHIBITOR_Updated'] != 'None Identified']\n",
    "\n",
    "    # Move the 'Other Inhibitors' category to the top\n",
    "    other_inhibitors_row = inhibitor_counts[inhibitor_counts['INHIBITOR_Updated_Other'] == 'Other Inhibitors']\n",
    "    inhibitor_counts = inhibitor_counts[inhibitor_counts['INHIBITOR_Updated_Other'] != 'Other Inhibitors']\n",
    "    inhibitor_counts = pd.concat([inhibitor_counts, other_inhibitors_row], ignore_index=True)\n",
    "\n",
    "    # wrap y axis labels\n",
    "    inhibitor_counts['INHIBITOR_Updated_Other'] = inhibitor_counts['INHIBITOR_Updated_Other'].apply(lambda x: '<br>'.join(wrap(x, width=20)))\n",
    "\n",
    "    # Create a go.Bar object\n",
    "    bar_trace = go.Bar(\n",
    "        x=inhibitor_counts['counts'],\n",
    "        y=inhibitor_counts['INHIBITOR_Updated_Other'],\n",
    "        orientation='h'\n",
    "    )\n",
    "\n",
    "    return bar_trace\n"
   ]
  },
  {
   "cell_type": "code",
   "execution_count": 84,
   "metadata": {},
   "outputs": [],
   "source": [
    "def plot_cell_line(df):\n",
    "    df['CELL_LINE'].fillna('None Identified', inplace=True)\n",
    "    accepted_cell_lines = df['CELL_LINE'].value_counts().head(10).index.tolist()\n",
    "    df['CELL_LINE_other'] = df['CELL_LINE'].apply(lambda x: x if x in accepted_cell_lines else 'Other Cell Lines')\n",
    "    cell_line_counts = df['CELL_LINE_other'].value_counts().reset_index(name='counts')\n",
    "    cell_line_counts.columns = ['Cell Line', '# Samples']\n",
    "    cell_line_counts = cell_line_counts[cell_line_counts['Cell Line'] != 'None Identified']\n",
    "\n",
    "    # Move the 'Other Cell Lines' category to the top\n",
    "    other_cell_lines_row = cell_line_counts[cell_line_counts['Cell Line'] == 'Other Cell Lines']\n",
    "    cell_line_counts = cell_line_counts[cell_line_counts['Cell Line'] != 'Other Cell Lines']\n",
    "    cell_line_counts = pd.concat([cell_line_counts, other_cell_lines_row], ignore_index=True)\n",
    "    \n",
    "    # Create a go.Bar object\n",
    "    bar_trace = go.Bar(\n",
    "        x=cell_line_counts['# Samples'],\n",
    "        y=cell_line_counts['Cell Line'],\n",
    "        orientation='h',\n",
    "        name='Cell Line Breakdown'\n",
    "    )\n",
    "\n",
    "    return bar_trace\n"
   ]
  },
  {
   "cell_type": "code",
   "execution_count": 85,
   "metadata": {},
   "outputs": [
    {
     "name": "stderr",
     "output_type": "stream",
     "text": [
      "/tmp/ipykernel_2256505/2937495317.py:2: FutureWarning:\n",
      "\n",
      "A value is trying to be set on a copy of a DataFrame or Series through chained assignment using an inplace method.\n",
      "The behavior will change in pandas 3.0. This inplace method will never work because the intermediate object on which we are setting values always behaves as a copy.\n",
      "\n",
      "For example, when doing 'df[col].method(value, inplace=True)', try using 'df.method({col: value}, inplace=True)' or df[col] = df[col].method(value) instead, to perform the operation inplace on the original object.\n",
      "\n",
      "\n",
      "\n"
     ]
    },
    {
     "data": {
      "text/plain": [
       "Bar({\n",
       "    'name': 'Tissue Breakdown',\n",
       "    'orientation': 'h',\n",
       "    'x': array([1795, 1466, 1043,  419,  408,  398,  370,  361,  345, 3382]),\n",
       "    'y': array(['embryo', 'liver', 'kidney', 'brain', 'leaf', 'ovary', 'whole organism',\n",
       "                'breast', 'lung', 'Other Tissues'], dtype=object)\n",
       "})"
      ]
     },
     "execution_count": 85,
     "metadata": {},
     "output_type": "execute_result"
    }
   ],
   "source": [
    "\n",
    "def plot_tissue(df):\n",
    "    df['TISSUE'].fillna('None Identified', inplace=True)\n",
    "    accepted_tissues = df['TISSUE'].value_counts().head(10).index.tolist()\n",
    "    df['TISSUE_other'] = df['TISSUE'].apply(lambda x: x if x in accepted_tissues else 'Other Tissues')\n",
    "    tissue_counts = df['TISSUE_other'].value_counts().reset_index(name='counts')\n",
    "    tissue_counts.columns = ['Tissue', '# Samples']\n",
    "    tissue_counts = tissue_counts[tissue_counts['Tissue'] != 'None Identified']\n",
    "\n",
    "    # Move the 'Other Tissues' category to the top\n",
    "    other_tissues_row = tissue_counts[tissue_counts['Tissue'] == 'Other Tissues']\n",
    "    tissue_counts = tissue_counts[tissue_counts['Tissue'] != 'Other Tissues']\n",
    "    tissue_counts = pd.concat([tissue_counts, other_tissues_row], ignore_index=True)\n",
    "    \n",
    "    # Create a go.Bar object\n",
    "    bar_trace = go.Bar(\n",
    "        y=tissue_counts['Tissue'],\n",
    "        x=tissue_counts['# Samples'],\n",
    "        orientation='h',\n",
    "        name='Tissue Breakdown'\n",
    "    )\n",
    "\n",
    "    return bar_trace\n",
    "plot_tissue(df)"
   ]
  },
  {
   "cell_type": "code",
   "execution_count": 86,
   "metadata": {},
   "outputs": [
    {
     "name": "stderr",
     "output_type": "stream",
     "text": [
      "/tmp/ipykernel_2256505/299781164.py:9: FutureWarning:\n",
      "\n",
      "A value is trying to be set on a copy of a DataFrame or Series through chained assignment using an inplace method.\n",
      "The behavior will change in pandas 3.0. This inplace method will never work because the intermediate object on which we are setting values always behaves as a copy.\n",
      "\n",
      "For example, when doing 'df[col].method(value, inplace=True)', try using 'df.method({col: value}, inplace=True)' or df[col] = df[col].method(value) instead, to perform the operation inplace on the original object.\n",
      "\n",
      "\n",
      "\n"
     ]
    },
    {
     "data": {
      "text/plain": [
       "Bar({\n",
       "    'name': 'Missing Metadata Entries',\n",
       "    'x': array(['Inhibitor', 'Cell Line', 'Tissue'], dtype=object),\n",
       "    'y': array([10449,  8979,  4853])\n",
       "})"
      ]
     },
     "execution_count": 86,
     "metadata": {},
     "output_type": "execute_result"
    }
   ],
   "source": [
    "import numpy as np\n",
    "import plotly.express as px\n",
    "import numpy as np\n",
    "\n",
    "def plot_missing_metadata(df, columns={'INHIBITOR': \"Inhibitor\", 'CELL_LINE': \"Cell Line\", 'TISSUE': \"Tissue\"}):\n",
    "    df['INHIBITOR'] = df['INHIBITOR'].replace({'none': np.nan})\n",
    "\n",
    "    for col in columns.keys():\n",
    "        df[col].fillna('None Identified', inplace=True)\n",
    "\n",
    "    # get count of None Identified for each column\n",
    "    missing_metadata = df[columns.keys()].apply(lambda x: x == 'None Identified')\n",
    "    missing_metadata = missing_metadata.sum()\n",
    "\n",
    "    # # get as a proportion of total\n",
    "    # missing_metadata = missing_metadata / len(df) * 100\n",
    "\n",
    "    # Create a DataFrame\n",
    "    missing_metadata_df = missing_metadata.reset_index()\n",
    "    missing_metadata_df.columns = ['Metadata Field', 'Percentage of Missing Values']\n",
    "\n",
    "    # update the column names\n",
    "    missing_metadata_df['Metadata Field'] = missing_metadata_df['Metadata Field'].replace(columns)\n",
    "\n",
    "    # Create a go.Bar object\n",
    "    bar_trace = go.Bar(\n",
    "        x=missing_metadata_df['Metadata Field'],\n",
    "        y=missing_metadata_df['Percentage of Missing Values'],\n",
    "        name='Missing Metadata Entries',        \n",
    "    )\n",
    "\n",
    "    return bar_trace\n",
    "\n",
    "plot_missing_metadata(df)\n",
    "\n"
   ]
  },
  {
   "cell_type": "code",
   "execution_count": 87,
   "metadata": {},
   "outputs": [
    {
     "name": "stdout",
     "output_type": "stream",
     "text": [
      "  File Type  Number of Files\n",
      "0       BAM             8017\n",
      "1    BigWig                0\n",
      "2     FASTA                0\n"
     ]
    },
    {
     "data": {
      "text/plain": [
       "Bar({\n",
       "    'name': 'File Existence', 'x': ['FASTA', 'BAM', 'BigWig', 'FASTP', 'FASTQC'], 'y': [14745, 13572, 7890, 13443, 14661]\n",
       "})"
      ]
     },
     "execution_count": 87,
     "metadata": {},
     "output_type": "execute_result"
    }
   ],
   "source": [
    "file_existence_df = pd.read_csv('data/file_existence_20_03_24.csv')\n",
    "\n",
    "def plot_file_existence(file_existence_df, columns={'bam_exists':\"BAM\", 'bigwig_exists':\"BigWig\", 'fasta_exists': \"FASTA\"}):\n",
    "    # Create a go.Bar object\n",
    "\n",
    "    file_existence_df = file_existence_df[columns.keys()]\n",
    "    \n",
    "    file_existence_counts = file_existence_df.sum().reset_index()\n",
    "    \n",
    "    file_existence_counts.columns = ['File Type', 'Number of Files']\n",
    "\n",
    "    file_existence_counts['File Type'] = file_existence_counts['File Type'].replace(columns)\n",
    "    print(file_existence_counts)\n",
    "    # FASTA 14745\n",
    "    # BAM 13572\n",
    "    # BigWig 7890\n",
    "    # fastp 13443\n",
    "    # fastqc 14661\n",
    "\n",
    "    data = {\n",
    "        'File Type': ['FASTA', 'BAM', 'BigWig', 'FASTP', 'FASTQC'],\n",
    "        'Number of Files': [14745, 13572, 7890, 13443, 14661]\n",
    "    }\n",
    "    bar_trace = go.Bar(\n",
    "        x=data['File Type'],\n",
    "        y=data['Number of Files'],\n",
    "        name='File Existence'\n",
    "    )\n",
    "    return bar_trace\n",
    "\n",
    "plot_file_existence(file_existence_df)"
   ]
  },
  {
   "cell_type": "code",
   "execution_count": 88,
   "metadata": {},
   "outputs": [
    {
     "data": {
      "text/html": [
       "<div>\n",
       "<style scoped>\n",
       "    .dataframe tbody tr th:only-of-type {\n",
       "        vertical-align: middle;\n",
       "    }\n",
       "\n",
       "    .dataframe tbody tr th {\n",
       "        vertical-align: top;\n",
       "    }\n",
       "\n",
       "    .dataframe thead th {\n",
       "        text-align: right;\n",
       "    }\n",
       "</style>\n",
       "<table border=\"1\" class=\"dataframe\">\n",
       "  <thead>\n",
       "    <tr style=\"text-align: right;\">\n",
       "      <th></th>\n",
       "      <th>Run</th>\n",
       "      <th>spots</th>\n",
       "      <th>bases</th>\n",
       "      <th>avgLength</th>\n",
       "      <th>size_MB</th>\n",
       "      <th>LibraryName</th>\n",
       "      <th>LibraryStrategy</th>\n",
       "      <th>LibrarySelection</th>\n",
       "      <th>LibrarySource</th>\n",
       "      <th>LibraryLayout</th>\n",
       "      <th>...</th>\n",
       "      <th>UMI</th>\n",
       "      <th>Adapter</th>\n",
       "      <th>Separation</th>\n",
       "      <th>rRNA_depletion</th>\n",
       "      <th>Barcode</th>\n",
       "      <th>Monosome_purification</th>\n",
       "      <th>Nuclease</th>\n",
       "      <th>Kit</th>\n",
       "      <th>Info</th>\n",
       "      <th>TISSUE_other</th>\n",
       "    </tr>\n",
       "  </thead>\n",
       "  <tbody>\n",
       "    <tr>\n",
       "      <th>0</th>\n",
       "      <td>DRR244662</td>\n",
       "      <td>50599092</td>\n",
       "      <td>3845530992</td>\n",
       "      <td>76.0</td>\n",
       "      <td>1273</td>\n",
       "      <td>Ribosome profiling</td>\n",
       "      <td>RNA-Seq</td>\n",
       "      <td>RANDOM</td>\n",
       "      <td>TRANSCRIPTOMIC</td>\n",
       "      <td>SINGLE</td>\n",
       "      <td>...</td>\n",
       "      <td>NaN</td>\n",
       "      <td>NaN</td>\n",
       "      <td>NaN</td>\n",
       "      <td>NaN</td>\n",
       "      <td>NaN</td>\n",
       "      <td>NaN</td>\n",
       "      <td>NaN</td>\n",
       "      <td>NaN</td>\n",
       "      <td>AT01_NoTrim_S1_R1_001</td>\n",
       "      <td>None Identified</td>\n",
       "    </tr>\n",
       "    <tr>\n",
       "      <th>1</th>\n",
       "      <td>DRR244663</td>\n",
       "      <td>50768935</td>\n",
       "      <td>3858439060</td>\n",
       "      <td>76.0</td>\n",
       "      <td>1269</td>\n",
       "      <td>Ribosome profiling</td>\n",
       "      <td>RNA-Seq</td>\n",
       "      <td>RANDOM</td>\n",
       "      <td>TRANSCRIPTOMIC</td>\n",
       "      <td>SINGLE</td>\n",
       "      <td>...</td>\n",
       "      <td>NaN</td>\n",
       "      <td>NaN</td>\n",
       "      <td>NaN</td>\n",
       "      <td>NaN</td>\n",
       "      <td>NaN</td>\n",
       "      <td>NaN</td>\n",
       "      <td>NaN</td>\n",
       "      <td>NaN</td>\n",
       "      <td>AT02_NoTrim_S2_R1_001</td>\n",
       "      <td>embryo</td>\n",
       "    </tr>\n",
       "    <tr>\n",
       "      <th>2</th>\n",
       "      <td>DRR255640</td>\n",
       "      <td>53029459</td>\n",
       "      <td>1837645023</td>\n",
       "      <td>34.0</td>\n",
       "      <td>792</td>\n",
       "      <td>NaN</td>\n",
       "      <td>RNA-Seq</td>\n",
       "      <td>size fractionation</td>\n",
       "      <td>TRANSCRIPTOMIC</td>\n",
       "      <td>SINGLE</td>\n",
       "      <td>...</td>\n",
       "      <td>NaN</td>\n",
       "      <td>NaN</td>\n",
       "      <td>NaN</td>\n",
       "      <td>NaN</td>\n",
       "      <td>NaN</td>\n",
       "      <td>NaN</td>\n",
       "      <td>NaN</td>\n",
       "      <td>NaN</td>\n",
       "      <td>Ribo-seq_WT_rep1_Ribosome footprints</td>\n",
       "      <td>None Identified</td>\n",
       "    </tr>\n",
       "    <tr>\n",
       "      <th>3</th>\n",
       "      <td>DRR255641</td>\n",
       "      <td>60864576</td>\n",
       "      <td>2145161510</td>\n",
       "      <td>35.0</td>\n",
       "      <td>874</td>\n",
       "      <td>NaN</td>\n",
       "      <td>RNA-Seq</td>\n",
       "      <td>size fractionation</td>\n",
       "      <td>TRANSCRIPTOMIC</td>\n",
       "      <td>SINGLE</td>\n",
       "      <td>...</td>\n",
       "      <td>NaN</td>\n",
       "      <td>NaN</td>\n",
       "      <td>NaN</td>\n",
       "      <td>NaN</td>\n",
       "      <td>NaN</td>\n",
       "      <td>NaN</td>\n",
       "      <td>NaN</td>\n",
       "      <td>NaN</td>\n",
       "      <td>Ribo-seq_WT_rep2_Ribosome footprints</td>\n",
       "      <td>None Identified</td>\n",
       "    </tr>\n",
       "    <tr>\n",
       "      <th>4</th>\n",
       "      <td>DRR255642</td>\n",
       "      <td>55434616</td>\n",
       "      <td>1923586815</td>\n",
       "      <td>34.0</td>\n",
       "      <td>828</td>\n",
       "      <td>NaN</td>\n",
       "      <td>RNA-Seq</td>\n",
       "      <td>size fractionation</td>\n",
       "      <td>TRANSCRIPTOMIC</td>\n",
       "      <td>SINGLE</td>\n",
       "      <td>...</td>\n",
       "      <td>NaN</td>\n",
       "      <td>NaN</td>\n",
       "      <td>NaN</td>\n",
       "      <td>NaN</td>\n",
       "      <td>NaN</td>\n",
       "      <td>NaN</td>\n",
       "      <td>NaN</td>\n",
       "      <td>NaN</td>\n",
       "      <td>Ribo-seq_pgr3-1_rep1_Ribosome footprints</td>\n",
       "      <td>None Identified</td>\n",
       "    </tr>\n",
       "    <tr>\n",
       "      <th>...</th>\n",
       "      <td>...</td>\n",
       "      <td>...</td>\n",
       "      <td>...</td>\n",
       "      <td>...</td>\n",
       "      <td>...</td>\n",
       "      <td>...</td>\n",
       "      <td>...</td>\n",
       "      <td>...</td>\n",
       "      <td>...</td>\n",
       "      <td>...</td>\n",
       "      <td>...</td>\n",
       "      <td>...</td>\n",
       "      <td>...</td>\n",
       "      <td>...</td>\n",
       "      <td>...</td>\n",
       "      <td>...</td>\n",
       "      <td>...</td>\n",
       "      <td>...</td>\n",
       "      <td>...</td>\n",
       "      <td>...</td>\n",
       "      <td>...</td>\n",
       "    </tr>\n",
       "    <tr>\n",
       "      <th>14835</th>\n",
       "      <td>SRR2046322</td>\n",
       "      <td>75966776</td>\n",
       "      <td>3798338800</td>\n",
       "      <td>50.0</td>\n",
       "      <td>2407</td>\n",
       "      <td>NaN</td>\n",
       "      <td>RNA-Seq</td>\n",
       "      <td>cDNA</td>\n",
       "      <td>TRANSCRIPTOMIC</td>\n",
       "      <td>SINGLE</td>\n",
       "      <td>...</td>\n",
       "      <td>NaN</td>\n",
       "      <td>NaN</td>\n",
       "      <td>NaN</td>\n",
       "      <td>NaN</td>\n",
       "      <td>NaN</td>\n",
       "      <td>NaN</td>\n",
       "      <td>NaN</td>\n",
       "      <td>NaN</td>\n",
       "      <td>Whole cells</td>\n",
       "      <td>None Identified</td>\n",
       "    </tr>\n",
       "    <tr>\n",
       "      <th>14836</th>\n",
       "      <td>SRR16230267</td>\n",
       "      <td>69692737</td>\n",
       "      <td>5575418960</td>\n",
       "      <td>80.0</td>\n",
       "      <td>2065</td>\n",
       "      <td>NaN</td>\n",
       "      <td>OTHER</td>\n",
       "      <td>other</td>\n",
       "      <td>TRANSCRIPTOMIC</td>\n",
       "      <td>SINGLE</td>\n",
       "      <td>...</td>\n",
       "      <td>NaN</td>\n",
       "      <td>NaN</td>\n",
       "      <td>NaN</td>\n",
       "      <td>NaN</td>\n",
       "      <td>NaN</td>\n",
       "      <td>NaN</td>\n",
       "      <td>NaN</td>\n",
       "      <td>NaN</td>\n",
       "      <td>Kasumi-1</td>\n",
       "      <td>None Identified</td>\n",
       "    </tr>\n",
       "    <tr>\n",
       "      <th>14837</th>\n",
       "      <td>SRR16230268</td>\n",
       "      <td>74742995</td>\n",
       "      <td>5979439600</td>\n",
       "      <td>80.0</td>\n",
       "      <td>2179</td>\n",
       "      <td>NaN</td>\n",
       "      <td>OTHER</td>\n",
       "      <td>other</td>\n",
       "      <td>TRANSCRIPTOMIC</td>\n",
       "      <td>SINGLE</td>\n",
       "      <td>...</td>\n",
       "      <td>NaN</td>\n",
       "      <td>NaN</td>\n",
       "      <td>NaN</td>\n",
       "      <td>NaN</td>\n",
       "      <td>NaN</td>\n",
       "      <td>NaN</td>\n",
       "      <td>NaN</td>\n",
       "      <td>NaN</td>\n",
       "      <td>Kasumi-1</td>\n",
       "      <td>None Identified</td>\n",
       "    </tr>\n",
       "    <tr>\n",
       "      <th>14838</th>\n",
       "      <td>SRR16230269</td>\n",
       "      <td>54227777</td>\n",
       "      <td>4338222160</td>\n",
       "      <td>80.0</td>\n",
       "      <td>1558</td>\n",
       "      <td>NaN</td>\n",
       "      <td>OTHER</td>\n",
       "      <td>other</td>\n",
       "      <td>TRANSCRIPTOMIC</td>\n",
       "      <td>SINGLE</td>\n",
       "      <td>...</td>\n",
       "      <td>NaN</td>\n",
       "      <td>NaN</td>\n",
       "      <td>NaN</td>\n",
       "      <td>NaN</td>\n",
       "      <td>NaN</td>\n",
       "      <td>NaN</td>\n",
       "      <td>NaN</td>\n",
       "      <td>NaN</td>\n",
       "      <td>Kasumi-1</td>\n",
       "      <td>None Identified</td>\n",
       "    </tr>\n",
       "    <tr>\n",
       "      <th>14839</th>\n",
       "      <td>SRR16230270</td>\n",
       "      <td>48872600</td>\n",
       "      <td>3909808000</td>\n",
       "      <td>80.0</td>\n",
       "      <td>1436</td>\n",
       "      <td>NaN</td>\n",
       "      <td>OTHER</td>\n",
       "      <td>other</td>\n",
       "      <td>TRANSCRIPTOMIC</td>\n",
       "      <td>SINGLE</td>\n",
       "      <td>...</td>\n",
       "      <td>NaN</td>\n",
       "      <td>NaN</td>\n",
       "      <td>NaN</td>\n",
       "      <td>NaN</td>\n",
       "      <td>NaN</td>\n",
       "      <td>NaN</td>\n",
       "      <td>NaN</td>\n",
       "      <td>NaN</td>\n",
       "      <td>Kasumi-1</td>\n",
       "      <td>None Identified</td>\n",
       "    </tr>\n",
       "  </tbody>\n",
       "</table>\n",
       "<p>14840 rows × 74 columns</p>\n",
       "</div>"
      ],
      "text/plain": [
       "               Run     spots       bases  avgLength  size_MB  \\\n",
       "0        DRR244662  50599092  3845530992       76.0     1273   \n",
       "1        DRR244663  50768935  3858439060       76.0     1269   \n",
       "2        DRR255640  53029459  1837645023       34.0      792   \n",
       "3        DRR255641  60864576  2145161510       35.0      874   \n",
       "4        DRR255642  55434616  1923586815       34.0      828   \n",
       "...            ...       ...         ...        ...      ...   \n",
       "14835   SRR2046322  75966776  3798338800       50.0     2407   \n",
       "14836  SRR16230267  69692737  5575418960       80.0     2065   \n",
       "14837  SRR16230268  74742995  5979439600       80.0     2179   \n",
       "14838  SRR16230269  54227777  4338222160       80.0     1558   \n",
       "14839  SRR16230270  48872600  3909808000       80.0     1436   \n",
       "\n",
       "              LibraryName LibraryStrategy    LibrarySelection   LibrarySource  \\\n",
       "0      Ribosome profiling         RNA-Seq              RANDOM  TRANSCRIPTOMIC   \n",
       "1      Ribosome profiling         RNA-Seq              RANDOM  TRANSCRIPTOMIC   \n",
       "2                     NaN         RNA-Seq  size fractionation  TRANSCRIPTOMIC   \n",
       "3                     NaN         RNA-Seq  size fractionation  TRANSCRIPTOMIC   \n",
       "4                     NaN         RNA-Seq  size fractionation  TRANSCRIPTOMIC   \n",
       "...                   ...             ...                 ...             ...   \n",
       "14835                 NaN         RNA-Seq                cDNA  TRANSCRIPTOMIC   \n",
       "14836                 NaN           OTHER               other  TRANSCRIPTOMIC   \n",
       "14837                 NaN           OTHER               other  TRANSCRIPTOMIC   \n",
       "14838                 NaN           OTHER               other  TRANSCRIPTOMIC   \n",
       "14839                 NaN           OTHER               other  TRANSCRIPTOMIC   \n",
       "\n",
       "      LibraryLayout  ...  UMI  Adapter Separation rRNA_depletion Barcode  \\\n",
       "0            SINGLE  ...  NaN      NaN        NaN            NaN     NaN   \n",
       "1            SINGLE  ...  NaN      NaN        NaN            NaN     NaN   \n",
       "2            SINGLE  ...  NaN      NaN        NaN            NaN     NaN   \n",
       "3            SINGLE  ...  NaN      NaN        NaN            NaN     NaN   \n",
       "4            SINGLE  ...  NaN      NaN        NaN            NaN     NaN   \n",
       "...             ...  ...  ...      ...        ...            ...     ...   \n",
       "14835        SINGLE  ...  NaN      NaN        NaN            NaN     NaN   \n",
       "14836        SINGLE  ...  NaN      NaN        NaN            NaN     NaN   \n",
       "14837        SINGLE  ...  NaN      NaN        NaN            NaN     NaN   \n",
       "14838        SINGLE  ...  NaN      NaN        NaN            NaN     NaN   \n",
       "14839        SINGLE  ...  NaN      NaN        NaN            NaN     NaN   \n",
       "\n",
       "      Monosome_purification  Nuclease  Kit  \\\n",
       "0                       NaN       NaN  NaN   \n",
       "1                       NaN       NaN  NaN   \n",
       "2                       NaN       NaN  NaN   \n",
       "3                       NaN       NaN  NaN   \n",
       "4                       NaN       NaN  NaN   \n",
       "...                     ...       ...  ...   \n",
       "14835                   NaN       NaN  NaN   \n",
       "14836                   NaN       NaN  NaN   \n",
       "14837                   NaN       NaN  NaN   \n",
       "14838                   NaN       NaN  NaN   \n",
       "14839                   NaN       NaN  NaN   \n",
       "\n",
       "                                           Info     TISSUE_other  \n",
       "0                         AT01_NoTrim_S1_R1_001  None Identified  \n",
       "1                         AT02_NoTrim_S2_R1_001           embryo  \n",
       "2          Ribo-seq_WT_rep1_Ribosome footprints  None Identified  \n",
       "3          Ribo-seq_WT_rep2_Ribosome footprints  None Identified  \n",
       "4      Ribo-seq_pgr3-1_rep1_Ribosome footprints  None Identified  \n",
       "...                                         ...              ...  \n",
       "14835                               Whole cells  None Identified  \n",
       "14836                                  Kasumi-1  None Identified  \n",
       "14837                                  Kasumi-1  None Identified  \n",
       "14838                                  Kasumi-1  None Identified  \n",
       "14839                                  Kasumi-1  None Identified  \n",
       "\n",
       "[14840 rows x 74 columns]"
      ]
     },
     "execution_count": 88,
     "metadata": {},
     "output_type": "execute_result"
    }
   ],
   "source": [
    "df"
   ]
  },
  {
   "cell_type": "code",
   "execution_count": 89,
   "metadata": {},
   "outputs": [
    {
     "name": "stdout",
     "output_type": "stream",
     "text": [
      "  File Type  Number of Files\n",
      "0       BAM             8017\n",
      "1    BigWig                0\n",
      "2     FASTA                0\n"
     ]
    },
    {
     "name": "stderr",
     "output_type": "stream",
     "text": [
      "/tmp/ipykernel_2256505/2937495317.py:2: FutureWarning:\n",
      "\n",
      "A value is trying to be set on a copy of a DataFrame or Series through chained assignment using an inplace method.\n",
      "The behavior will change in pandas 3.0. This inplace method will never work because the intermediate object on which we are setting values always behaves as a copy.\n",
      "\n",
      "For example, when doing 'df[col].method(value, inplace=True)', try using 'df.method({col: value}, inplace=True)' or df[col] = df[col].method(value) instead, to perform the operation inplace on the original object.\n",
      "\n",
      "\n",
      "\n",
      "/tmp/ipykernel_2256505/2305134099.py:2: FutureWarning:\n",
      "\n",
      "A value is trying to be set on a copy of a DataFrame or Series through chained assignment using an inplace method.\n",
      "The behavior will change in pandas 3.0. This inplace method will never work because the intermediate object on which we are setting values always behaves as a copy.\n",
      "\n",
      "For example, when doing 'df[col].method(value, inplace=True)', try using 'df.method({col: value}, inplace=True)' or df[col] = df[col].method(value) instead, to perform the operation inplace on the original object.\n",
      "\n",
      "\n",
      "\n",
      "/tmp/ipykernel_2256505/299781164.py:9: FutureWarning:\n",
      "\n",
      "A value is trying to be set on a copy of a DataFrame or Series through chained assignment using an inplace method.\n",
      "The behavior will change in pandas 3.0. This inplace method will never work because the intermediate object on which we are setting values always behaves as a copy.\n",
      "\n",
      "For example, when doing 'df[col].method(value, inplace=True)', try using 'df.method({col: value}, inplace=True)' or df[col] = df[col].method(value) instead, to perform the operation inplace on the original object.\n",
      "\n",
      "\n",
      "\n"
     ]
    },
    {
     "data": {
      "application/vnd.plotly.v1+json": {
       "config": {
        "plotlyServerURL": "https://plot.ly"
       },
       "data": [
        {
         "name": "Organism Breakdown",
         "orientation": "h",
         "type": "bar",
         "x": [
          4188,
          4071,
          2032,
          705,
          540,
          374,
          365,
          282,
          181,
          156,
          136,
          133,
          115,
          94,
          78,
          77,
          62,
          60,
          59,
          53,
          51,
          41,
          40,
          36,
          35,
          33,
          32,
          28,
          28,
          27,
          24,
          22,
          21,
          20,
          20,
          19,
          18,
          16,
          16,
          16,
          16,
          16,
          14,
          12,
          12,
          12,
          12,
          12,
          12,
          12,
          12,
          12,
          11,
          11,
          10,
          10,
          10,
          10,
          10,
          10,
          10,
          9,
          9,
          9,
          9,
          8,
          8,
          8,
          8,
          8,
          7,
          6,
          6,
          6,
          6,
          6,
          6,
          6,
          6,
          6,
          6,
          6,
          6,
          6,
          6,
          5,
          5,
          5,
          4,
          4,
          4,
          4,
          4,
          4,
          4,
          4,
          4,
          4,
          4,
          4,
          4,
          4,
          4,
          4,
          3,
          3,
          3,
          3,
          2,
          2,
          2,
          2,
          2,
          2,
          2,
          2,
          2,
          2,
          2,
          2,
          2,
          2,
          1,
          1,
          1,
          1
         ],
         "xaxis": "x",
         "y": [
          "Homo sapiens",
          "Mus musculus",
          "Saccharomyces cerevisiae",
          "Danio rerio",
          "Escherichia coli",
          "Other Organisms",
          "Other Organisms",
          "Other Organisms",
          "Other Organisms",
          "Other Organisms",
          "Other Organisms",
          "Other Organisms",
          "Other Organisms",
          "Other Organisms",
          "Other Organisms",
          "Other Organisms",
          "Other Organisms",
          "Other Organisms",
          "Other Organisms",
          "Other Organisms",
          "Other Organisms",
          "Other Organisms",
          "Other Organisms",
          "Other Organisms",
          "Other Organisms",
          "Other Organisms",
          "Other Organisms",
          "Other Organisms",
          "Other Organisms",
          "Other Organisms",
          "Other Organisms",
          "Other Organisms",
          "Other Organisms",
          "Other Organisms",
          "Other Organisms",
          "Other Organisms",
          "Other Organisms",
          "Other Organisms",
          "Other Organisms",
          "Other Organisms",
          "Other Organisms",
          "Other Organisms",
          "Other Organisms",
          "Other Organisms",
          "Other Organisms",
          "Other Organisms",
          "Other Organisms",
          "Other Organisms",
          "Other Organisms",
          "Other Organisms",
          "Other Organisms",
          "Other Organisms",
          "Other Organisms",
          "Other Organisms",
          "Other Organisms",
          "Other Organisms",
          "Other Organisms",
          "Other Organisms",
          "Other Organisms",
          "Other Organisms",
          "Other Organisms",
          "Other Organisms",
          "Other Organisms",
          "Other Organisms",
          "Other Organisms",
          "Other Organisms",
          "Other Organisms",
          "Other Organisms",
          "Other Organisms",
          "Other Organisms",
          "Other Organisms",
          "Other Organisms",
          "Other Organisms",
          "Other Organisms",
          "Other Organisms",
          "Other Organisms",
          "Other Organisms",
          "Other Organisms",
          "Other Organisms",
          "Other Organisms",
          "Other Organisms",
          "Other Organisms",
          "Other Organisms",
          "Other Organisms",
          "Other Organisms",
          "Other Organisms",
          "Other Organisms",
          "Other Organisms",
          "Other Organisms",
          "Other Organisms",
          "Other Organisms",
          "Other Organisms",
          "Other Organisms",
          "Other Organisms",
          "Other Organisms",
          "Other Organisms",
          "Other Organisms",
          "Other Organisms",
          "Other Organisms",
          "Other Organisms",
          "Other Organisms",
          "Other Organisms",
          "Other Organisms",
          "Other Organisms",
          "Other Organisms",
          "Other Organisms",
          "Other Organisms",
          "Other Organisms",
          "Other Organisms",
          "Other Organisms",
          "Other Organisms",
          "Other Organisms",
          "Other Organisms",
          "Other Organisms",
          "Other Organisms",
          "Other Organisms",
          "Other Organisms",
          "Other Organisms",
          "Other Organisms",
          "Other Organisms",
          "Other Organisms",
          "Other Organisms",
          "Other Organisms",
          "Other Organisms",
          "Other Organisms",
          "Other Organisms"
         ],
         "yaxis": "y"
        },
        {
         "orientation": "h",
         "type": "bar",
         "x": [
          858,
          240,
          152,
          87,
          82,
          60,
          50,
          42,
          37,
          32,
          32,
          32,
          29,
          26,
          24,
          23,
          23,
          22,
          22,
          21,
          20,
          20,
          20,
          19,
          19,
          19,
          18,
          18,
          18,
          18,
          17,
          17,
          17,
          16,
          16,
          16,
          15,
          15,
          15,
          14,
          14,
          13,
          13,
          13,
          12,
          12,
          12,
          12,
          12,
          12,
          12,
          12,
          12,
          12,
          12,
          12,
          12,
          12,
          12,
          12,
          11,
          11,
          11,
          10,
          10,
          10,
          10,
          10,
          10,
          10,
          10,
          10,
          9,
          9,
          9,
          9,
          9,
          8,
          8,
          8,
          8,
          8,
          8,
          8,
          8,
          8,
          8,
          8,
          8,
          8,
          8,
          8,
          8,
          8,
          8,
          8,
          8,
          8,
          8,
          7,
          7,
          7,
          7,
          7,
          7,
          7,
          7,
          6,
          6,
          6,
          6,
          6,
          6,
          6,
          6,
          6,
          6,
          6,
          6,
          6,
          6,
          6,
          6,
          6,
          6,
          6,
          6,
          6,
          6,
          6,
          6,
          6,
          6,
          6,
          6,
          6,
          6,
          6,
          6,
          6,
          6,
          6,
          6,
          6,
          6,
          6,
          6,
          6,
          6,
          6,
          6,
          6,
          6,
          6,
          6,
          6,
          6,
          5,
          5,
          5,
          5,
          5,
          5,
          5,
          5,
          5,
          5,
          5,
          5,
          5,
          5,
          5,
          5,
          5,
          5,
          5,
          4,
          4,
          4,
          4,
          4,
          4,
          4,
          4,
          4,
          4,
          4,
          4,
          4,
          4,
          4,
          4,
          4,
          4,
          4,
          4,
          4,
          4,
          4,
          4,
          4,
          4,
          4,
          4,
          4,
          4,
          4,
          4,
          4,
          4,
          4,
          4,
          4,
          4,
          4,
          4,
          4,
          4,
          4,
          4,
          4,
          4,
          4,
          4,
          4,
          4,
          4,
          4,
          4,
          4,
          4,
          4,
          4,
          4,
          4,
          4,
          4,
          4,
          4,
          4,
          4,
          4,
          4,
          4,
          4,
          4,
          4,
          4,
          4,
          4,
          4,
          4,
          4,
          4,
          4,
          4,
          4,
          4,
          4,
          4,
          4,
          4,
          3,
          3,
          3,
          3,
          3,
          3,
          3,
          3,
          3,
          3,
          3,
          3,
          3,
          3,
          3,
          3,
          3,
          3,
          3,
          3,
          3,
          3,
          3,
          3,
          3,
          3,
          3,
          3,
          3,
          3,
          3,
          3,
          3,
          3,
          3,
          3,
          3,
          3,
          3,
          3,
          3,
          3,
          3,
          3,
          3,
          3,
          3,
          3,
          3,
          3,
          3,
          3,
          3,
          3,
          3,
          3,
          3,
          3,
          3,
          3,
          3,
          3,
          3,
          3,
          3,
          3,
          3,
          3,
          3,
          3,
          3,
          3,
          3,
          3,
          3,
          3,
          3,
          3,
          3,
          3,
          3,
          3,
          3,
          3,
          3,
          3,
          3,
          3,
          3,
          3,
          3,
          3,
          3,
          3,
          3,
          2,
          2,
          2,
          2,
          2,
          2,
          2,
          2,
          2,
          2,
          2,
          2,
          2,
          2,
          2,
          2,
          2,
          2,
          2,
          2,
          2,
          2,
          2,
          2,
          2,
          2,
          2,
          2,
          2,
          2,
          2,
          2,
          2,
          2,
          2,
          2,
          2,
          2,
          2,
          2,
          2,
          2,
          2,
          2,
          2,
          2,
          2,
          2,
          2,
          2,
          2,
          2,
          2,
          2,
          2,
          2,
          2,
          2,
          2,
          2,
          2,
          2,
          2,
          2,
          2,
          2,
          2,
          2,
          2,
          2,
          2,
          2,
          2,
          2,
          2,
          2,
          2,
          2,
          2,
          2,
          2,
          2,
          2,
          2,
          2,
          2,
          2,
          2,
          2,
          2,
          2,
          2,
          2,
          2,
          2,
          2,
          2,
          2,
          2,
          2,
          2,
          2,
          2,
          2,
          2,
          2,
          2,
          2,
          2,
          2,
          2,
          2,
          2,
          2,
          2,
          2,
          2,
          2,
          2,
          2,
          2,
          2,
          2,
          2,
          2,
          2,
          2,
          2,
          2,
          2,
          2,
          2,
          2,
          2,
          2,
          2,
          2,
          2,
          2,
          2,
          2,
          2,
          2,
          2,
          2,
          2,
          2,
          2,
          2,
          2,
          2,
          2,
          2,
          2,
          2,
          2,
          2,
          2,
          2,
          2,
          2,
          2,
          2,
          2,
          2,
          2,
          2,
          2,
          2,
          2,
          2,
          2,
          2,
          2,
          1,
          1,
          1,
          1,
          1,
          1,
          1,
          1,
          1,
          1,
          1,
          1,
          1,
          1,
          1,
          1,
          1,
          1,
          1,
          1,
          1,
          1,
          1,
          1,
          1,
          1,
          1,
          1,
          1,
          1,
          1,
          1,
          1,
          1,
          1,
          1,
          1,
          1,
          1,
          1,
          1,
          1,
          1,
          1,
          1,
          1,
          1,
          1,
          1,
          1,
          1,
          1,
          1,
          1,
          1,
          1,
          1,
          1,
          1,
          1,
          1,
          1,
          1,
          1,
          1,
          1,
          1,
          1,
          1,
          1,
          1,
          1,
          1,
          1,
          1,
          1,
          1,
          1,
          1,
          1,
          1,
          1,
          1,
          1,
          1,
          1,
          1,
          1,
          1,
          1,
          1,
          1,
          1,
          1,
          1,
          1,
          1,
          1,
          1,
          1,
          1,
          1,
          1,
          1,
          1,
          1,
          1,
          1,
          1,
          1,
          1,
          1,
          1,
          1,
          1,
          1,
          1,
          1,
          1,
          1,
          1,
          1,
          1,
          1,
          1,
          1,
          1,
          1,
          1,
          1,
          1,
          1,
          1
         ],
         "xaxis": "x2",
         "y": [
          "Cycloheximide",
          "Untreated",
          "Harringtonine",
          "Cycloheximide &<br>Harringtonine",
          "DMSO",
          "Other Inhibitors",
          "Other Inhibitors",
          "Other Inhibitors",
          "Other Inhibitors",
          "Other Inhibitors",
          "Other Inhibitors",
          "Other Inhibitors",
          "Other Inhibitors",
          "Other Inhibitors",
          "Other Inhibitors",
          "Other Inhibitors",
          "Other Inhibitors",
          "Other Inhibitors",
          "Other Inhibitors",
          "Other Inhibitors",
          "Other Inhibitors",
          "Other Inhibitors",
          "Other Inhibitors",
          "Other Inhibitors",
          "Other Inhibitors",
          "Other Inhibitors",
          "Other Inhibitors",
          "Other Inhibitors",
          "Other Inhibitors",
          "Other Inhibitors",
          "Other Inhibitors",
          "Other Inhibitors",
          "Other Inhibitors",
          "Other Inhibitors",
          "Other Inhibitors",
          "Other Inhibitors",
          "Other Inhibitors",
          "Other Inhibitors",
          "Other Inhibitors",
          "Other Inhibitors",
          "Other Inhibitors",
          "Other Inhibitors",
          "Other Inhibitors",
          "Other Inhibitors",
          "Other Inhibitors",
          "Other Inhibitors",
          "Other Inhibitors",
          "Other Inhibitors",
          "Other Inhibitors",
          "Other Inhibitors",
          "Other Inhibitors",
          "Other Inhibitors",
          "Other Inhibitors",
          "Other Inhibitors",
          "Other Inhibitors",
          "Other Inhibitors",
          "Other Inhibitors",
          "Other Inhibitors",
          "Other Inhibitors",
          "Other Inhibitors",
          "Other Inhibitors",
          "Other Inhibitors",
          "Other Inhibitors",
          "Other Inhibitors",
          "Other Inhibitors",
          "Other Inhibitors",
          "Other Inhibitors",
          "Other Inhibitors",
          "Other Inhibitors",
          "Other Inhibitors",
          "Other Inhibitors",
          "Other Inhibitors",
          "Other Inhibitors",
          "Other Inhibitors",
          "Other Inhibitors",
          "Other Inhibitors",
          "Other Inhibitors",
          "Other Inhibitors",
          "Other Inhibitors",
          "Other Inhibitors",
          "Other Inhibitors",
          "Other Inhibitors",
          "Other Inhibitors",
          "Other Inhibitors",
          "Other Inhibitors",
          "Other Inhibitors",
          "Other Inhibitors",
          "Other Inhibitors",
          "Other Inhibitors",
          "Other Inhibitors",
          "Other Inhibitors",
          "Other Inhibitors",
          "Other Inhibitors",
          "Other Inhibitors",
          "Other Inhibitors",
          "Other Inhibitors",
          "Other Inhibitors",
          "Other Inhibitors",
          "Other Inhibitors",
          "Other Inhibitors",
          "Other Inhibitors",
          "Other Inhibitors",
          "Other Inhibitors",
          "Other Inhibitors",
          "Other Inhibitors",
          "Other Inhibitors",
          "Other Inhibitors",
          "Other Inhibitors",
          "Other Inhibitors",
          "Other Inhibitors",
          "Other Inhibitors",
          "Other Inhibitors",
          "Other Inhibitors",
          "Other Inhibitors",
          "Other Inhibitors",
          "Other Inhibitors",
          "Other Inhibitors",
          "Other Inhibitors",
          "Other Inhibitors",
          "Other Inhibitors",
          "Other Inhibitors",
          "Other Inhibitors",
          "Other Inhibitors",
          "Other Inhibitors",
          "Other Inhibitors",
          "Other Inhibitors",
          "Other Inhibitors",
          "Other Inhibitors",
          "Other Inhibitors",
          "Other Inhibitors",
          "Other Inhibitors",
          "Other Inhibitors",
          "Other Inhibitors",
          "Other Inhibitors",
          "Other Inhibitors",
          "Other Inhibitors",
          "Other Inhibitors",
          "Other Inhibitors",
          "Other Inhibitors",
          "Other Inhibitors",
          "Other Inhibitors",
          "Other Inhibitors",
          "Other Inhibitors",
          "Other Inhibitors",
          "Other Inhibitors",
          "Other Inhibitors",
          "Other Inhibitors",
          "Other Inhibitors",
          "Other Inhibitors",
          "Other Inhibitors",
          "Other Inhibitors",
          "Other Inhibitors",
          "Other Inhibitors",
          "Other Inhibitors",
          "Other Inhibitors",
          "Other Inhibitors",
          "Other Inhibitors",
          "Other Inhibitors",
          "Other Inhibitors",
          "Other Inhibitors",
          "Other Inhibitors",
          "Other Inhibitors",
          "Other Inhibitors",
          "Other Inhibitors",
          "Other Inhibitors",
          "Other Inhibitors",
          "Other Inhibitors",
          "Other Inhibitors",
          "Other Inhibitors",
          "Other Inhibitors",
          "Other Inhibitors",
          "Other Inhibitors",
          "Other Inhibitors",
          "Other Inhibitors",
          "Other Inhibitors",
          "Other Inhibitors",
          "Other Inhibitors",
          "Other Inhibitors",
          "Other Inhibitors",
          "Other Inhibitors",
          "Other Inhibitors",
          "Other Inhibitors",
          "Other Inhibitors",
          "Other Inhibitors",
          "Other Inhibitors",
          "Other Inhibitors",
          "Other Inhibitors",
          "Other Inhibitors",
          "Other Inhibitors",
          "Other Inhibitors",
          "Other Inhibitors",
          "Other Inhibitors",
          "Other Inhibitors",
          "Other Inhibitors",
          "Other Inhibitors",
          "Other Inhibitors",
          "Other Inhibitors",
          "Other Inhibitors",
          "Other Inhibitors",
          "Other Inhibitors",
          "Other Inhibitors",
          "Other Inhibitors",
          "Other Inhibitors",
          "Other Inhibitors",
          "Other Inhibitors",
          "Other Inhibitors",
          "Other Inhibitors",
          "Other Inhibitors",
          "Other Inhibitors",
          "Other Inhibitors",
          "Other Inhibitors",
          "Other Inhibitors",
          "Other Inhibitors",
          "Other Inhibitors",
          "Other Inhibitors",
          "Other Inhibitors",
          "Other Inhibitors",
          "Other Inhibitors",
          "Other Inhibitors",
          "Other Inhibitors",
          "Other Inhibitors",
          "Other Inhibitors",
          "Other Inhibitors",
          "Other Inhibitors",
          "Other Inhibitors",
          "Other Inhibitors",
          "Other Inhibitors",
          "Other Inhibitors",
          "Other Inhibitors",
          "Other Inhibitors",
          "Other Inhibitors",
          "Other Inhibitors",
          "Other Inhibitors",
          "Other Inhibitors",
          "Other Inhibitors",
          "Other Inhibitors",
          "Other Inhibitors",
          "Other Inhibitors",
          "Other Inhibitors",
          "Other Inhibitors",
          "Other Inhibitors",
          "Other Inhibitors",
          "Other Inhibitors",
          "Other Inhibitors",
          "Other Inhibitors",
          "Other Inhibitors",
          "Other Inhibitors",
          "Other Inhibitors",
          "Other Inhibitors",
          "Other Inhibitors",
          "Other Inhibitors",
          "Other Inhibitors",
          "Other Inhibitors",
          "Other Inhibitors",
          "Other Inhibitors",
          "Other Inhibitors",
          "Other Inhibitors",
          "Other Inhibitors",
          "Other Inhibitors",
          "Other Inhibitors",
          "Other Inhibitors",
          "Other Inhibitors",
          "Other Inhibitors",
          "Other Inhibitors",
          "Other Inhibitors",
          "Other Inhibitors",
          "Other Inhibitors",
          "Other Inhibitors",
          "Other Inhibitors",
          "Other Inhibitors",
          "Other Inhibitors",
          "Other Inhibitors",
          "Other Inhibitors",
          "Other Inhibitors",
          "Other Inhibitors",
          "Other Inhibitors",
          "Other Inhibitors",
          "Other Inhibitors",
          "Other Inhibitors",
          "Other Inhibitors",
          "Other Inhibitors",
          "Other Inhibitors",
          "Other Inhibitors",
          "Other Inhibitors",
          "Other Inhibitors",
          "Other Inhibitors",
          "Other Inhibitors",
          "Other Inhibitors",
          "Other Inhibitors",
          "Other Inhibitors",
          "Other Inhibitors",
          "Other Inhibitors",
          "Other Inhibitors",
          "Other Inhibitors",
          "Other Inhibitors",
          "Other Inhibitors",
          "Other Inhibitors",
          "Other Inhibitors",
          "Other Inhibitors",
          "Other Inhibitors",
          "Other Inhibitors",
          "Other Inhibitors",
          "Other Inhibitors",
          "Other Inhibitors",
          "Other Inhibitors",
          "Other Inhibitors",
          "Other Inhibitors",
          "Other Inhibitors",
          "Other Inhibitors",
          "Other Inhibitors",
          "Other Inhibitors",
          "Other Inhibitors",
          "Other Inhibitors",
          "Other Inhibitors",
          "Other Inhibitors",
          "Other Inhibitors",
          "Other Inhibitors",
          "Other Inhibitors",
          "Other Inhibitors",
          "Other Inhibitors",
          "Other Inhibitors",
          "Other Inhibitors",
          "Other Inhibitors",
          "Other Inhibitors",
          "Other Inhibitors",
          "Other Inhibitors",
          "Other Inhibitors",
          "Other Inhibitors",
          "Other Inhibitors",
          "Other Inhibitors",
          "Other Inhibitors",
          "Other Inhibitors",
          "Other Inhibitors",
          "Other Inhibitors",
          "Other Inhibitors",
          "Other Inhibitors",
          "Other Inhibitors",
          "Other Inhibitors",
          "Other Inhibitors",
          "Other Inhibitors",
          "Other Inhibitors",
          "Other Inhibitors",
          "Other Inhibitors",
          "Other Inhibitors",
          "Other Inhibitors",
          "Other Inhibitors",
          "Other Inhibitors",
          "Other Inhibitors",
          "Other Inhibitors",
          "Other Inhibitors",
          "Other Inhibitors",
          "Other Inhibitors",
          "Other Inhibitors",
          "Other Inhibitors",
          "Other Inhibitors",
          "Other Inhibitors",
          "Other Inhibitors",
          "Other Inhibitors",
          "Other Inhibitors",
          "Other Inhibitors",
          "Other Inhibitors",
          "Other Inhibitors",
          "Other Inhibitors",
          "Other Inhibitors",
          "Other Inhibitors",
          "Other Inhibitors",
          "Other Inhibitors",
          "Other Inhibitors",
          "Other Inhibitors",
          "Other Inhibitors",
          "Other Inhibitors",
          "Other Inhibitors",
          "Other Inhibitors",
          "Other Inhibitors",
          "Other Inhibitors",
          "Other Inhibitors",
          "Other Inhibitors",
          "Other Inhibitors",
          "Other Inhibitors",
          "Other Inhibitors",
          "Other Inhibitors",
          "Other Inhibitors",
          "Other Inhibitors",
          "Other Inhibitors",
          "Other Inhibitors",
          "Other Inhibitors",
          "Other Inhibitors",
          "Other Inhibitors",
          "Other Inhibitors",
          "Other Inhibitors",
          "Other Inhibitors",
          "Other Inhibitors",
          "Other Inhibitors",
          "Other Inhibitors",
          "Other Inhibitors",
          "Other Inhibitors",
          "Other Inhibitors",
          "Other Inhibitors",
          "Other Inhibitors",
          "Other Inhibitors",
          "Other Inhibitors",
          "Other Inhibitors",
          "Other Inhibitors",
          "Other Inhibitors",
          "Other Inhibitors",
          "Other Inhibitors",
          "Other Inhibitors",
          "Other Inhibitors",
          "Other Inhibitors",
          "Other Inhibitors",
          "Other Inhibitors",
          "Other Inhibitors",
          "Other Inhibitors",
          "Other Inhibitors",
          "Other Inhibitors",
          "Other Inhibitors",
          "Other Inhibitors",
          "Other Inhibitors",
          "Other Inhibitors",
          "Other Inhibitors",
          "Other Inhibitors",
          "Other Inhibitors",
          "Other Inhibitors",
          "Other Inhibitors",
          "Other Inhibitors",
          "Other Inhibitors",
          "Other Inhibitors",
          "Other Inhibitors",
          "Other Inhibitors",
          "Other Inhibitors",
          "Other Inhibitors",
          "Other Inhibitors",
          "Other Inhibitors",
          "Other Inhibitors",
          "Other Inhibitors",
          "Other Inhibitors",
          "Other Inhibitors",
          "Other Inhibitors",
          "Other Inhibitors",
          "Other Inhibitors",
          "Other Inhibitors",
          "Other Inhibitors",
          "Other Inhibitors",
          "Other Inhibitors",
          "Other Inhibitors",
          "Other Inhibitors",
          "Other Inhibitors",
          "Other Inhibitors",
          "Other Inhibitors",
          "Other Inhibitors",
          "Other Inhibitors",
          "Other Inhibitors",
          "Other Inhibitors",
          "Other Inhibitors",
          "Other Inhibitors",
          "Other Inhibitors",
          "Other Inhibitors",
          "Other Inhibitors",
          "Other Inhibitors",
          "Other Inhibitors",
          "Other Inhibitors",
          "Other Inhibitors",
          "Other Inhibitors",
          "Other Inhibitors",
          "Other Inhibitors",
          "Other Inhibitors",
          "Other Inhibitors",
          "Other Inhibitors",
          "Other Inhibitors",
          "Other Inhibitors",
          "Other Inhibitors",
          "Other Inhibitors",
          "Other Inhibitors",
          "Other Inhibitors",
          "Other Inhibitors",
          "Other Inhibitors",
          "Other Inhibitors",
          "Other Inhibitors",
          "Other Inhibitors",
          "Other Inhibitors",
          "Other Inhibitors",
          "Other Inhibitors",
          "Other Inhibitors",
          "Other Inhibitors",
          "Other Inhibitors",
          "Other Inhibitors",
          "Other Inhibitors",
          "Other Inhibitors",
          "Other Inhibitors",
          "Other Inhibitors",
          "Other Inhibitors",
          "Other Inhibitors",
          "Other Inhibitors",
          "Other Inhibitors",
          "Other Inhibitors",
          "Other Inhibitors",
          "Other Inhibitors",
          "Other Inhibitors",
          "Other Inhibitors",
          "Other Inhibitors",
          "Other Inhibitors",
          "Other Inhibitors",
          "Other Inhibitors",
          "Other Inhibitors",
          "Other Inhibitors",
          "Other Inhibitors",
          "Other Inhibitors",
          "Other Inhibitors",
          "Other Inhibitors",
          "Other Inhibitors",
          "Other Inhibitors",
          "Other Inhibitors",
          "Other Inhibitors",
          "Other Inhibitors",
          "Other Inhibitors",
          "Other Inhibitors",
          "Other Inhibitors",
          "Other Inhibitors",
          "Other Inhibitors",
          "Other Inhibitors",
          "Other Inhibitors",
          "Other Inhibitors",
          "Other Inhibitors",
          "Other Inhibitors",
          "Other Inhibitors",
          "Other Inhibitors",
          "Other Inhibitors",
          "Other Inhibitors",
          "Other Inhibitors",
          "Other Inhibitors",
          "Other Inhibitors",
          "Other Inhibitors",
          "Other Inhibitors",
          "Other Inhibitors",
          "Other Inhibitors",
          "Other Inhibitors",
          "Other Inhibitors",
          "Other Inhibitors",
          "Other Inhibitors",
          "Other Inhibitors",
          "Other Inhibitors",
          "Other Inhibitors",
          "Other Inhibitors",
          "Other Inhibitors",
          "Other Inhibitors",
          "Other Inhibitors",
          "Other Inhibitors",
          "Other Inhibitors",
          "Other Inhibitors",
          "Other Inhibitors",
          "Other Inhibitors",
          "Other Inhibitors",
          "Other Inhibitors",
          "Other Inhibitors",
          "Other Inhibitors",
          "Other Inhibitors",
          "Other Inhibitors",
          "Other Inhibitors",
          "Other Inhibitors",
          "Other Inhibitors",
          "Other Inhibitors",
          "Other Inhibitors",
          "Other Inhibitors",
          "Other Inhibitors",
          "Other Inhibitors",
          "Other Inhibitors",
          "Other Inhibitors",
          "Other Inhibitors",
          "Other Inhibitors",
          "Other Inhibitors",
          "Other Inhibitors",
          "Other Inhibitors",
          "Other Inhibitors",
          "Other Inhibitors",
          "Other Inhibitors",
          "Other Inhibitors",
          "Other Inhibitors",
          "Other Inhibitors",
          "Other Inhibitors",
          "Other Inhibitors",
          "Other Inhibitors",
          "Other Inhibitors",
          "Other Inhibitors",
          "Other Inhibitors",
          "Other Inhibitors",
          "Other Inhibitors",
          "Other Inhibitors",
          "Other Inhibitors",
          "Other Inhibitors",
          "Other Inhibitors",
          "Other Inhibitors",
          "Other Inhibitors",
          "Other Inhibitors",
          "Other Inhibitors",
          "Other Inhibitors",
          "Other Inhibitors",
          "Other Inhibitors",
          "Other Inhibitors",
          "Other Inhibitors",
          "Other Inhibitors",
          "Other Inhibitors",
          "Other Inhibitors",
          "Other Inhibitors",
          "Other Inhibitors",
          "Other Inhibitors",
          "Other Inhibitors",
          "Other Inhibitors",
          "Other Inhibitors",
          "Other Inhibitors",
          "Other Inhibitors",
          "Other Inhibitors",
          "Other Inhibitors",
          "Other Inhibitors",
          "Other Inhibitors",
          "Other Inhibitors",
          "Other Inhibitors",
          "Other Inhibitors",
          "Other Inhibitors",
          "Other Inhibitors",
          "Other Inhibitors",
          "Other Inhibitors",
          "Other Inhibitors",
          "Other Inhibitors",
          "Other Inhibitors",
          "Other Inhibitors",
          "Other Inhibitors",
          "Other Inhibitors",
          "Other Inhibitors",
          "Other Inhibitors",
          "Other Inhibitors",
          "Other Inhibitors",
          "Other Inhibitors",
          "Other Inhibitors",
          "Other Inhibitors",
          "Other Inhibitors",
          "Other Inhibitors",
          "Other Inhibitors",
          "Other Inhibitors",
          "Other Inhibitors",
          "Other Inhibitors",
          "Other Inhibitors",
          "Other Inhibitors",
          "Other Inhibitors",
          "Other Inhibitors",
          "Other Inhibitors",
          "Other Inhibitors",
          "Other Inhibitors",
          "Other Inhibitors",
          "Other Inhibitors",
          "Other Inhibitors",
          "Other Inhibitors",
          "Other Inhibitors",
          "Other Inhibitors",
          "Other Inhibitors",
          "Other Inhibitors",
          "Other Inhibitors",
          "Other Inhibitors",
          "Other Inhibitors",
          "Other Inhibitors",
          "Other Inhibitors",
          "Other Inhibitors",
          "Other Inhibitors",
          "Other Inhibitors",
          "Other Inhibitors"
         ],
         "yaxis": "y2"
        },
        {
         "name": "Tissue Breakdown",
         "orientation": "h",
         "type": "bar",
         "x": [
          1795,
          1466,
          1043,
          419,
          408,
          398,
          370,
          361,
          345,
          3382
         ],
         "xaxis": "x3",
         "y": [
          "embryo",
          "liver",
          "kidney",
          "brain",
          "leaf",
          "ovary",
          "whole organism",
          "breast",
          "lung",
          "Other Tissues"
         ],
         "yaxis": "y3"
        },
        {
         "name": "Cell Line Breakdown",
         "orientation": "h",
         "type": "bar",
         "x": [
          882,
          361,
          254,
          229,
          183,
          155,
          150,
          136,
          121,
          3390
         ],
         "xaxis": "x4",
         "y": [
          "HEK293",
          "HeLa",
          "S2",
          "3T3",
          "A549",
          "mESC",
          "E14",
          "lymphoblastoid",
          "H1",
          "Other Cell Lines"
         ],
         "yaxis": "y4"
        },
        {
         "name": "Missing Metadata Entries",
         "type": "bar",
         "x": [
          "Inhibitor",
          "Cell Line",
          "Tissue"
         ],
         "xaxis": "x5",
         "y": [
          10449,
          8979,
          4853
         ],
         "yaxis": "y5"
        },
        {
         "name": "File Existence",
         "type": "bar",
         "x": [
          "FASTA",
          "BAM",
          "BigWig",
          "FASTP",
          "FASTQC"
         ],
         "xaxis": "x7",
         "y": [
          14745,
          13572,
          7890,
          13443,
          14661
         ],
         "yaxis": "y7"
        }
       ],
       "layout": {
        "annotations": [
         {
          "font": {
           "size": 16
          },
          "showarrow": false,
          "text": "Organism",
          "x": 0.08,
          "xanchor": "center",
          "xref": "paper",
          "y": 1,
          "yanchor": "bottom",
          "yref": "paper"
         },
         {
          "font": {
           "size": 16
          },
          "showarrow": false,
          "text": "Inhibitor",
          "x": 0.36000000000000004,
          "xanchor": "center",
          "xref": "paper",
          "y": 1,
          "yanchor": "bottom",
          "yref": "paper"
         },
         {
          "font": {
           "size": 16
          },
          "showarrow": false,
          "text": "Tissue",
          "x": 0.6400000000000001,
          "xanchor": "center",
          "xref": "paper",
          "y": 1,
          "yanchor": "bottom",
          "yref": "paper"
         },
         {
          "font": {
           "size": 16
          },
          "showarrow": false,
          "text": "Cell Line",
          "x": 0.9199999999999999,
          "xanchor": "center",
          "xref": "paper",
          "y": 1,
          "yanchor": "bottom",
          "yref": "paper"
         },
         {
          "font": {
           "size": 16
          },
          "showarrow": false,
          "text": "Missing Data",
          "x": 0.22000000000000003,
          "xanchor": "center",
          "xref": "paper",
          "y": 0.45,
          "yanchor": "bottom",
          "yref": "paper"
         },
         {
          "font": {
           "size": 16
          },
          "showarrow": false,
          "text": "Files Breakdown",
          "x": 0.78,
          "xanchor": "center",
          "xref": "paper",
          "y": 0.45,
          "yanchor": "bottom",
          "yref": "paper"
         },
         {
          "font": {
           "size": 20
          },
          "showarrow": false,
          "text": "A",
          "x": 0,
          "xref": "paper",
          "y": 1.05,
          "yref": "paper"
         },
         {
          "font": {
           "size": 20
          },
          "showarrow": false,
          "text": "B",
          "x": 0.25,
          "xref": "paper",
          "y": 1.05,
          "yref": "paper"
         },
         {
          "font": {
           "size": 20
          },
          "showarrow": false,
          "text": "C",
          "x": 0.5,
          "xref": "paper",
          "y": 1.05,
          "yref": "paper"
         },
         {
          "font": {
           "size": 20
          },
          "showarrow": false,
          "text": "D",
          "x": 0.75,
          "xref": "paper",
          "y": 1.05,
          "yref": "paper"
         },
         {
          "font": {
           "size": 20
          },
          "showarrow": false,
          "text": "E",
          "x": 0,
          "xref": "paper",
          "y": 0.5,
          "yref": "paper"
         },
         {
          "font": {
           "size": 20
          },
          "showarrow": false,
          "text": "F",
          "x": 0.5,
          "xref": "paper",
          "y": 0.5,
          "yref": "paper"
         }
        ],
        "font": {
         "family": "Arial",
         "size": 14
        },
        "height": 800,
        "legend": {
         "bgcolor": "rgba(0,0,0,0)",
         "bordercolor": "Black",
         "borderwidth": 2,
         "font": {
          "family": "Arial",
          "size": 12
         },
         "traceorder": "normal"
        },
        "paper_bgcolor": "white",
        "plot_bgcolor": "white",
        "showlegend": false,
        "template": {
         "data": {
          "bar": [
           {
            "error_x": {
             "color": "#2a3f5f"
            },
            "error_y": {
             "color": "#2a3f5f"
            },
            "marker": {
             "line": {
              "color": "#E5ECF6",
              "width": 0.5
             },
             "pattern": {
              "fillmode": "overlay",
              "size": 10,
              "solidity": 0.2
             }
            },
            "type": "bar"
           }
          ],
          "barpolar": [
           {
            "marker": {
             "line": {
              "color": "#E5ECF6",
              "width": 0.5
             },
             "pattern": {
              "fillmode": "overlay",
              "size": 10,
              "solidity": 0.2
             }
            },
            "type": "barpolar"
           }
          ],
          "carpet": [
           {
            "aaxis": {
             "endlinecolor": "#2a3f5f",
             "gridcolor": "white",
             "linecolor": "white",
             "minorgridcolor": "white",
             "startlinecolor": "#2a3f5f"
            },
            "baxis": {
             "endlinecolor": "#2a3f5f",
             "gridcolor": "white",
             "linecolor": "white",
             "minorgridcolor": "white",
             "startlinecolor": "#2a3f5f"
            },
            "type": "carpet"
           }
          ],
          "choropleth": [
           {
            "colorbar": {
             "outlinewidth": 0,
             "ticks": ""
            },
            "type": "choropleth"
           }
          ],
          "contour": [
           {
            "colorbar": {
             "outlinewidth": 0,
             "ticks": ""
            },
            "colorscale": [
             [
              0,
              "#0d0887"
             ],
             [
              0.1111111111111111,
              "#46039f"
             ],
             [
              0.2222222222222222,
              "#7201a8"
             ],
             [
              0.3333333333333333,
              "#9c179e"
             ],
             [
              0.4444444444444444,
              "#bd3786"
             ],
             [
              0.5555555555555556,
              "#d8576b"
             ],
             [
              0.6666666666666666,
              "#ed7953"
             ],
             [
              0.7777777777777778,
              "#fb9f3a"
             ],
             [
              0.8888888888888888,
              "#fdca26"
             ],
             [
              1,
              "#f0f921"
             ]
            ],
            "type": "contour"
           }
          ],
          "contourcarpet": [
           {
            "colorbar": {
             "outlinewidth": 0,
             "ticks": ""
            },
            "type": "contourcarpet"
           }
          ],
          "heatmap": [
           {
            "colorbar": {
             "outlinewidth": 0,
             "ticks": ""
            },
            "colorscale": [
             [
              0,
              "#0d0887"
             ],
             [
              0.1111111111111111,
              "#46039f"
             ],
             [
              0.2222222222222222,
              "#7201a8"
             ],
             [
              0.3333333333333333,
              "#9c179e"
             ],
             [
              0.4444444444444444,
              "#bd3786"
             ],
             [
              0.5555555555555556,
              "#d8576b"
             ],
             [
              0.6666666666666666,
              "#ed7953"
             ],
             [
              0.7777777777777778,
              "#fb9f3a"
             ],
             [
              0.8888888888888888,
              "#fdca26"
             ],
             [
              1,
              "#f0f921"
             ]
            ],
            "type": "heatmap"
           }
          ],
          "heatmapgl": [
           {
            "colorbar": {
             "outlinewidth": 0,
             "ticks": ""
            },
            "colorscale": [
             [
              0,
              "#0d0887"
             ],
             [
              0.1111111111111111,
              "#46039f"
             ],
             [
              0.2222222222222222,
              "#7201a8"
             ],
             [
              0.3333333333333333,
              "#9c179e"
             ],
             [
              0.4444444444444444,
              "#bd3786"
             ],
             [
              0.5555555555555556,
              "#d8576b"
             ],
             [
              0.6666666666666666,
              "#ed7953"
             ],
             [
              0.7777777777777778,
              "#fb9f3a"
             ],
             [
              0.8888888888888888,
              "#fdca26"
             ],
             [
              1,
              "#f0f921"
             ]
            ],
            "type": "heatmapgl"
           }
          ],
          "histogram": [
           {
            "marker": {
             "pattern": {
              "fillmode": "overlay",
              "size": 10,
              "solidity": 0.2
             }
            },
            "type": "histogram"
           }
          ],
          "histogram2d": [
           {
            "colorbar": {
             "outlinewidth": 0,
             "ticks": ""
            },
            "colorscale": [
             [
              0,
              "#0d0887"
             ],
             [
              0.1111111111111111,
              "#46039f"
             ],
             [
              0.2222222222222222,
              "#7201a8"
             ],
             [
              0.3333333333333333,
              "#9c179e"
             ],
             [
              0.4444444444444444,
              "#bd3786"
             ],
             [
              0.5555555555555556,
              "#d8576b"
             ],
             [
              0.6666666666666666,
              "#ed7953"
             ],
             [
              0.7777777777777778,
              "#fb9f3a"
             ],
             [
              0.8888888888888888,
              "#fdca26"
             ],
             [
              1,
              "#f0f921"
             ]
            ],
            "type": "histogram2d"
           }
          ],
          "histogram2dcontour": [
           {
            "colorbar": {
             "outlinewidth": 0,
             "ticks": ""
            },
            "colorscale": [
             [
              0,
              "#0d0887"
             ],
             [
              0.1111111111111111,
              "#46039f"
             ],
             [
              0.2222222222222222,
              "#7201a8"
             ],
             [
              0.3333333333333333,
              "#9c179e"
             ],
             [
              0.4444444444444444,
              "#bd3786"
             ],
             [
              0.5555555555555556,
              "#d8576b"
             ],
             [
              0.6666666666666666,
              "#ed7953"
             ],
             [
              0.7777777777777778,
              "#fb9f3a"
             ],
             [
              0.8888888888888888,
              "#fdca26"
             ],
             [
              1,
              "#f0f921"
             ]
            ],
            "type": "histogram2dcontour"
           }
          ],
          "mesh3d": [
           {
            "colorbar": {
             "outlinewidth": 0,
             "ticks": ""
            },
            "type": "mesh3d"
           }
          ],
          "parcoords": [
           {
            "line": {
             "colorbar": {
              "outlinewidth": 0,
              "ticks": ""
             }
            },
            "type": "parcoords"
           }
          ],
          "pie": [
           {
            "automargin": true,
            "type": "pie"
           }
          ],
          "scatter": [
           {
            "fillpattern": {
             "fillmode": "overlay",
             "size": 10,
             "solidity": 0.2
            },
            "type": "scatter"
           }
          ],
          "scatter3d": [
           {
            "line": {
             "colorbar": {
              "outlinewidth": 0,
              "ticks": ""
             }
            },
            "marker": {
             "colorbar": {
              "outlinewidth": 0,
              "ticks": ""
             }
            },
            "type": "scatter3d"
           }
          ],
          "scattercarpet": [
           {
            "marker": {
             "colorbar": {
              "outlinewidth": 0,
              "ticks": ""
             }
            },
            "type": "scattercarpet"
           }
          ],
          "scattergeo": [
           {
            "marker": {
             "colorbar": {
              "outlinewidth": 0,
              "ticks": ""
             }
            },
            "type": "scattergeo"
           }
          ],
          "scattergl": [
           {
            "marker": {
             "colorbar": {
              "outlinewidth": 0,
              "ticks": ""
             }
            },
            "type": "scattergl"
           }
          ],
          "scattermapbox": [
           {
            "marker": {
             "colorbar": {
              "outlinewidth": 0,
              "ticks": ""
             }
            },
            "type": "scattermapbox"
           }
          ],
          "scatterpolar": [
           {
            "marker": {
             "colorbar": {
              "outlinewidth": 0,
              "ticks": ""
             }
            },
            "type": "scatterpolar"
           }
          ],
          "scatterpolargl": [
           {
            "marker": {
             "colorbar": {
              "outlinewidth": 0,
              "ticks": ""
             }
            },
            "type": "scatterpolargl"
           }
          ],
          "scatterternary": [
           {
            "marker": {
             "colorbar": {
              "outlinewidth": 0,
              "ticks": ""
             }
            },
            "type": "scatterternary"
           }
          ],
          "surface": [
           {
            "colorbar": {
             "outlinewidth": 0,
             "ticks": ""
            },
            "colorscale": [
             [
              0,
              "#0d0887"
             ],
             [
              0.1111111111111111,
              "#46039f"
             ],
             [
              0.2222222222222222,
              "#7201a8"
             ],
             [
              0.3333333333333333,
              "#9c179e"
             ],
             [
              0.4444444444444444,
              "#bd3786"
             ],
             [
              0.5555555555555556,
              "#d8576b"
             ],
             [
              0.6666666666666666,
              "#ed7953"
             ],
             [
              0.7777777777777778,
              "#fb9f3a"
             ],
             [
              0.8888888888888888,
              "#fdca26"
             ],
             [
              1,
              "#f0f921"
             ]
            ],
            "type": "surface"
           }
          ],
          "table": [
           {
            "cells": {
             "fill": {
              "color": "#EBF0F8"
             },
             "line": {
              "color": "white"
             }
            },
            "header": {
             "fill": {
              "color": "#C8D4E3"
             },
             "line": {
              "color": "white"
             }
            },
            "type": "table"
           }
          ]
         },
         "layout": {
          "annotationdefaults": {
           "arrowcolor": "#2a3f5f",
           "arrowhead": 0,
           "arrowwidth": 1
          },
          "autotypenumbers": "strict",
          "coloraxis": {
           "colorbar": {
            "outlinewidth": 0,
            "ticks": ""
           }
          },
          "colorscale": {
           "diverging": [
            [
             0,
             "#8e0152"
            ],
            [
             0.1,
             "#c51b7d"
            ],
            [
             0.2,
             "#de77ae"
            ],
            [
             0.3,
             "#f1b6da"
            ],
            [
             0.4,
             "#fde0ef"
            ],
            [
             0.5,
             "#f7f7f7"
            ],
            [
             0.6,
             "#e6f5d0"
            ],
            [
             0.7,
             "#b8e186"
            ],
            [
             0.8,
             "#7fbc41"
            ],
            [
             0.9,
             "#4d9221"
            ],
            [
             1,
             "#276419"
            ]
           ],
           "sequential": [
            [
             0,
             "#0d0887"
            ],
            [
             0.1111111111111111,
             "#46039f"
            ],
            [
             0.2222222222222222,
             "#7201a8"
            ],
            [
             0.3333333333333333,
             "#9c179e"
            ],
            [
             0.4444444444444444,
             "#bd3786"
            ],
            [
             0.5555555555555556,
             "#d8576b"
            ],
            [
             0.6666666666666666,
             "#ed7953"
            ],
            [
             0.7777777777777778,
             "#fb9f3a"
            ],
            [
             0.8888888888888888,
             "#fdca26"
            ],
            [
             1,
             "#f0f921"
            ]
           ],
           "sequentialminus": [
            [
             0,
             "#0d0887"
            ],
            [
             0.1111111111111111,
             "#46039f"
            ],
            [
             0.2222222222222222,
             "#7201a8"
            ],
            [
             0.3333333333333333,
             "#9c179e"
            ],
            [
             0.4444444444444444,
             "#bd3786"
            ],
            [
             0.5555555555555556,
             "#d8576b"
            ],
            [
             0.6666666666666666,
             "#ed7953"
            ],
            [
             0.7777777777777778,
             "#fb9f3a"
            ],
            [
             0.8888888888888888,
             "#fdca26"
            ],
            [
             1,
             "#f0f921"
            ]
           ]
          },
          "colorway": [
           "#636efa",
           "#EF553B",
           "#00cc96",
           "#ab63fa",
           "#FFA15A",
           "#19d3f3",
           "#FF6692",
           "#B6E880",
           "#FF97FF",
           "#FECB52"
          ],
          "font": {
           "color": "#2a3f5f"
          },
          "geo": {
           "bgcolor": "white",
           "lakecolor": "white",
           "landcolor": "#E5ECF6",
           "showlakes": true,
           "showland": true,
           "subunitcolor": "white"
          },
          "hoverlabel": {
           "align": "left"
          },
          "hovermode": "closest",
          "mapbox": {
           "style": "light"
          },
          "paper_bgcolor": "white",
          "plot_bgcolor": "#E5ECF6",
          "polar": {
           "angularaxis": {
            "gridcolor": "white",
            "linecolor": "white",
            "ticks": ""
           },
           "bgcolor": "#E5ECF6",
           "radialaxis": {
            "gridcolor": "white",
            "linecolor": "white",
            "ticks": ""
           }
          },
          "scene": {
           "xaxis": {
            "backgroundcolor": "#E5ECF6",
            "gridcolor": "white",
            "gridwidth": 2,
            "linecolor": "white",
            "showbackground": true,
            "ticks": "",
            "zerolinecolor": "white"
           },
           "yaxis": {
            "backgroundcolor": "#E5ECF6",
            "gridcolor": "white",
            "gridwidth": 2,
            "linecolor": "white",
            "showbackground": true,
            "ticks": "",
            "zerolinecolor": "white"
           },
           "zaxis": {
            "backgroundcolor": "#E5ECF6",
            "gridcolor": "white",
            "gridwidth": 2,
            "linecolor": "white",
            "showbackground": true,
            "ticks": "",
            "zerolinecolor": "white"
           }
          },
          "shapedefaults": {
           "line": {
            "color": "#2a3f5f"
           }
          },
          "ternary": {
           "aaxis": {
            "gridcolor": "white",
            "linecolor": "white",
            "ticks": ""
           },
           "baxis": {
            "gridcolor": "white",
            "linecolor": "white",
            "ticks": ""
           },
           "bgcolor": "#E5ECF6",
           "caxis": {
            "gridcolor": "white",
            "linecolor": "white",
            "ticks": ""
           }
          },
          "title": {
           "x": 0.05
          },
          "xaxis": {
           "automargin": true,
           "gridcolor": "white",
           "linecolor": "white",
           "ticks": "",
           "title": {
            "standoff": 15
           },
           "zerolinecolor": "white",
           "zerolinewidth": 2
          },
          "yaxis": {
           "automargin": true,
           "gridcolor": "white",
           "linecolor": "white",
           "ticks": "",
           "title": {
            "standoff": 15
           },
           "zerolinecolor": "white",
           "zerolinewidth": 2
          }
         }
        },
        "title": {
         "font": {
          "size": 18
         }
        },
        "width": 1200,
        "xaxis": {
         "anchor": "y",
         "domain": [
          0,
          0.16
         ],
         "tickfont": {
          "family": "Arial",
          "size": 12
         },
         "title": {
          "font": {
           "family": "Arial",
           "size": 16
          }
         }
        },
        "xaxis2": {
         "anchor": "y2",
         "domain": [
          0.28,
          0.44000000000000006
         ]
        },
        "xaxis3": {
         "anchor": "y3",
         "domain": [
          0.56,
          0.7200000000000001
         ]
        },
        "xaxis4": {
         "anchor": "y4",
         "domain": [
          0.84,
          1
         ]
        },
        "xaxis5": {
         "anchor": "y5",
         "domain": [
          0,
          0.44000000000000006
         ]
        },
        "xaxis6": {
         "anchor": "y6",
         "domain": [
          0.28,
          0.44000000000000006
         ]
        },
        "xaxis7": {
         "anchor": "y7",
         "domain": [
          0.56,
          1
         ]
        },
        "xaxis8": {
         "anchor": "y8",
         "domain": [
          0.84,
          1
         ]
        },
        "yaxis": {
         "anchor": "x",
         "domain": [
          0.55,
          1
         ],
         "tickfont": {
          "family": "Arial",
          "size": 14
         },
         "title": {
          "font": {
           "family": "Arial",
           "size": 16
          }
         }
        },
        "yaxis2": {
         "anchor": "x2",
         "domain": [
          0.55,
          1
         ]
        },
        "yaxis3": {
         "anchor": "x3",
         "domain": [
          0.55,
          1
         ]
        },
        "yaxis4": {
         "anchor": "x4",
         "domain": [
          0.55,
          1
         ]
        },
        "yaxis5": {
         "anchor": "x5",
         "domain": [
          0,
          0.45
         ]
        },
        "yaxis6": {
         "anchor": "x6",
         "domain": [
          0,
          0.45
         ]
        },
        "yaxis7": {
         "anchor": "x7",
         "domain": [
          0,
          0.45
         ]
        },
        "yaxis8": {
         "anchor": "x8",
         "domain": [
          0,
          0.45
         ]
        }
       }
      }
     },
     "metadata": {},
     "output_type": "display_data"
    }
   ],
   "source": [
    "import plotly.graph_objects as go\n",
    "from plotly.subplots import make_subplots\n",
    "\n",
    "# Define the consistent style\n",
    "plot_layout = go.Layout(\n",
    "    font=dict(family=\"Arial\", size=14),\n",
    "    title_font_size=18,\n",
    "    legend=dict(\n",
    "        traceorder=\"normal\",\n",
    "        font=dict(family=\"Arial\", size=12),\n",
    "        bgcolor=\"rgba(0,0,0,0)\",\n",
    "        bordercolor=\"Black\",\n",
    "        borderwidth=2\n",
    "    ),\n",
    "    paper_bgcolor='white',\n",
    "    plot_bgcolor='white',\n",
    "    xaxis=dict(\n",
    "        title_font=dict(family=\"Arial\", size=16),\n",
    "        tickfont=dict(family=\"Arial\", size=12)\n",
    "    ),\n",
    "    yaxis=dict(\n",
    "        title_font=dict(family=\"Arial\", size=16),\n",
    "        tickfont=dict(family=\"Arial\", size=14)\n",
    "    ),\n",
    "    height=800,\n",
    "    width=1200,\n",
    "    # title_text=\"Metadata Breakdowns\",\n",
    "    showlegend=False\n",
    ")\n",
    "\n",
    "# Create a multipanel figure with consistent style\n",
    "fig = make_subplots(\n",
    "    rows=2,\n",
    "    cols=4,\n",
    "    subplot_titles=[\n",
    "        \"Organism\",\n",
    "        \"Inhibitor\",\n",
    "        \"Tissue\",\n",
    "        \"Cell Line\",\n",
    "        \"Missing Data\",\"\",\n",
    "        \"Files Breakdown\",\"\"\n",
    "    ],\n",
    "    vertical_spacing=0.1,\n",
    "    horizontal_spacing=0.12,\n",
    "    specs=[\n",
    "        [{\"type\": \"bar\"}, {\"type\": \"bar\"}, {\"type\": \"bar\"}, {\"type\": \"bar\"}],\n",
    "        [{\"type\": \"bar\", \"colspan\": 2}, {}, {\"type\": \"bar\", \"colspan\": 2}, {}]\n",
    "    ],\n",
    "    # row_titles=[\"Metadata Breakdowns\", \"Additional Information\"],\n",
    ")\n",
    "# Add your plots to the respective subplots\n",
    "\n",
    "fig.add_trace(plot_organism_metadata_bar(df), row=1, col=1)\n",
    "fig.add_trace(plot_inhibitor(df), row=1, col=2)\n",
    "fig.add_trace(plot_tissue(df), row=1, col=3)\n",
    "fig.add_trace(plot_cell_line(df), row=1, col=4)\n",
    "fig.add_trace(plot_missing_metadata(df), row=2, col=1)\n",
    "fig.add_trace(plot_file_existence(file_existence_df), row=2, col=3)\n",
    "\n",
    "# label plots A, B, C, D, E, F\n",
    "fig.add_annotation(x=0, y=1.05, xref=\"paper\", yref=\"paper\", text=\"A\", showarrow=False, font=dict(size=20))\n",
    "fig.add_annotation(x=0.25, y=1.05, xref=\"paper\", yref=\"paper\", text=\"B\", showarrow=False, font=dict(size=20))\n",
    "fig.add_annotation(x=0.5, y=1.05, xref=\"paper\", yref=\"paper\", text=\"C\", showarrow=False, font=dict(size=20))\n",
    "fig.add_annotation(x=0.75, y=1.05, xref=\"paper\", yref=\"paper\", text=\"D\", showarrow=False, font=dict(size=20))\n",
    "fig.add_annotation(x=0, y=0.5, xref=\"paper\", yref=\"paper\", text=\"E\", showarrow=False, font=dict(size=20))\n",
    "fig.add_annotation(x=0.5, y=0.5, xref=\"paper\", yref=\"paper\", text=\"F\", showarrow=False, font=dict(size=20))\n",
    "\n",
    "# add consistent styling to the figure\n",
    "fig.update_layout(\n",
    "    plot_layout\n",
    ")\n",
    "\n",
    "fig.show()"
   ]
  },
  {
   "cell_type": "markdown",
   "metadata": {},
   "source": [
    "# Growth of Ribo-Seq"
   ]
  },
  {
   "cell_type": "code",
   "execution_count": 90,
   "metadata": {},
   "outputs": [
    {
     "name": "stdout",
     "output_type": "stream",
     "text": [
      "Requirement already satisfied: matplotlib in ./.conda/lib/python3.11/site-packages (3.8.3)\n",
      "Requirement already satisfied: contourpy>=1.0.1 in ./.conda/lib/python3.11/site-packages (from matplotlib) (1.2.0)\n",
      "Requirement already satisfied: cycler>=0.10 in ./.conda/lib/python3.11/site-packages (from matplotlib) (0.12.1)\n",
      "Requirement already satisfied: fonttools>=4.22.0 in ./.conda/lib/python3.11/site-packages (from matplotlib) (4.50.0)\n",
      "Requirement already satisfied: kiwisolver>=1.3.1 in ./.conda/lib/python3.11/site-packages (from matplotlib) (1.4.5)\n",
      "Requirement already satisfied: numpy<2,>=1.21 in ./.conda/lib/python3.11/site-packages (from matplotlib) (1.26.4)\n",
      "Requirement already satisfied: packaging>=20.0 in ./.conda/lib/python3.11/site-packages (from matplotlib) (23.2)\n",
      "Requirement already satisfied: pillow>=8 in ./.conda/lib/python3.11/site-packages (from matplotlib) (10.2.0)\n",
      "Requirement already satisfied: pyparsing>=2.3.1 in ./.conda/lib/python3.11/site-packages (from matplotlib) (3.1.2)\n",
      "Requirement already satisfied: python-dateutil>=2.7 in ./.conda/lib/python3.11/site-packages (from matplotlib) (2.8.2)\n",
      "Requirement already satisfied: six>=1.5 in ./.conda/lib/python3.11/site-packages (from python-dateutil>=2.7->matplotlib) (1.16.0)\n"
     ]
    }
   ],
   "source": [
    "!pip install matplotlib"
   ]
  },
  {
   "cell_type": "code",
   "execution_count": 91,
   "metadata": {},
   "outputs": [
    {
     "name": "stderr",
     "output_type": "stream",
     "text": [
      "/tmp/ipykernel_2256505/1833383982.py:5: SettingWithCopyWarning:\n",
      "\n",
      "\n",
      "A value is trying to be set on a copy of a slice from a DataFrame.\n",
      "Try using .loc[row_indexer,col_indexer] = value instead\n",
      "\n",
      "See the caveats in the documentation: https://pandas.pydata.org/pandas-docs/stable/user_guide/indexing.html#returning-a-view-versus-a-copy\n",
      "\n"
     ]
    }
   ],
   "source": [
    "cols = ['Run', 'BioProject', 'ScientificName', 'MONTH', 'YEAR']\n",
    "df = df[cols]\n",
    "\n",
    "\n",
    "df['Date'] = pd.to_datetime(df['YEAR'].astype(str) + '-' + df['MONTH'].astype(str))\n"
   ]
  },
  {
   "cell_type": "code",
   "execution_count": 92,
   "metadata": {},
   "outputs": [
    {
     "name": "stderr",
     "output_type": "stream",
     "text": [
      "/tmp/ipykernel_2256505/418001233.py:10: SettingWithCopyWarning:\n",
      "\n",
      "\n",
      "A value is trying to be set on a copy of a slice from a DataFrame.\n",
      "Try using .loc[row_indexer,col_indexer] = value instead\n",
      "\n",
      "See the caveats in the documentation: https://pandas.pydata.org/pandas-docs/stable/user_guide/indexing.html#returning-a-view-versus-a-copy\n",
      "\n"
     ]
    },
    {
     "data": {
      "image/png": "[encoded data removed]",
      "text/plain": [
       "<Figure size 1500x1000 with 1 Axes>"
      ]
     },
     "metadata": {},
     "output_type": "display_data"
    }
   ],
   "source": [
    "\n",
    "# plot cumulative plot of number of entries coloured by ScientificName\n",
    "import matplotlib.pyplot as plt\n",
    "\n",
    "accepted_organisms = df['ScientificName'].value_counts().head(8).index.tolist()\n",
    "\n",
    "# organisms not in accepted_organisms \n",
    "not_accepted_organisms = [i for i in df['ScientificName'].unique() if i not in accepted_organisms]\n",
    "\n",
    "\n",
    "df['ScientificName'] = df['ScientificName'].apply(lambda x: x if x in accepted_organisms else f'Other Organisms (n={len(not_accepted_organisms)})')\n",
    "\n",
    "df = df.sort_values('Date')\n",
    "\n",
    "# Create a new figure\n",
    "fig, ax = plt.subplots(figsize=(15, 10))\n",
    "\n",
    "# Ensure lines continue to current date if latest dataset is not up to date\n",
    "latest_date = df['Date'].max()\n",
    "organisms_to_fix = df[df['Date'] < latest_date]['ScientificName'].unique()\n",
    "for organism in organisms_to_fix:\n",
    "    df.loc[len(df)] = {\n",
    "        'Date': latest_date,\n",
    "        'ScientificName': organism,\n",
    "        'Run': 0,\n",
    "        'BioProject': 0,\n",
    "        'MONTH': 0,\n",
    "        'YEAR': 0\n",
    "        }\n",
    "\n",
    "global_cumsum_df = df.groupby(['Date']).size().cumsum()\n",
    "global_cumsum_df.plot(ax=ax, linewidth=2, label=\"Total\")\n",
    "\n",
    "# Create a line plot for each organism\n",
    "for organism in df['ScientificName'].unique():\n",
    "    organism_df = df[df['ScientificName'] == organism]\n",
    "    organism_cumsum_df = organism_df.groupby(['Date']).size().cumsum()\n",
    "    organism_cumsum_df.plot(ax=ax, linewidth=2, label=organism)\n",
    "\n",
    "# Customize the plot appearance\n",
    "ax.set_title('Cumulative Entries Over Time')\n",
    "ax.set_xlabel('Date')\n",
    "ax.set_ylabel('Cumulative Number of Entries')\n",
    "ax.legend(title='Organism', loc='upper left')\n",
    "plt.show()\n",
    "\n"
   ]
  },
  {
   "cell_type": "code",
   "execution_count": 93,
   "metadata": {},
   "outputs": [],
   "source": [
    "organism_order = df['ScientificName'].value_counts().index\n",
    "organism_order = organism_order.tolist()[::-1]\n"
   ]
  },
  {
   "cell_type": "code",
   "execution_count": 94,
   "metadata": {},
   "outputs": [
    {
     "data": {
      "text/plain": [
       "(<Figure size 1500x1000 with 1 Axes>,\n",
       " <Axes: title={'center': 'Cumulative Samples Over Time by Organism'}, xlabel='Date', ylabel='Cumulative\\nNumber of Samples'>)"
      ]
     },
     "execution_count": 94,
     "metadata": {},
     "output_type": "execute_result"
    },
    {
     "data": {
      "image/png": "[encoded data removed]",
      "text/plain": [
       "<Figure size 1500x1000 with 1 Axes>"
      ]
     },
     "metadata": {},
     "output_type": "display_data"
    }
   ],
   "source": [
    "\n",
    "\n",
    "import matplotlib.pyplot as plt\n",
    "\n",
    "def generate_cumulative_entries_plot(df, organism_order):\n",
    "    # Group the dataframe by date and organism, calculate the size, unstack, fill NaN with 0, and cumulatively sum\n",
    "    cumsum_df = df.groupby(['Date', 'ScientificName']).size().unstack().fillna(0).cumsum()\n",
    "    \n",
    "    # Reindex the columns based on the organism order\n",
    "    cumsum_df = cumsum_df.reindex(organism_order, axis=1)\n",
    "    \n",
    "    # Create the plot\n",
    "    fig, ax = plt.subplots(figsize=(15, 10))\n",
    "    ax.set_prop_cycle(color=plt.cm.tab20.colors)\n",
    "\n",
    "    # ax.plot(cumsum_df, linewidth=2, area=True)\n",
    "    cumsum_df.plot.area(ax=ax, title='Cumulative Entries Over Time by Organism')\n",
    "\n",
    "    # reverse the legend order\n",
    "    handles, labels = ax.get_legend_handles_labels()\n",
    "    ax.legend(reversed(handles), reversed(labels), title=None, loc='upper left', fontsize=16)\n",
    "    ax.set_title('Cumulative Samples Over Time by Organism', fontsize=20)\n",
    "    ax.set_xlabel('Date', fontsize=16)\n",
    "    ax.set_ylabel('Cumulative\\nNumber of Samples', rotation=0, labelpad=50, fontsize=16, ha='center')\n",
    "\n",
    "    latest_date = df['Date'].max()\n",
    "    # cut plot at latest date\n",
    "    ax.set_xlim([df['Date'].min(), latest_date])\n",
    "\n",
    "    ax.xaxis.set_tick_params(rotation=0, labelsize=12)\n",
    "    ax.yaxis.set_tick_params(rotation=0, labelsize=12)\n",
    "    # Return the figure and axes objects\n",
    "    return fig, ax\n",
    "\n",
    "generate_cumulative_entries_plot(df, organism_order)"
   ]
  },
  {
   "cell_type": "code",
   "execution_count": 95,
   "metadata": {},
   "outputs": [
    {
     "data": {
      "application/vnd.plotly.v1+json": {
       "config": {
        "plotlyServerURL": "https://plot.ly"
       },
       "data": [
        {
         "fill": "tonexty",
         "mode": "lines",
         "name": "Arabidopsis thaliana",
         "type": "scatter",
         "x": [
          "2009-10-01T00:00:00",
          "2010-08-01T00:00:00",
          "2010-09-01T00:00:00",
          "2011-11-01T00:00:00",
          "2011-12-01T00:00:00",
          "2012-01-01T00:00:00",
          "2012-02-01T00:00:00",
          "2012-03-01T00:00:00",
          "2012-04-01T00:00:00",
          "2012-05-01T00:00:00",
          "2012-07-01T00:00:00",
          "2012-10-01T00:00:00",
          "2012-11-01T00:00:00",
          "2013-01-01T00:00:00",
          "2013-05-01T00:00:00",
          "2013-06-01T00:00:00",
          "2013-07-01T00:00:00",
          "2013-09-01T00:00:00",
          "2013-10-01T00:00:00",
          "2013-11-01T00:00:00",
          "2013-12-01T00:00:00",
          "2014-01-01T00:00:00",
          "2014-03-01T00:00:00",
          "2014-04-01T00:00:00",
          "2014-05-01T00:00:00",
          "2014-06-01T00:00:00",
          "2014-07-01T00:00:00",
          "2014-08-01T00:00:00",
          "2014-09-01T00:00:00",
          "2014-10-01T00:00:00",
          "2014-11-01T00:00:00",
          "2014-12-01T00:00:00",
          "2015-01-01T00:00:00",
          "2015-02-01T00:00:00",
          "2015-03-01T00:00:00",
          "2015-04-01T00:00:00",
          "2015-05-01T00:00:00",
          "2015-06-01T00:00:00",
          "2015-07-01T00:00:00",
          "2015-08-01T00:00:00",
          "2015-09-01T00:00:00",
          "2015-10-01T00:00:00",
          "2015-11-01T00:00:00",
          "2015-12-01T00:00:00",
          "2016-01-01T00:00:00",
          "2016-02-01T00:00:00",
          "2016-03-01T00:00:00",
          "2016-04-01T00:00:00",
          "2016-05-01T00:00:00",
          "2016-06-01T00:00:00",
          "2016-07-01T00:00:00",
          "2016-08-01T00:00:00",
          "2016-09-01T00:00:00",
          "2016-10-01T00:00:00",
          "2016-11-01T00:00:00",
          "2016-12-01T00:00:00",
          "2017-01-01T00:00:00",
          "2017-02-01T00:00:00",
          "2017-03-01T00:00:00",
          "2017-04-01T00:00:00",
          "2017-05-01T00:00:00",
          "2017-06-01T00:00:00",
          "2017-07-01T00:00:00",
          "2017-08-01T00:00:00",
          "2017-09-01T00:00:00",
          "2017-10-01T00:00:00",
          "2017-11-01T00:00:00",
          "2017-12-01T00:00:00",
          "2018-01-01T00:00:00",
          "2018-02-01T00:00:00",
          "2018-03-01T00:00:00",
          "2018-04-01T00:00:00",
          "2018-05-01T00:00:00",
          "2018-06-01T00:00:00",
          "2018-07-01T00:00:00",
          "2018-08-01T00:00:00",
          "2018-09-01T00:00:00",
          "2018-10-01T00:00:00",
          "2018-11-01T00:00:00",
          "2018-12-01T00:00:00",
          "2019-01-01T00:00:00",
          "2019-02-01T00:00:00",
          "2019-03-01T00:00:00",
          "2019-04-01T00:00:00",
          "2019-05-01T00:00:00",
          "2019-06-01T00:00:00",
          "2019-07-01T00:00:00",
          "2019-08-01T00:00:00",
          "2019-09-01T00:00:00",
          "2019-10-01T00:00:00",
          "2019-11-01T00:00:00",
          "2019-12-01T00:00:00",
          "2020-01-01T00:00:00",
          "2020-02-01T00:00:00",
          "2020-03-01T00:00:00",
          "2020-04-01T00:00:00",
          "2020-05-01T00:00:00",
          "2020-06-01T00:00:00",
          "2020-07-01T00:00:00",
          "2020-08-01T00:00:00",
          "2020-09-01T00:00:00",
          "2020-10-01T00:00:00",
          "2020-11-01T00:00:00",
          "2020-12-01T00:00:00",
          "2021-01-01T00:00:00",
          "2021-02-01T00:00:00",
          "2021-03-01T00:00:00",
          "2021-04-01T00:00:00",
          "2021-05-01T00:00:00",
          "2021-06-01T00:00:00",
          "2021-07-01T00:00:00",
          "2021-08-01T00:00:00",
          "2021-09-01T00:00:00",
          "2021-10-01T00:00:00",
          "2021-11-01T00:00:00",
          "2021-12-01T00:00:00",
          "2022-01-01T00:00:00",
          "2022-02-01T00:00:00",
          "2022-03-01T00:00:00",
          "2022-04-01T00:00:00",
          "2022-05-01T00:00:00",
          "2022-06-01T00:00:00",
          "2022-07-01T00:00:00",
          "2022-08-01T00:00:00",
          "2022-09-01T00:00:00",
          "2022-10-01T00:00:00",
          "2022-11-01T00:00:00",
          "2022-12-01T00:00:00",
          "2023-01-01T00:00:00",
          "2023-02-01T00:00:00",
          "2023-03-01T00:00:00",
          "2023-04-01T00:00:00",
          "2023-05-01T00:00:00",
          "2023-06-01T00:00:00",
          "2023-07-01T00:00:00",
          "2023-08-01T00:00:00",
          "2023-09-01T00:00:00",
          "2023-10-01T00:00:00",
          "2023-11-01T00:00:00",
          "2023-12-01T00:00:00",
          "2024-01-01T00:00:00",
          "2024-02-01T00:00:00",
          "2024-03-01T00:00:00",
          "2024-04-01T00:00:00"
         ],
         "xaxis": "x",
         "y": [
          0,
          0,
          0,
          0,
          0,
          0,
          0,
          0,
          0,
          0,
          0,
          0,
          1,
          1,
          1,
          1,
          1,
          1,
          1,
          5,
          5,
          5,
          5,
          5,
          5,
          5,
          5,
          5,
          5,
          5,
          5,
          5,
          5,
          5,
          5,
          5,
          5,
          5,
          5,
          5,
          5,
          5,
          5,
          5,
          5,
          5,
          5,
          5,
          5,
          5,
          5,
          5,
          5,
          12,
          28,
          29,
          32,
          32,
          32,
          32,
          32,
          32,
          32,
          32,
          32,
          32,
          32,
          32,
          36,
          36,
          36,
          36,
          42,
          42,
          46,
          46,
          46,
          46,
          46,
          46,
          46,
          46,
          46,
          48,
          48,
          48,
          48,
          48,
          48,
          51,
          51,
          51,
          51,
          51,
          51,
          51,
          51,
          51,
          87,
          115,
          115,
          115,
          115,
          141,
          141,
          147,
          147,
          161,
          161,
          161,
          161,
          165,
          165,
          165,
          165,
          165,
          165,
          171,
          171,
          171,
          171,
          171,
          175,
          199,
          199,
          199,
          205,
          205,
          205,
          205,
          205,
          213,
          213,
          231,
          246,
          246,
          252,
          260,
          260,
          260,
          260,
          260,
          272,
          283
         ],
         "yaxis": "y"
        },
        {
         "fill": "tonexty",
         "mode": "lines",
         "name": "Caenorhabditis elegans",
         "type": "scatter",
         "x": [
          "2009-10-01T00:00:00",
          "2010-08-01T00:00:00",
          "2010-09-01T00:00:00",
          "2011-11-01T00:00:00",
          "2011-12-01T00:00:00",
          "2012-01-01T00:00:00",
          "2012-02-01T00:00:00",
          "2012-03-01T00:00:00",
          "2012-04-01T00:00:00",
          "2012-05-01T00:00:00",
          "2012-07-01T00:00:00",
          "2012-10-01T00:00:00",
          "2012-11-01T00:00:00",
          "2013-01-01T00:00:00",
          "2013-05-01T00:00:00",
          "2013-06-01T00:00:00",
          "2013-07-01T00:00:00",
          "2013-09-01T00:00:00",
          "2013-10-01T00:00:00",
          "2013-11-01T00:00:00",
          "2013-12-01T00:00:00",
          "2014-01-01T00:00:00",
          "2014-03-01T00:00:00",
          "2014-04-01T00:00:00",
          "2014-05-01T00:00:00",
          "2014-06-01T00:00:00",
          "2014-07-01T00:00:00",
          "2014-08-01T00:00:00",
          "2014-09-01T00:00:00",
          "2014-10-01T00:00:00",
          "2014-11-01T00:00:00",
          "2014-12-01T00:00:00",
          "2015-01-01T00:00:00",
          "2015-02-01T00:00:00",
          "2015-03-01T00:00:00",
          "2015-04-01T00:00:00",
          "2015-05-01T00:00:00",
          "2015-06-01T00:00:00",
          "2015-07-01T00:00:00",
          "2015-08-01T00:00:00",
          "2015-09-01T00:00:00",
          "2015-10-01T00:00:00",
          "2015-11-01T00:00:00",
          "2015-12-01T00:00:00",
          "2016-01-01T00:00:00",
          "2016-02-01T00:00:00",
          "2016-03-01T00:00:00",
          "2016-04-01T00:00:00",
          "2016-05-01T00:00:00",
          "2016-06-01T00:00:00",
          "2016-07-01T00:00:00",
          "2016-08-01T00:00:00",
          "2016-09-01T00:00:00",
          "2016-10-01T00:00:00",
          "2016-11-01T00:00:00",
          "2016-12-01T00:00:00",
          "2017-01-01T00:00:00",
          "2017-02-01T00:00:00",
          "2017-03-01T00:00:00",
          "2017-04-01T00:00:00",
          "2017-05-01T00:00:00",
          "2017-06-01T00:00:00",
          "2017-07-01T00:00:00",
          "2017-08-01T00:00:00",
          "2017-09-01T00:00:00",
          "2017-10-01T00:00:00",
          "2017-11-01T00:00:00",
          "2017-12-01T00:00:00",
          "2018-01-01T00:00:00",
          "2018-02-01T00:00:00",
          "2018-03-01T00:00:00",
          "2018-04-01T00:00:00",
          "2018-05-01T00:00:00",
          "2018-06-01T00:00:00",
          "2018-07-01T00:00:00",
          "2018-08-01T00:00:00",
          "2018-09-01T00:00:00",
          "2018-10-01T00:00:00",
          "2018-11-01T00:00:00",
          "2018-12-01T00:00:00",
          "2019-01-01T00:00:00",
          "2019-02-01T00:00:00",
          "2019-03-01T00:00:00",
          "2019-04-01T00:00:00",
          "2019-05-01T00:00:00",
          "2019-06-01T00:00:00",
          "2019-07-01T00:00:00",
          "2019-08-01T00:00:00",
          "2019-09-01T00:00:00",
          "2019-10-01T00:00:00",
          "2019-11-01T00:00:00",
          "2019-12-01T00:00:00",
          "2020-01-01T00:00:00",
          "2020-02-01T00:00:00",
          "2020-03-01T00:00:00",
          "2020-04-01T00:00:00",
          "2020-05-01T00:00:00",
          "2020-06-01T00:00:00",
          "2020-07-01T00:00:00",
          "2020-08-01T00:00:00",
          "2020-09-01T00:00:00",
          "2020-10-01T00:00:00",
          "2020-11-01T00:00:00",
          "2020-12-01T00:00:00",
          "2021-01-01T00:00:00",
          "2021-02-01T00:00:00",
          "2021-03-01T00:00:00",
          "2021-04-01T00:00:00",
          "2021-05-01T00:00:00",
          "2021-06-01T00:00:00",
          "2021-07-01T00:00:00",
          "2021-08-01T00:00:00",
          "2021-09-01T00:00:00",
          "2021-10-01T00:00:00",
          "2021-11-01T00:00:00",
          "2021-12-01T00:00:00",
          "2022-01-01T00:00:00",
          "2022-02-01T00:00:00",
          "2022-03-01T00:00:00",
          "2022-04-01T00:00:00",
          "2022-05-01T00:00:00",
          "2022-06-01T00:00:00",
          "2022-07-01T00:00:00",
          "2022-08-01T00:00:00",
          "2022-09-01T00:00:00",
          "2022-10-01T00:00:00",
          "2022-11-01T00:00:00",
          "2022-12-01T00:00:00",
          "2023-01-01T00:00:00",
          "2023-02-01T00:00:00",
          "2023-03-01T00:00:00",
          "2023-04-01T00:00:00",
          "2023-05-01T00:00:00",
          "2023-06-01T00:00:00",
          "2023-07-01T00:00:00",
          "2023-08-01T00:00:00",
          "2023-09-01T00:00:00",
          "2023-10-01T00:00:00",
          "2023-11-01T00:00:00",
          "2023-12-01T00:00:00",
          "2024-01-01T00:00:00",
          "2024-02-01T00:00:00",
          "2024-03-01T00:00:00",
          "2024-04-01T00:00:00"
         ],
         "xaxis": "x",
         "y": [
          0,
          0,
          0,
          0,
          0,
          0,
          0,
          0,
          0,
          0,
          3,
          3,
          3,
          3,
          3,
          7,
          7,
          7,
          7,
          7,
          7,
          7,
          59,
          59,
          59,
          59,
          59,
          59,
          59,
          59,
          59,
          59,
          67,
          67,
          67,
          67,
          67,
          71,
          73,
          73,
          73,
          73,
          73,
          73,
          73,
          73,
          73,
          73,
          73,
          73,
          73,
          73,
          73,
          73,
          73,
          73,
          73,
          73,
          73,
          73,
          73,
          73,
          169,
          169,
          169,
          169,
          169,
          169,
          169,
          182,
          182,
          182,
          182,
          182,
          182,
          182,
          182,
          182,
          182,
          186,
          187,
          187,
          187,
          187,
          187,
          187,
          187,
          187,
          187,
          187,
          187,
          199,
          199,
          199,
          199,
          199,
          199,
          199,
          199,
          199,
          199,
          199,
          199,
          199,
          206,
          206,
          206,
          232,
          232,
          232,
          232,
          232,
          232,
          232,
          232,
          232,
          253,
          253,
          283,
          283,
          307,
          307,
          323,
          323,
          323,
          323,
          323,
          323,
          323,
          323,
          323,
          323,
          347,
          347,
          347,
          347,
          347,
          347,
          347,
          365,
          365,
          365,
          365,
          366
         ],
         "yaxis": "y"
        },
        {
         "fill": "tonexty",
         "mode": "lines",
         "name": "Zea mays",
         "type": "scatter",
         "x": [
          "2009-10-01T00:00:00",
          "2010-08-01T00:00:00",
          "2010-09-01T00:00:00",
          "2011-11-01T00:00:00",
          "2011-12-01T00:00:00",
          "2012-01-01T00:00:00",
          "2012-02-01T00:00:00",
          "2012-03-01T00:00:00",
          "2012-04-01T00:00:00",
          "2012-05-01T00:00:00",
          "2012-07-01T00:00:00",
          "2012-10-01T00:00:00",
          "2012-11-01T00:00:00",
          "2013-01-01T00:00:00",
          "2013-05-01T00:00:00",
          "2013-06-01T00:00:00",
          "2013-07-01T00:00:00",
          "2013-09-01T00:00:00",
          "2013-10-01T00:00:00",
          "2013-11-01T00:00:00",
          "2013-12-01T00:00:00",
          "2014-01-01T00:00:00",
          "2014-03-01T00:00:00",
          "2014-04-01T00:00:00",
          "2014-05-01T00:00:00",
          "2014-06-01T00:00:00",
          "2014-07-01T00:00:00",
          "2014-08-01T00:00:00",
          "2014-09-01T00:00:00",
          "2014-10-01T00:00:00",
          "2014-11-01T00:00:00",
          "2014-12-01T00:00:00",
          "2015-01-01T00:00:00",
          "2015-02-01T00:00:00",
          "2015-03-01T00:00:00",
          "2015-04-01T00:00:00",
          "2015-05-01T00:00:00",
          "2015-06-01T00:00:00",
          "2015-07-01T00:00:00",
          "2015-08-01T00:00:00",
          "2015-09-01T00:00:00",
          "2015-10-01T00:00:00",
          "2015-11-01T00:00:00",
          "2015-12-01T00:00:00",
          "2016-01-01T00:00:00",
          "2016-02-01T00:00:00",
          "2016-03-01T00:00:00",
          "2016-04-01T00:00:00",
          "2016-05-01T00:00:00",
          "2016-06-01T00:00:00",
          "2016-07-01T00:00:00",
          "2016-08-01T00:00:00",
          "2016-09-01T00:00:00",
          "2016-10-01T00:00:00",
          "2016-11-01T00:00:00",
          "2016-12-01T00:00:00",
          "2017-01-01T00:00:00",
          "2017-02-01T00:00:00",
          "2017-03-01T00:00:00",
          "2017-04-01T00:00:00",
          "2017-05-01T00:00:00",
          "2017-06-01T00:00:00",
          "2017-07-01T00:00:00",
          "2017-08-01T00:00:00",
          "2017-09-01T00:00:00",
          "2017-10-01T00:00:00",
          "2017-11-01T00:00:00",
          "2017-12-01T00:00:00",
          "2018-01-01T00:00:00",
          "2018-02-01T00:00:00",
          "2018-03-01T00:00:00",
          "2018-04-01T00:00:00",
          "2018-05-01T00:00:00",
          "2018-06-01T00:00:00",
          "2018-07-01T00:00:00",
          "2018-08-01T00:00:00",
          "2018-09-01T00:00:00",
          "2018-10-01T00:00:00",
          "2018-11-01T00:00:00",
          "2018-12-01T00:00:00",
          "2019-01-01T00:00:00",
          "2019-02-01T00:00:00",
          "2019-03-01T00:00:00",
          "2019-04-01T00:00:00",
          "2019-05-01T00:00:00",
          "2019-06-01T00:00:00",
          "2019-07-01T00:00:00",
          "2019-08-01T00:00:00",
          "2019-09-01T00:00:00",
          "2019-10-01T00:00:00",
          "2019-11-01T00:00:00",
          "2019-12-01T00:00:00",
          "2020-01-01T00:00:00",
          "2020-02-01T00:00:00",
          "2020-03-01T00:00:00",
          "2020-04-01T00:00:00",
          "2020-05-01T00:00:00",
          "2020-06-01T00:00:00",
          "2020-07-01T00:00:00",
          "2020-08-01T00:00:00",
          "2020-09-01T00:00:00",
          "2020-10-01T00:00:00",
          "2020-11-01T00:00:00",
          "2020-12-01T00:00:00",
          "2021-01-01T00:00:00",
          "2021-02-01T00:00:00",
          "2021-03-01T00:00:00",
          "2021-04-01T00:00:00",
          "2021-05-01T00:00:00",
          "2021-06-01T00:00:00",
          "2021-07-01T00:00:00",
          "2021-08-01T00:00:00",
          "2021-09-01T00:00:00",
          "2021-10-01T00:00:00",
          "2021-11-01T00:00:00",
          "2021-12-01T00:00:00",
          "2022-01-01T00:00:00",
          "2022-02-01T00:00:00",
          "2022-03-01T00:00:00",
          "2022-04-01T00:00:00",
          "2022-05-01T00:00:00",
          "2022-06-01T00:00:00",
          "2022-07-01T00:00:00",
          "2022-08-01T00:00:00",
          "2022-09-01T00:00:00",
          "2022-10-01T00:00:00",
          "2022-11-01T00:00:00",
          "2022-12-01T00:00:00",
          "2023-01-01T00:00:00",
          "2023-02-01T00:00:00",
          "2023-03-01T00:00:00",
          "2023-04-01T00:00:00",
          "2023-05-01T00:00:00",
          "2023-06-01T00:00:00",
          "2023-07-01T00:00:00",
          "2023-08-01T00:00:00",
          "2023-09-01T00:00:00",
          "2023-10-01T00:00:00",
          "2023-11-01T00:00:00",
          "2023-12-01T00:00:00",
          "2024-01-01T00:00:00",
          "2024-02-01T00:00:00",
          "2024-03-01T00:00:00",
          "2024-04-01T00:00:00"
         ],
         "xaxis": "x",
         "y": [
          0,
          0,
          0,
          0,
          0,
          0,
          0,
          0,
          0,
          0,
          0,
          0,
          0,
          0,
          0,
          0,
          0,
          0,
          0,
          0,
          0,
          0,
          0,
          0,
          0,
          0,
          0,
          0,
          0,
          0,
          0,
          0,
          0,
          0,
          1,
          1,
          1,
          1,
          1,
          1,
          1,
          1,
          1,
          1,
          1,
          1,
          1,
          1,
          1,
          1,
          1,
          1,
          1,
          1,
          1,
          1,
          1,
          1,
          1,
          1,
          1,
          1,
          1,
          1,
          1,
          1,
          1,
          1,
          1,
          1,
          1,
          1,
          1,
          1,
          1,
          1,
          1,
          1,
          1,
          1,
          1,
          1,
          1,
          3,
          3,
          3,
          3,
          3,
          3,
          3,
          3,
          3,
          3,
          3,
          3,
          3,
          3,
          3,
          3,
          3,
          3,
          3,
          3,
          3,
          3,
          3,
          3,
          304,
          304,
          334,
          334,
          334,
          334,
          334,
          334,
          334,
          334,
          334,
          334,
          334,
          334,
          334,
          334,
          334,
          334,
          366,
          370,
          370,
          370,
          370,
          370,
          370,
          370,
          370,
          370,
          370,
          370,
          370,
          370,
          370,
          370,
          370,
          374,
          375
         ],
         "yaxis": "y"
        },
        {
         "fill": "tonexty",
         "mode": "lines",
         "name": "Escherichia coli",
         "type": "scatter",
         "x": [
          "2009-10-01T00:00:00",
          "2010-08-01T00:00:00",
          "2010-09-01T00:00:00",
          "2011-11-01T00:00:00",
          "2011-12-01T00:00:00",
          "2012-01-01T00:00:00",
          "2012-02-01T00:00:00",
          "2012-03-01T00:00:00",
          "2012-04-01T00:00:00",
          "2012-05-01T00:00:00",
          "2012-07-01T00:00:00",
          "2012-10-01T00:00:00",
          "2012-11-01T00:00:00",
          "2013-01-01T00:00:00",
          "2013-05-01T00:00:00",
          "2013-06-01T00:00:00",
          "2013-07-01T00:00:00",
          "2013-09-01T00:00:00",
          "2013-10-01T00:00:00",
          "2013-11-01T00:00:00",
          "2013-12-01T00:00:00",
          "2014-01-01T00:00:00",
          "2014-03-01T00:00:00",
          "2014-04-01T00:00:00",
          "2014-05-01T00:00:00",
          "2014-06-01T00:00:00",
          "2014-07-01T00:00:00",
          "2014-08-01T00:00:00",
          "2014-09-01T00:00:00",
          "2014-10-01T00:00:00",
          "2014-11-01T00:00:00",
          "2014-12-01T00:00:00",
          "2015-01-01T00:00:00",
          "2015-02-01T00:00:00",
          "2015-03-01T00:00:00",
          "2015-04-01T00:00:00",
          "2015-05-01T00:00:00",
          "2015-06-01T00:00:00",
          "2015-07-01T00:00:00",
          "2015-08-01T00:00:00",
          "2015-09-01T00:00:00",
          "2015-10-01T00:00:00",
          "2015-11-01T00:00:00",
          "2015-12-01T00:00:00",
          "2016-01-01T00:00:00",
          "2016-02-01T00:00:00",
          "2016-03-01T00:00:00",
          "2016-04-01T00:00:00",
          "2016-05-01T00:00:00",
          "2016-06-01T00:00:00",
          "2016-07-01T00:00:00",
          "2016-08-01T00:00:00",
          "2016-09-01T00:00:00",
          "2016-10-01T00:00:00",
          "2016-11-01T00:00:00",
          "2016-12-01T00:00:00",
          "2017-01-01T00:00:00",
          "2017-02-01T00:00:00",
          "2017-03-01T00:00:00",
          "2017-04-01T00:00:00",
          "2017-05-01T00:00:00",
          "2017-06-01T00:00:00",
          "2017-07-01T00:00:00",
          "2017-08-01T00:00:00",
          "2017-09-01T00:00:00",
          "2017-10-01T00:00:00",
          "2017-11-01T00:00:00",
          "2017-12-01T00:00:00",
          "2018-01-01T00:00:00",
          "2018-02-01T00:00:00",
          "2018-03-01T00:00:00",
          "2018-04-01T00:00:00",
          "2018-05-01T00:00:00",
          "2018-06-01T00:00:00",
          "2018-07-01T00:00:00",
          "2018-08-01T00:00:00",
          "2018-09-01T00:00:00",
          "2018-10-01T00:00:00",
          "2018-11-01T00:00:00",
          "2018-12-01T00:00:00",
          "2019-01-01T00:00:00",
          "2019-02-01T00:00:00",
          "2019-03-01T00:00:00",
          "2019-04-01T00:00:00",
          "2019-05-01T00:00:00",
          "2019-06-01T00:00:00",
          "2019-07-01T00:00:00",
          "2019-08-01T00:00:00",
          "2019-09-01T00:00:00",
          "2019-10-01T00:00:00",
          "2019-11-01T00:00:00",
          "2019-12-01T00:00:00",
          "2020-01-01T00:00:00",
          "2020-02-01T00:00:00",
          "2020-03-01T00:00:00",
          "2020-04-01T00:00:00",
          "2020-05-01T00:00:00",
          "2020-06-01T00:00:00",
          "2020-07-01T00:00:00",
          "2020-08-01T00:00:00",
          "2020-09-01T00:00:00",
          "2020-10-01T00:00:00",
          "2020-11-01T00:00:00",
          "2020-12-01T00:00:00",
          "2021-01-01T00:00:00",
          "2021-02-01T00:00:00",
          "2021-03-01T00:00:00",
          "2021-04-01T00:00:00",
          "2021-05-01T00:00:00",
          "2021-06-01T00:00:00",
          "2021-07-01T00:00:00",
          "2021-08-01T00:00:00",
          "2021-09-01T00:00:00",
          "2021-10-01T00:00:00",
          "2021-11-01T00:00:00",
          "2021-12-01T00:00:00",
          "2022-01-01T00:00:00",
          "2022-02-01T00:00:00",
          "2022-03-01T00:00:00",
          "2022-04-01T00:00:00",
          "2022-05-01T00:00:00",
          "2022-06-01T00:00:00",
          "2022-07-01T00:00:00",
          "2022-08-01T00:00:00",
          "2022-09-01T00:00:00",
          "2022-10-01T00:00:00",
          "2022-11-01T00:00:00",
          "2022-12-01T00:00:00",
          "2023-01-01T00:00:00",
          "2023-02-01T00:00:00",
          "2023-03-01T00:00:00",
          "2023-04-01T00:00:00",
          "2023-05-01T00:00:00",
          "2023-06-01T00:00:00",
          "2023-07-01T00:00:00",
          "2023-08-01T00:00:00",
          "2023-09-01T00:00:00",
          "2023-10-01T00:00:00",
          "2023-11-01T00:00:00",
          "2023-12-01T00:00:00",
          "2024-01-01T00:00:00",
          "2024-02-01T00:00:00",
          "2024-03-01T00:00:00",
          "2024-04-01T00:00:00"
         ],
         "xaxis": "x",
         "y": [
          0,
          0,
          0,
          0,
          8,
          8,
          8,
          8,
          9,
          9,
          9,
          9,
          9,
          9,
          9,
          9,
          9,
          9,
          9,
          9,
          9,
          9,
          9,
          9,
          9,
          9,
          9,
          15,
          15,
          15,
          15,
          15,
          15,
          15,
          38,
          38,
          38,
          38,
          38,
          38,
          38,
          38,
          38,
          38,
          38,
          38,
          38,
          38,
          38,
          38,
          38,
          38,
          38,
          38,
          38,
          38,
          41,
          41,
          60,
          60,
          60,
          60,
          60,
          60,
          60,
          60,
          60,
          63,
          63,
          63,
          63,
          81,
          81,
          81,
          81,
          81,
          81,
          81,
          81,
          81,
          81,
          87,
          87,
          87,
          87,
          87,
          87,
          87,
          87,
          87,
          87,
          87,
          87,
          87,
          87,
          87,
          87,
          91,
          91,
          100,
          100,
          100,
          100,
          100,
          108,
          108,
          108,
          111,
          111,
          111,
          111,
          111,
          111,
          111,
          111,
          115,
          115,
          118,
          118,
          118,
          118,
          118,
          504,
          504,
          504,
          504,
          540,
          540,
          540,
          540,
          540,
          540,
          540,
          540,
          540,
          540,
          540,
          540,
          540,
          540,
          540,
          540,
          540,
          541
         ],
         "yaxis": "y"
        },
        {
         "fill": "tonexty",
         "mode": "lines",
         "name": "Danio rerio",
         "type": "scatter",
         "x": [
          "2009-10-01T00:00:00",
          "2010-08-01T00:00:00",
          "2010-09-01T00:00:00",
          "2011-11-01T00:00:00",
          "2011-12-01T00:00:00",
          "2012-01-01T00:00:00",
          "2012-02-01T00:00:00",
          "2012-03-01T00:00:00",
          "2012-04-01T00:00:00",
          "2012-05-01T00:00:00",
          "2012-07-01T00:00:00",
          "2012-10-01T00:00:00",
          "2012-11-01T00:00:00",
          "2013-01-01T00:00:00",
          "2013-05-01T00:00:00",
          "2013-06-01T00:00:00",
          "2013-07-01T00:00:00",
          "2013-09-01T00:00:00",
          "2013-10-01T00:00:00",
          "2013-11-01T00:00:00",
          "2013-12-01T00:00:00",
          "2014-01-01T00:00:00",
          "2014-03-01T00:00:00",
          "2014-04-01T00:00:00",
          "2014-05-01T00:00:00",
          "2014-06-01T00:00:00",
          "2014-07-01T00:00:00",
          "2014-08-01T00:00:00",
          "2014-09-01T00:00:00",
          "2014-10-01T00:00:00",
          "2014-11-01T00:00:00",
          "2014-12-01T00:00:00",
          "2015-01-01T00:00:00",
          "2015-02-01T00:00:00",
          "2015-03-01T00:00:00",
          "2015-04-01T00:00:00",
          "2015-05-01T00:00:00",
          "2015-06-01T00:00:00",
          "2015-07-01T00:00:00",
          "2015-08-01T00:00:00",
          "2015-09-01T00:00:00",
          "2015-10-01T00:00:00",
          "2015-11-01T00:00:00",
          "2015-12-01T00:00:00",
          "2016-01-01T00:00:00",
          "2016-02-01T00:00:00",
          "2016-03-01T00:00:00",
          "2016-04-01T00:00:00",
          "2016-05-01T00:00:00",
          "2016-06-01T00:00:00",
          "2016-07-01T00:00:00",
          "2016-08-01T00:00:00",
          "2016-09-01T00:00:00",
          "2016-10-01T00:00:00",
          "2016-11-01T00:00:00",
          "2016-12-01T00:00:00",
          "2017-01-01T00:00:00",
          "2017-02-01T00:00:00",
          "2017-03-01T00:00:00",
          "2017-04-01T00:00:00",
          "2017-05-01T00:00:00",
          "2017-06-01T00:00:00",
          "2017-07-01T00:00:00",
          "2017-08-01T00:00:00",
          "2017-09-01T00:00:00",
          "2017-10-01T00:00:00",
          "2017-11-01T00:00:00",
          "2017-12-01T00:00:00",
          "2018-01-01T00:00:00",
          "2018-02-01T00:00:00",
          "2018-03-01T00:00:00",
          "2018-04-01T00:00:00",
          "2018-05-01T00:00:00",
          "2018-06-01T00:00:00",
          "2018-07-01T00:00:00",
          "2018-08-01T00:00:00",
          "2018-09-01T00:00:00",
          "2018-10-01T00:00:00",
          "2018-11-01T00:00:00",
          "2018-12-01T00:00:00",
          "2019-01-01T00:00:00",
          "2019-02-01T00:00:00",
          "2019-03-01T00:00:00",
          "2019-04-01T00:00:00",
          "2019-05-01T00:00:00",
          "2019-06-01T00:00:00",
          "2019-07-01T00:00:00",
          "2019-08-01T00:00:00",
          "2019-09-01T00:00:00",
          "2019-10-01T00:00:00",
          "2019-11-01T00:00:00",
          "2019-12-01T00:00:00",
          "2020-01-01T00:00:00",
          "2020-02-01T00:00:00",
          "2020-03-01T00:00:00",
          "2020-04-01T00:00:00",
          "2020-05-01T00:00:00",
          "2020-06-01T00:00:00",
          "2020-07-01T00:00:00",
          "2020-08-01T00:00:00",
          "2020-09-01T00:00:00",
          "2020-10-01T00:00:00",
          "2020-11-01T00:00:00",
          "2020-12-01T00:00:00",
          "2021-01-01T00:00:00",
          "2021-02-01T00:00:00",
          "2021-03-01T00:00:00",
          "2021-04-01T00:00:00",
          "2021-05-01T00:00:00",
          "2021-06-01T00:00:00",
          "2021-07-01T00:00:00",
          "2021-08-01T00:00:00",
          "2021-09-01T00:00:00",
          "2021-10-01T00:00:00",
          "2021-11-01T00:00:00",
          "2021-12-01T00:00:00",
          "2022-01-01T00:00:00",
          "2022-02-01T00:00:00",
          "2022-03-01T00:00:00",
          "2022-04-01T00:00:00",
          "2022-05-01T00:00:00",
          "2022-06-01T00:00:00",
          "2022-07-01T00:00:00",
          "2022-08-01T00:00:00",
          "2022-09-01T00:00:00",
          "2022-10-01T00:00:00",
          "2022-11-01T00:00:00",
          "2022-12-01T00:00:00",
          "2023-01-01T00:00:00",
          "2023-02-01T00:00:00",
          "2023-03-01T00:00:00",
          "2023-04-01T00:00:00",
          "2023-05-01T00:00:00",
          "2023-06-01T00:00:00",
          "2023-07-01T00:00:00",
          "2023-08-01T00:00:00",
          "2023-09-01T00:00:00",
          "2023-10-01T00:00:00",
          "2023-11-01T00:00:00",
          "2023-12-01T00:00:00",
          "2024-01-01T00:00:00",
          "2024-02-01T00:00:00",
          "2024-03-01T00:00:00",
          "2024-04-01T00:00:00"
         ],
         "xaxis": "x",
         "y": [
          0,
          0,
          0,
          0,
          0,
          0,
          0,
          34,
          34,
          34,
          34,
          34,
          34,
          34,
          42,
          42,
          42,
          101,
          101,
          101,
          101,
          101,
          101,
          593,
          593,
          593,
          593,
          593,
          593,
          593,
          593,
          593,
          593,
          593,
          593,
          593,
          593,
          593,
          602,
          602,
          602,
          602,
          602,
          602,
          602,
          602,
          602,
          602,
          602,
          602,
          602,
          602,
          602,
          602,
          602,
          602,
          602,
          602,
          602,
          602,
          602,
          602,
          602,
          602,
          602,
          602,
          602,
          602,
          602,
          602,
          602,
          605,
          605,
          605,
          605,
          605,
          605,
          605,
          605,
          605,
          605,
          605,
          629,
          629,
          629,
          629,
          629,
          629,
          629,
          630,
          630,
          630,
          630,
          630,
          630,
          677,
          677,
          677,
          677,
          677,
          677,
          677,
          677,
          677,
          677,
          677,
          677,
          677,
          677,
          677,
          677,
          677,
          677,
          677,
          677,
          677,
          677,
          677,
          677,
          677,
          677,
          685,
          685,
          693,
          693,
          693,
          693,
          693,
          693,
          705,
          705,
          705,
          705,
          705,
          705,
          705,
          705,
          705,
          705,
          705,
          705,
          705,
          705,
          706
         ],
         "yaxis": "y"
        },
        {
         "fill": "tonexty",
         "mode": "lines",
         "name": "Saccharomyces cerevisiae",
         "type": "scatter",
         "x": [
          "2009-10-01T00:00:00",
          "2010-08-01T00:00:00",
          "2010-09-01T00:00:00",
          "2011-11-01T00:00:00",
          "2011-12-01T00:00:00",
          "2012-01-01T00:00:00",
          "2012-02-01T00:00:00",
          "2012-03-01T00:00:00",
          "2012-04-01T00:00:00",
          "2012-05-01T00:00:00",
          "2012-07-01T00:00:00",
          "2012-10-01T00:00:00",
          "2012-11-01T00:00:00",
          "2013-01-01T00:00:00",
          "2013-05-01T00:00:00",
          "2013-06-01T00:00:00",
          "2013-07-01T00:00:00",
          "2013-09-01T00:00:00",
          "2013-10-01T00:00:00",
          "2013-11-01T00:00:00",
          "2013-12-01T00:00:00",
          "2014-01-01T00:00:00",
          "2014-03-01T00:00:00",
          "2014-04-01T00:00:00",
          "2014-05-01T00:00:00",
          "2014-06-01T00:00:00",
          "2014-07-01T00:00:00",
          "2014-08-01T00:00:00",
          "2014-09-01T00:00:00",
          "2014-10-01T00:00:00",
          "2014-11-01T00:00:00",
          "2014-12-01T00:00:00",
          "2015-01-01T00:00:00",
          "2015-02-01T00:00:00",
          "2015-03-01T00:00:00",
          "2015-04-01T00:00:00",
          "2015-05-01T00:00:00",
          "2015-06-01T00:00:00",
          "2015-07-01T00:00:00",
          "2015-08-01T00:00:00",
          "2015-09-01T00:00:00",
          "2015-10-01T00:00:00",
          "2015-11-01T00:00:00",
          "2015-12-01T00:00:00",
          "2016-01-01T00:00:00",
          "2016-02-01T00:00:00",
          "2016-03-01T00:00:00",
          "2016-04-01T00:00:00",
          "2016-05-01T00:00:00",
          "2016-06-01T00:00:00",
          "2016-07-01T00:00:00",
          "2016-08-01T00:00:00",
          "2016-09-01T00:00:00",
          "2016-10-01T00:00:00",
          "2016-11-01T00:00:00",
          "2016-12-01T00:00:00",
          "2017-01-01T00:00:00",
          "2017-02-01T00:00:00",
          "2017-03-01T00:00:00",
          "2017-04-01T00:00:00",
          "2017-05-01T00:00:00",
          "2017-06-01T00:00:00",
          "2017-07-01T00:00:00",
          "2017-08-01T00:00:00",
          "2017-09-01T00:00:00",
          "2017-10-01T00:00:00",
          "2017-11-01T00:00:00",
          "2017-12-01T00:00:00",
          "2018-01-01T00:00:00",
          "2018-02-01T00:00:00",
          "2018-03-01T00:00:00",
          "2018-04-01T00:00:00",
          "2018-05-01T00:00:00",
          "2018-06-01T00:00:00",
          "2018-07-01T00:00:00",
          "2018-08-01T00:00:00",
          "2018-09-01T00:00:00",
          "2018-10-01T00:00:00",
          "2018-11-01T00:00:00",
          "2018-12-01T00:00:00",
          "2019-01-01T00:00:00",
          "2019-02-01T00:00:00",
          "2019-03-01T00:00:00",
          "2019-04-01T00:00:00",
          "2019-05-01T00:00:00",
          "2019-06-01T00:00:00",
          "2019-07-01T00:00:00",
          "2019-08-01T00:00:00",
          "2019-09-01T00:00:00",
          "2019-10-01T00:00:00",
          "2019-11-01T00:00:00",
          "2019-12-01T00:00:00",
          "2020-01-01T00:00:00",
          "2020-02-01T00:00:00",
          "2020-03-01T00:00:00",
          "2020-04-01T00:00:00",
          "2020-05-01T00:00:00",
          "2020-06-01T00:00:00",
          "2020-07-01T00:00:00",
          "2020-08-01T00:00:00",
          "2020-09-01T00:00:00",
          "2020-10-01T00:00:00",
          "2020-11-01T00:00:00",
          "2020-12-01T00:00:00",
          "2021-01-01T00:00:00",
          "2021-02-01T00:00:00",
          "2021-03-01T00:00:00",
          "2021-04-01T00:00:00",
          "2021-05-01T00:00:00",
          "2021-06-01T00:00:00",
          "2021-07-01T00:00:00",
          "2021-08-01T00:00:00",
          "2021-09-01T00:00:00",
          "2021-10-01T00:00:00",
          "2021-11-01T00:00:00",
          "2021-12-01T00:00:00",
          "2022-01-01T00:00:00",
          "2022-02-01T00:00:00",
          "2022-03-01T00:00:00",
          "2022-04-01T00:00:00",
          "2022-05-01T00:00:00",
          "2022-06-01T00:00:00",
          "2022-07-01T00:00:00",
          "2022-08-01T00:00:00",
          "2022-09-01T00:00:00",
          "2022-10-01T00:00:00",
          "2022-11-01T00:00:00",
          "2022-12-01T00:00:00",
          "2023-01-01T00:00:00",
          "2023-02-01T00:00:00",
          "2023-03-01T00:00:00",
          "2023-04-01T00:00:00",
          "2023-05-01T00:00:00",
          "2023-06-01T00:00:00",
          "2023-07-01T00:00:00",
          "2023-08-01T00:00:00",
          "2023-09-01T00:00:00",
          "2023-10-01T00:00:00",
          "2023-11-01T00:00:00",
          "2023-12-01T00:00:00",
          "2024-01-01T00:00:00",
          "2024-02-01T00:00:00",
          "2024-03-01T00:00:00",
          "2024-04-01T00:00:00"
         ],
         "xaxis": "x",
         "y": [
          14,
          14,
          14,
          14,
          14,
          51,
          51,
          51,
          51,
          51,
          51,
          51,
          51,
          51,
          51,
          51,
          51,
          53,
          53,
          53,
          82,
          90,
          90,
          90,
          90,
          108,
          136,
          160,
          160,
          160,
          216,
          220,
          225,
          225,
          241,
          241,
          241,
          326,
          346,
          346,
          346,
          346,
          346,
          346,
          346,
          364,
          364,
          364,
          372,
          372,
          372,
          389,
          401,
          401,
          404,
          404,
          475,
          487,
          487,
          487,
          505,
          664,
          696,
          700,
          700,
          700,
          702,
          746,
          768,
          818,
          1035,
          1035,
          1035,
          1035,
          1039,
          1083,
          1097,
          1097,
          1112,
          1125,
          1153,
          1165,
          1207,
          1207,
          1207,
          1236,
          1244,
          1288,
          1288,
          1294,
          1294,
          1294,
          1294,
          1294,
          1294,
          1406,
          1413,
          1428,
          1535,
          1541,
          1541,
          1541,
          1555,
          1555,
          1555,
          1555,
          1618,
          1618,
          1618,
          1622,
          1622,
          1626,
          1638,
          1672,
          1672,
          1705,
          1745,
          1788,
          1788,
          1806,
          1806,
          1806,
          1814,
          1816,
          1821,
          1821,
          1918,
          1918,
          1926,
          1932,
          1959,
          1959,
          1967,
          1967,
          1967,
          1967,
          1976,
          1976,
          1976,
          1976,
          1999,
          2015,
          2023,
          2033
         ],
         "yaxis": "y"
        },
        {
         "fill": "tonexty",
         "mode": "lines",
         "name": "Other Organisms (n=118)",
         "type": "scatter",
         "x": [
          "2009-10-01T00:00:00",
          "2010-08-01T00:00:00",
          "2010-09-01T00:00:00",
          "2011-11-01T00:00:00",
          "2011-12-01T00:00:00",
          "2012-01-01T00:00:00",
          "2012-02-01T00:00:00",
          "2012-03-01T00:00:00",
          "2012-04-01T00:00:00",
          "2012-05-01T00:00:00",
          "2012-07-01T00:00:00",
          "2012-10-01T00:00:00",
          "2012-11-01T00:00:00",
          "2013-01-01T00:00:00",
          "2013-05-01T00:00:00",
          "2013-06-01T00:00:00",
          "2013-07-01T00:00:00",
          "2013-09-01T00:00:00",
          "2013-10-01T00:00:00",
          "2013-11-01T00:00:00",
          "2013-12-01T00:00:00",
          "2014-01-01T00:00:00",
          "2014-03-01T00:00:00",
          "2014-04-01T00:00:00",
          "2014-05-01T00:00:00",
          "2014-06-01T00:00:00",
          "2014-07-01T00:00:00",
          "2014-08-01T00:00:00",
          "2014-09-01T00:00:00",
          "2014-10-01T00:00:00",
          "2014-11-01T00:00:00",
          "2014-12-01T00:00:00",
          "2015-01-01T00:00:00",
          "2015-02-01T00:00:00",
          "2015-03-01T00:00:00",
          "2015-04-01T00:00:00",
          "2015-05-01T00:00:00",
          "2015-06-01T00:00:00",
          "2015-07-01T00:00:00",
          "2015-08-01T00:00:00",
          "2015-09-01T00:00:00",
          "2015-10-01T00:00:00",
          "2015-11-01T00:00:00",
          "2015-12-01T00:00:00",
          "2016-01-01T00:00:00",
          "2016-02-01T00:00:00",
          "2016-03-01T00:00:00",
          "2016-04-01T00:00:00",
          "2016-05-01T00:00:00",
          "2016-06-01T00:00:00",
          "2016-07-01T00:00:00",
          "2016-08-01T00:00:00",
          "2016-09-01T00:00:00",
          "2016-10-01T00:00:00",
          "2016-11-01T00:00:00",
          "2016-12-01T00:00:00",
          "2017-01-01T00:00:00",
          "2017-02-01T00:00:00",
          "2017-03-01T00:00:00",
          "2017-04-01T00:00:00",
          "2017-05-01T00:00:00",
          "2017-06-01T00:00:00",
          "2017-07-01T00:00:00",
          "2017-08-01T00:00:00",
          "2017-09-01T00:00:00",
          "2017-10-01T00:00:00",
          "2017-11-01T00:00:00",
          "2017-12-01T00:00:00",
          "2018-01-01T00:00:00",
          "2018-02-01T00:00:00",
          "2018-03-01T00:00:00",
          "2018-04-01T00:00:00",
          "2018-05-01T00:00:00",
          "2018-06-01T00:00:00",
          "2018-07-01T00:00:00",
          "2018-08-01T00:00:00",
          "2018-09-01T00:00:00",
          "2018-10-01T00:00:00",
          "2018-11-01T00:00:00",
          "2018-12-01T00:00:00",
          "2019-01-01T00:00:00",
          "2019-02-01T00:00:00",
          "2019-03-01T00:00:00",
          "2019-04-01T00:00:00",
          "2019-05-01T00:00:00",
          "2019-06-01T00:00:00",
          "2019-07-01T00:00:00",
          "2019-08-01T00:00:00",
          "2019-09-01T00:00:00",
          "2019-10-01T00:00:00",
          "2019-11-01T00:00:00",
          "2019-12-01T00:00:00",
          "2020-01-01T00:00:00",
          "2020-02-01T00:00:00",
          "2020-03-01T00:00:00",
          "2020-04-01T00:00:00",
          "2020-05-01T00:00:00",
          "2020-06-01T00:00:00",
          "2020-07-01T00:00:00",
          "2020-08-01T00:00:00",
          "2020-09-01T00:00:00",
          "2020-10-01T00:00:00",
          "2020-11-01T00:00:00",
          "2020-12-01T00:00:00",
          "2021-01-01T00:00:00",
          "2021-02-01T00:00:00",
          "2021-03-01T00:00:00",
          "2021-04-01T00:00:00",
          "2021-05-01T00:00:00",
          "2021-06-01T00:00:00",
          "2021-07-01T00:00:00",
          "2021-08-01T00:00:00",
          "2021-09-01T00:00:00",
          "2021-10-01T00:00:00",
          "2021-11-01T00:00:00",
          "2021-12-01T00:00:00",
          "2022-01-01T00:00:00",
          "2022-02-01T00:00:00",
          "2022-03-01T00:00:00",
          "2022-04-01T00:00:00",
          "2022-05-01T00:00:00",
          "2022-06-01T00:00:00",
          "2022-07-01T00:00:00",
          "2022-08-01T00:00:00",
          "2022-09-01T00:00:00",
          "2022-10-01T00:00:00",
          "2022-11-01T00:00:00",
          "2022-12-01T00:00:00",
          "2023-01-01T00:00:00",
          "2023-02-01T00:00:00",
          "2023-03-01T00:00:00",
          "2023-04-01T00:00:00",
          "2023-05-01T00:00:00",
          "2023-06-01T00:00:00",
          "2023-07-01T00:00:00",
          "2023-08-01T00:00:00",
          "2023-09-01T00:00:00",
          "2023-10-01T00:00:00",
          "2023-11-01T00:00:00",
          "2023-12-01T00:00:00",
          "2024-01-01T00:00:00",
          "2024-02-01T00:00:00",
          "2024-03-01T00:00:00",
          "2024-04-01T00:00:00"
         ],
         "xaxis": "x",
         "y": [
          0,
          0,
          0,
          0,
          0,
          0,
          0,
          0,
          9,
          9,
          9,
          9,
          9,
          9,
          9,
          23,
          43,
          43,
          47,
          47,
          56,
          60,
          60,
          68,
          77,
          96,
          98,
          98,
          103,
          103,
          130,
          130,
          134,
          134,
          134,
          134,
          164,
          178,
          250,
          250,
          272,
          273,
          279,
          288,
          291,
          291,
          340,
          383,
          387,
          387,
          387,
          401,
          401,
          411,
          411,
          423,
          426,
          430,
          434,
          443,
          443,
          443,
          443,
          447,
          473,
          485,
          494,
          494,
          499,
          518,
          543,
          551,
          561,
          561,
          678,
          691,
          696,
          702,
          710,
          710,
          710,
          724,
          724,
          749,
          771,
          811,
          818,
          820,
          874,
          926,
          970,
          970,
          987,
          1068,
          1104,
          1115,
          1129,
          1141,
          1223,
          1235,
          1243,
          1293,
          1421,
          1445,
          1445,
          1445,
          1480,
          1527,
          1543,
          1572,
          1589,
          1650,
          1654,
          1670,
          1689,
          1704,
          1709,
          1711,
          1745,
          1745,
          1757,
          1759,
          1759,
          1780,
          1780,
          1812,
          1898,
          1931,
          1987,
          2005,
          2005,
          2022,
          2024,
          2024,
          2048,
          2060,
          2091,
          2101,
          2140,
          2172,
          2186,
          2257,
          2259,
          2284
         ],
         "yaxis": "y"
        },
        {
         "fill": "tonexty",
         "mode": "lines",
         "name": "Mus musculus",
         "type": "scatter",
         "x": [
          "2009-10-01T00:00:00",
          "2010-08-01T00:00:00",
          "2010-09-01T00:00:00",
          "2011-11-01T00:00:00",
          "2011-12-01T00:00:00",
          "2012-01-01T00:00:00",
          "2012-02-01T00:00:00",
          "2012-03-01T00:00:00",
          "2012-04-01T00:00:00",
          "2012-05-01T00:00:00",
          "2012-07-01T00:00:00",
          "2012-10-01T00:00:00",
          "2012-11-01T00:00:00",
          "2013-01-01T00:00:00",
          "2013-05-01T00:00:00",
          "2013-06-01T00:00:00",
          "2013-07-01T00:00:00",
          "2013-09-01T00:00:00",
          "2013-10-01T00:00:00",
          "2013-11-01T00:00:00",
          "2013-12-01T00:00:00",
          "2014-01-01T00:00:00",
          "2014-03-01T00:00:00",
          "2014-04-01T00:00:00",
          "2014-05-01T00:00:00",
          "2014-06-01T00:00:00",
          "2014-07-01T00:00:00",
          "2014-08-01T00:00:00",
          "2014-09-01T00:00:00",
          "2014-10-01T00:00:00",
          "2014-11-01T00:00:00",
          "2014-12-01T00:00:00",
          "2015-01-01T00:00:00",
          "2015-02-01T00:00:00",
          "2015-03-01T00:00:00",
          "2015-04-01T00:00:00",
          "2015-05-01T00:00:00",
          "2015-06-01T00:00:00",
          "2015-07-01T00:00:00",
          "2015-08-01T00:00:00",
          "2015-09-01T00:00:00",
          "2015-10-01T00:00:00",
          "2015-11-01T00:00:00",
          "2015-12-01T00:00:00",
          "2016-01-01T00:00:00",
          "2016-02-01T00:00:00",
          "2016-03-01T00:00:00",
          "2016-04-01T00:00:00",
          "2016-05-01T00:00:00",
          "2016-06-01T00:00:00",
          "2016-07-01T00:00:00",
          "2016-08-01T00:00:00",
          "2016-09-01T00:00:00",
          "2016-10-01T00:00:00",
          "2016-11-01T00:00:00",
          "2016-12-01T00:00:00",
          "2017-01-01T00:00:00",
          "2017-02-01T00:00:00",
          "2017-03-01T00:00:00",
          "2017-04-01T00:00:00",
          "2017-05-01T00:00:00",
          "2017-06-01T00:00:00",
          "2017-07-01T00:00:00",
          "2017-08-01T00:00:00",
          "2017-09-01T00:00:00",
          "2017-10-01T00:00:00",
          "2017-11-01T00:00:00",
          "2017-12-01T00:00:00",
          "2018-01-01T00:00:00",
          "2018-02-01T00:00:00",
          "2018-03-01T00:00:00",
          "2018-04-01T00:00:00",
          "2018-05-01T00:00:00",
          "2018-06-01T00:00:00",
          "2018-07-01T00:00:00",
          "2018-08-01T00:00:00",
          "2018-09-01T00:00:00",
          "2018-10-01T00:00:00",
          "2018-11-01T00:00:00",
          "2018-12-01T00:00:00",
          "2019-01-01T00:00:00",
          "2019-02-01T00:00:00",
          "2019-03-01T00:00:00",
          "2019-04-01T00:00:00",
          "2019-05-01T00:00:00",
          "2019-06-01T00:00:00",
          "2019-07-01T00:00:00",
          "2019-08-01T00:00:00",
          "2019-09-01T00:00:00",
          "2019-10-01T00:00:00",
          "2019-11-01T00:00:00",
          "2019-12-01T00:00:00",
          "2020-01-01T00:00:00",
          "2020-02-01T00:00:00",
          "2020-03-01T00:00:00",
          "2020-04-01T00:00:00",
          "2020-05-01T00:00:00",
          "2020-06-01T00:00:00",
          "2020-07-01T00:00:00",
          "2020-08-01T00:00:00",
          "2020-09-01T00:00:00",
          "2020-10-01T00:00:00",
          "2020-11-01T00:00:00",
          "2020-12-01T00:00:00",
          "2021-01-01T00:00:00",
          "2021-02-01T00:00:00",
          "2021-03-01T00:00:00",
          "2021-04-01T00:00:00",
          "2021-05-01T00:00:00",
          "2021-06-01T00:00:00",
          "2021-07-01T00:00:00",
          "2021-08-01T00:00:00",
          "2021-09-01T00:00:00",
          "2021-10-01T00:00:00",
          "2021-11-01T00:00:00",
          "2021-12-01T00:00:00",
          "2022-01-01T00:00:00",
          "2022-02-01T00:00:00",
          "2022-03-01T00:00:00",
          "2022-04-01T00:00:00",
          "2022-05-01T00:00:00",
          "2022-06-01T00:00:00",
          "2022-07-01T00:00:00",
          "2022-08-01T00:00:00",
          "2022-09-01T00:00:00",
          "2022-10-01T00:00:00",
          "2022-11-01T00:00:00",
          "2022-12-01T00:00:00",
          "2023-01-01T00:00:00",
          "2023-02-01T00:00:00",
          "2023-03-01T00:00:00",
          "2023-04-01T00:00:00",
          "2023-05-01T00:00:00",
          "2023-06-01T00:00:00",
          "2023-07-01T00:00:00",
          "2023-08-01T00:00:00",
          "2023-09-01T00:00:00",
          "2023-10-01T00:00:00",
          "2023-11-01T00:00:00",
          "2023-12-01T00:00:00",
          "2024-01-01T00:00:00",
          "2024-02-01T00:00:00",
          "2024-03-01T00:00:00",
          "2024-04-01T00:00:00"
         ],
         "xaxis": "x",
         "y": [
          0,
          0,
          4,
          53,
          53,
          53,
          53,
          53,
          53,
          61,
          61,
          63,
          65,
          65,
          65,
          65,
          65,
          71,
          71,
          71,
          71,
          71,
          71,
          71,
          71,
          71,
          83,
          92,
          92,
          98,
          118,
          118,
          118,
          124,
          130,
          130,
          130,
          130,
          233,
          233,
          249,
          324,
          1208,
          1250,
          1334,
          1365,
          1365,
          1374,
          1383,
          1401,
          1401,
          1407,
          1407,
          1416,
          1416,
          1424,
          1432,
          1439,
          1439,
          1492,
          1492,
          1520,
          1567,
          1595,
          1595,
          1595,
          1598,
          1598,
          1602,
          1617,
          1617,
          1617,
          1617,
          1623,
          1647,
          1647,
          1667,
          1713,
          1724,
          1750,
          1880,
          1880,
          1930,
          1971,
          1983,
          2012,
          2050,
          2160,
          2188,
          2199,
          2205,
          2225,
          2323,
          2450,
          2516,
          2539,
          2549,
          2630,
          2646,
          2654,
          2654,
          2692,
          2721,
          2755,
          2767,
          2794,
          2839,
          2868,
          2916,
          2954,
          2965,
          2969,
          2993,
          3057,
          3125,
          3137,
          3158,
          3175,
          3195,
          3294,
          3333,
          3353,
          3376,
          3380,
          3388,
          3398,
          3462,
          3564,
          3564,
          3617,
          3627,
          3651,
          3766,
          3798,
          3814,
          3836,
          3848,
          3867,
          3867,
          3989,
          3989,
          4041,
          4071,
          4072
         ],
         "yaxis": "y"
        },
        {
         "fill": "tonexty",
         "mode": "lines",
         "name": "Homo sapiens",
         "type": "scatter",
         "x": [
          "2009-10-01T00:00:00",
          "2010-08-01T00:00:00",
          "2010-09-01T00:00:00",
          "2011-11-01T00:00:00",
          "2011-12-01T00:00:00",
          "2012-01-01T00:00:00",
          "2012-02-01T00:00:00",
          "2012-03-01T00:00:00",
          "2012-04-01T00:00:00",
          "2012-05-01T00:00:00",
          "2012-07-01T00:00:00",
          "2012-10-01T00:00:00",
          "2012-11-01T00:00:00",
          "2013-01-01T00:00:00",
          "2013-05-01T00:00:00",
          "2013-06-01T00:00:00",
          "2013-07-01T00:00:00",
          "2013-09-01T00:00:00",
          "2013-10-01T00:00:00",
          "2013-11-01T00:00:00",
          "2013-12-01T00:00:00",
          "2014-01-01T00:00:00",
          "2014-03-01T00:00:00",
          "2014-04-01T00:00:00",
          "2014-05-01T00:00:00",
          "2014-06-01T00:00:00",
          "2014-07-01T00:00:00",
          "2014-08-01T00:00:00",
          "2014-09-01T00:00:00",
          "2014-10-01T00:00:00",
          "2014-11-01T00:00:00",
          "2014-12-01T00:00:00",
          "2015-01-01T00:00:00",
          "2015-02-01T00:00:00",
          "2015-03-01T00:00:00",
          "2015-04-01T00:00:00",
          "2015-05-01T00:00:00",
          "2015-06-01T00:00:00",
          "2015-07-01T00:00:00",
          "2015-08-01T00:00:00",
          "2015-09-01T00:00:00",
          "2015-10-01T00:00:00",
          "2015-11-01T00:00:00",
          "2015-12-01T00:00:00",
          "2016-01-01T00:00:00",
          "2016-02-01T00:00:00",
          "2016-03-01T00:00:00",
          "2016-04-01T00:00:00",
          "2016-05-01T00:00:00",
          "2016-06-01T00:00:00",
          "2016-07-01T00:00:00",
          "2016-08-01T00:00:00",
          "2016-09-01T00:00:00",
          "2016-10-01T00:00:00",
          "2016-11-01T00:00:00",
          "2016-12-01T00:00:00",
          "2017-01-01T00:00:00",
          "2017-02-01T00:00:00",
          "2017-03-01T00:00:00",
          "2017-04-01T00:00:00",
          "2017-05-01T00:00:00",
          "2017-06-01T00:00:00",
          "2017-07-01T00:00:00",
          "2017-08-01T00:00:00",
          "2017-09-01T00:00:00",
          "2017-10-01T00:00:00",
          "2017-11-01T00:00:00",
          "2017-12-01T00:00:00",
          "2018-01-01T00:00:00",
          "2018-02-01T00:00:00",
          "2018-03-01T00:00:00",
          "2018-04-01T00:00:00",
          "2018-05-01T00:00:00",
          "2018-06-01T00:00:00",
          "2018-07-01T00:00:00",
          "2018-08-01T00:00:00",
          "2018-09-01T00:00:00",
          "2018-10-01T00:00:00",
          "2018-11-01T00:00:00",
          "2018-12-01T00:00:00",
          "2019-01-01T00:00:00",
          "2019-02-01T00:00:00",
          "2019-03-01T00:00:00",
          "2019-04-01T00:00:00",
          "2019-05-01T00:00:00",
          "2019-06-01T00:00:00",
          "2019-07-01T00:00:00",
          "2019-08-01T00:00:00",
          "2019-09-01T00:00:00",
          "2019-10-01T00:00:00",
          "2019-11-01T00:00:00",
          "2019-12-01T00:00:00",
          "2020-01-01T00:00:00",
          "2020-02-01T00:00:00",
          "2020-03-01T00:00:00",
          "2020-04-01T00:00:00",
          "2020-05-01T00:00:00",
          "2020-06-01T00:00:00",
          "2020-07-01T00:00:00",
          "2020-08-01T00:00:00",
          "2020-09-01T00:00:00",
          "2020-10-01T00:00:00",
          "2020-11-01T00:00:00",
          "2020-12-01T00:00:00",
          "2021-01-01T00:00:00",
          "2021-02-01T00:00:00",
          "2021-03-01T00:00:00",
          "2021-04-01T00:00:00",
          "2021-05-01T00:00:00",
          "2021-06-01T00:00:00",
          "2021-07-01T00:00:00",
          "2021-08-01T00:00:00",
          "2021-09-01T00:00:00",
          "2021-10-01T00:00:00",
          "2021-11-01T00:00:00",
          "2021-12-01T00:00:00",
          "2022-01-01T00:00:00",
          "2022-02-01T00:00:00",
          "2022-03-01T00:00:00",
          "2022-04-01T00:00:00",
          "2022-05-01T00:00:00",
          "2022-06-01T00:00:00",
          "2022-07-01T00:00:00",
          "2022-08-01T00:00:00",
          "2022-09-01T00:00:00",
          "2022-10-01T00:00:00",
          "2022-11-01T00:00:00",
          "2022-12-01T00:00:00",
          "2023-01-01T00:00:00",
          "2023-02-01T00:00:00",
          "2023-03-01T00:00:00",
          "2023-04-01T00:00:00",
          "2023-05-01T00:00:00",
          "2023-06-01T00:00:00",
          "2023-07-01T00:00:00",
          "2023-08-01T00:00:00",
          "2023-09-01T00:00:00",
          "2023-10-01T00:00:00",
          "2023-11-01T00:00:00",
          "2023-12-01T00:00:00",
          "2024-01-01T00:00:00",
          "2024-02-01T00:00:00",
          "2024-03-01T00:00:00",
          "2024-04-01T00:00:00"
         ],
         "xaxis": "x",
         "y": [
          0,
          9,
          9,
          9,
          11,
          11,
          17,
          17,
          17,
          17,
          20,
          20,
          24,
          35,
          35,
          35,
          35,
          35,
          41,
          51,
          51,
          51,
          51,
          51,
          51,
          51,
          61,
          64,
          69,
          69,
          74,
          112,
          122,
          188,
          194,
          202,
          233,
          245,
          364,
          412,
          441,
          443,
          526,
          528,
          548,
          548,
          548,
          572,
          575,
          609,
          645,
          653,
          784,
          784,
          784,
          795,
          799,
          813,
          813,
          821,
          835,
          865,
          876,
          876,
          894,
          895,
          895,
          895,
          905,
          911,
          911,
          956,
          990,
          1002,
          1014,
          1027,
          1033,
          1049,
          1066,
          1078,
          1119,
          1143,
          1174,
          1194,
          1226,
          1266,
          1311,
          1359,
          1384,
          1410,
          1491,
          1550,
          1622,
          1660,
          1700,
          1736,
          1758,
          1835,
          1869,
          1936,
          1948,
          1975,
          2038,
          2308,
          2342,
          2384,
          2429,
          2477,
          2529,
          2561,
          2739,
          2790,
          2828,
          2832,
          2899,
          2910,
          2924,
          2951,
          3133,
          3177,
          3189,
          3263,
          3437,
          3469,
          3473,
          3526,
          3540,
          3571,
          3582,
          3641,
          3668,
          3685,
          3697,
          3728,
          3763,
          3827,
          3845,
          3877,
          3880,
          3919,
          4036,
          4070,
          4123,
          4189
         ],
         "yaxis": "y"
        }
       ],
       "layout": {
        "height": 600,
        "legend": {
         "orientation": "h",
         "x": 1,
         "xanchor": "right",
         "y": 1.02,
         "yanchor": "bottom"
        },
        "template": {
         "data": {
          "bar": [
           {
            "error_x": {
             "color": "#2a3f5f"
            },
            "error_y": {
             "color": "#2a3f5f"
            },
            "marker": {
             "line": {
              "color": "#E5ECF6",
              "width": 0.5
             },
             "pattern": {
              "fillmode": "overlay",
              "size": 10,
              "solidity": 0.2
             }
            },
            "type": "bar"
           }
          ],
          "barpolar": [
           {
            "marker": {
             "line": {
              "color": "#E5ECF6",
              "width": 0.5
             },
             "pattern": {
              "fillmode": "overlay",
              "size": 10,
              "solidity": 0.2
             }
            },
            "type": "barpolar"
           }
          ],
          "carpet": [
           {
            "aaxis": {
             "endlinecolor": "#2a3f5f",
             "gridcolor": "white",
             "linecolor": "white",
             "minorgridcolor": "white",
             "startlinecolor": "#2a3f5f"
            },
            "baxis": {
             "endlinecolor": "#2a3f5f",
             "gridcolor": "white",
             "linecolor": "white",
             "minorgridcolor": "white",
             "startlinecolor": "#2a3f5f"
            },
            "type": "carpet"
           }
          ],
          "choropleth": [
           {
            "colorbar": {
             "outlinewidth": 0,
             "ticks": ""
            },
            "type": "choropleth"
           }
          ],
          "contour": [
           {
            "colorbar": {
             "outlinewidth": 0,
             "ticks": ""
            },
            "colorscale": [
             [
              0,
              "#0d0887"
             ],
             [
              0.1111111111111111,
              "#46039f"
             ],
             [
              0.2222222222222222,
              "#7201a8"
             ],
             [
              0.3333333333333333,
              "#9c179e"
             ],
             [
              0.4444444444444444,
              "#bd3786"
             ],
             [
              0.5555555555555556,
              "#d8576b"
             ],
             [
              0.6666666666666666,
              "#ed7953"
             ],
             [
              0.7777777777777778,
              "#fb9f3a"
             ],
             [
              0.8888888888888888,
              "#fdca26"
             ],
             [
              1,
              "#f0f921"
             ]
            ],
            "type": "contour"
           }
          ],
          "contourcarpet": [
           {
            "colorbar": {
             "outlinewidth": 0,
             "ticks": ""
            },
            "type": "contourcarpet"
           }
          ],
          "heatmap": [
           {
            "colorbar": {
             "outlinewidth": 0,
             "ticks": ""
            },
            "colorscale": [
             [
              0,
              "#0d0887"
             ],
             [
              0.1111111111111111,
              "#46039f"
             ],
             [
              0.2222222222222222,
              "#7201a8"
             ],
             [
              0.3333333333333333,
              "#9c179e"
             ],
             [
              0.4444444444444444,
              "#bd3786"
             ],
             [
              0.5555555555555556,
              "#d8576b"
             ],
             [
              0.6666666666666666,
              "#ed7953"
             ],
             [
              0.7777777777777778,
              "#fb9f3a"
             ],
             [
              0.8888888888888888,
              "#fdca26"
             ],
             [
              1,
              "#f0f921"
             ]
            ],
            "type": "heatmap"
           }
          ],
          "heatmapgl": [
           {
            "colorbar": {
             "outlinewidth": 0,
             "ticks": ""
            },
            "colorscale": [
             [
              0,
              "#0d0887"
             ],
             [
              0.1111111111111111,
              "#46039f"
             ],
             [
              0.2222222222222222,
              "#7201a8"
             ],
             [
              0.3333333333333333,
              "#9c179e"
             ],
             [
              0.4444444444444444,
              "#bd3786"
             ],
             [
              0.5555555555555556,
              "#d8576b"
             ],
             [
              0.6666666666666666,
              "#ed7953"
             ],
             [
              0.7777777777777778,
              "#fb9f3a"
             ],
             [
              0.8888888888888888,
              "#fdca26"
             ],
             [
              1,
              "#f0f921"
             ]
            ],
            "type": "heatmapgl"
           }
          ],
          "histogram": [
           {
            "marker": {
             "pattern": {
              "fillmode": "overlay",
              "size": 10,
              "solidity": 0.2
             }
            },
            "type": "histogram"
           }
          ],
          "histogram2d": [
           {
            "colorbar": {
             "outlinewidth": 0,
             "ticks": ""
            },
            "colorscale": [
             [
              0,
              "#0d0887"
             ],
             [
              0.1111111111111111,
              "#46039f"
             ],
             [
              0.2222222222222222,
              "#7201a8"
             ],
             [
              0.3333333333333333,
              "#9c179e"
             ],
             [
              0.4444444444444444,
              "#bd3786"
             ],
             [
              0.5555555555555556,
              "#d8576b"
             ],
             [
              0.6666666666666666,
              "#ed7953"
             ],
             [
              0.7777777777777778,
              "#fb9f3a"
             ],
             [
              0.8888888888888888,
              "#fdca26"
             ],
             [
              1,
              "#f0f921"
             ]
            ],
            "type": "histogram2d"
           }
          ],
          "histogram2dcontour": [
           {
            "colorbar": {
             "outlinewidth": 0,
             "ticks": ""
            },
            "colorscale": [
             [
              0,
              "#0d0887"
             ],
             [
              0.1111111111111111,
              "#46039f"
             ],
             [
              0.2222222222222222,
              "#7201a8"
             ],
             [
              0.3333333333333333,
              "#9c179e"
             ],
             [
              0.4444444444444444,
              "#bd3786"
             ],
             [
              0.5555555555555556,
              "#d8576b"
             ],
             [
              0.6666666666666666,
              "#ed7953"
             ],
             [
              0.7777777777777778,
              "#fb9f3a"
             ],
             [
              0.8888888888888888,
              "#fdca26"
             ],
             [
              1,
              "#f0f921"
             ]
            ],
            "type": "histogram2dcontour"
           }
          ],
          "mesh3d": [
           {
            "colorbar": {
             "outlinewidth": 0,
             "ticks": ""
            },
            "type": "mesh3d"
           }
          ],
          "parcoords": [
           {
            "line": {
             "colorbar": {
              "outlinewidth": 0,
              "ticks": ""
             }
            },
            "type": "parcoords"
           }
          ],
          "pie": [
           {
            "automargin": true,
            "type": "pie"
           }
          ],
          "scatter": [
           {
            "fillpattern": {
             "fillmode": "overlay",
             "size": 10,
             "solidity": 0.2
            },
            "type": "scatter"
           }
          ],
          "scatter3d": [
           {
            "line": {
             "colorbar": {
              "outlinewidth": 0,
              "ticks": ""
             }
            },
            "marker": {
             "colorbar": {
              "outlinewidth": 0,
              "ticks": ""
             }
            },
            "type": "scatter3d"
           }
          ],
          "scattercarpet": [
           {
            "marker": {
             "colorbar": {
              "outlinewidth": 0,
              "ticks": ""
             }
            },
            "type": "scattercarpet"
           }
          ],
          "scattergeo": [
           {
            "marker": {
             "colorbar": {
              "outlinewidth": 0,
              "ticks": ""
             }
            },
            "type": "scattergeo"
           }
          ],
          "scattergl": [
           {
            "marker": {
             "colorbar": {
              "outlinewidth": 0,
              "ticks": ""
             }
            },
            "type": "scattergl"
           }
          ],
          "scattermapbox": [
           {
            "marker": {
             "colorbar": {
              "outlinewidth": 0,
              "ticks": ""
             }
            },
            "type": "scattermapbox"
           }
          ],
          "scatterpolar": [
           {
            "marker": {
             "colorbar": {
              "outlinewidth": 0,
              "ticks": ""
             }
            },
            "type": "scatterpolar"
           }
          ],
          "scatterpolargl": [
           {
            "marker": {
             "colorbar": {
              "outlinewidth": 0,
              "ticks": ""
             }
            },
            "type": "scatterpolargl"
           }
          ],
          "scatterternary": [
           {
            "marker": {
             "colorbar": {
              "outlinewidth": 0,
              "ticks": ""
             }
            },
            "type": "scatterternary"
           }
          ],
          "surface": [
           {
            "colorbar": {
             "outlinewidth": 0,
             "ticks": ""
            },
            "colorscale": [
             [
              0,
              "#0d0887"
             ],
             [
              0.1111111111111111,
              "#46039f"
             ],
             [
              0.2222222222222222,
              "#7201a8"
             ],
             [
              0.3333333333333333,
              "#9c179e"
             ],
             [
              0.4444444444444444,
              "#bd3786"
             ],
             [
              0.5555555555555556,
              "#d8576b"
             ],
             [
              0.6666666666666666,
              "#ed7953"
             ],
             [
              0.7777777777777778,
              "#fb9f3a"
             ],
             [
              0.8888888888888888,
              "#fdca26"
             ],
             [
              1,
              "#f0f921"
             ]
            ],
            "type": "surface"
           }
          ],
          "table": [
           {
            "cells": {
             "fill": {
              "color": "#EBF0F8"
             },
             "line": {
              "color": "white"
             }
            },
            "header": {
             "fill": {
              "color": "#C8D4E3"
             },
             "line": {
              "color": "white"
             }
            },
            "type": "table"
           }
          ]
         },
         "layout": {
          "annotationdefaults": {
           "arrowcolor": "#2a3f5f",
           "arrowhead": 0,
           "arrowwidth": 1
          },
          "autotypenumbers": "strict",
          "coloraxis": {
           "colorbar": {
            "outlinewidth": 0,
            "ticks": ""
           }
          },
          "colorscale": {
           "diverging": [
            [
             0,
             "#8e0152"
            ],
            [
             0.1,
             "#c51b7d"
            ],
            [
             0.2,
             "#de77ae"
            ],
            [
             0.3,
             "#f1b6da"
            ],
            [
             0.4,
             "#fde0ef"
            ],
            [
             0.5,
             "#f7f7f7"
            ],
            [
             0.6,
             "#e6f5d0"
            ],
            [
             0.7,
             "#b8e186"
            ],
            [
             0.8,
             "#7fbc41"
            ],
            [
             0.9,
             "#4d9221"
            ],
            [
             1,
             "#276419"
            ]
           ],
           "sequential": [
            [
             0,
             "#0d0887"
            ],
            [
             0.1111111111111111,
             "#46039f"
            ],
            [
             0.2222222222222222,
             "#7201a8"
            ],
            [
             0.3333333333333333,
             "#9c179e"
            ],
            [
             0.4444444444444444,
             "#bd3786"
            ],
            [
             0.5555555555555556,
             "#d8576b"
            ],
            [
             0.6666666666666666,
             "#ed7953"
            ],
            [
             0.7777777777777778,
             "#fb9f3a"
            ],
            [
             0.8888888888888888,
             "#fdca26"
            ],
            [
             1,
             "#f0f921"
            ]
           ],
           "sequentialminus": [
            [
             0,
             "#0d0887"
            ],
            [
             0.1111111111111111,
             "#46039f"
            ],
            [
             0.2222222222222222,
             "#7201a8"
            ],
            [
             0.3333333333333333,
             "#9c179e"
            ],
            [
             0.4444444444444444,
             "#bd3786"
            ],
            [
             0.5555555555555556,
             "#d8576b"
            ],
            [
             0.6666666666666666,
             "#ed7953"
            ],
            [
             0.7777777777777778,
             "#fb9f3a"
            ],
            [
             0.8888888888888888,
             "#fdca26"
            ],
            [
             1,
             "#f0f921"
            ]
           ]
          },
          "colorway": [
           "#636efa",
           "#EF553B",
           "#00cc96",
           "#ab63fa",
           "#FFA15A",
           "#19d3f3",
           "#FF6692",
           "#B6E880",
           "#FF97FF",
           "#FECB52"
          ],
          "font": {
           "color": "#2a3f5f"
          },
          "geo": {
           "bgcolor": "white",
           "lakecolor": "white",
           "landcolor": "#E5ECF6",
           "showlakes": true,
           "showland": true,
           "subunitcolor": "white"
          },
          "hoverlabel": {
           "align": "left"
          },
          "hovermode": "closest",
          "mapbox": {
           "style": "light"
          },
          "paper_bgcolor": "white",
          "plot_bgcolor": "#E5ECF6",
          "polar": {
           "angularaxis": {
            "gridcolor": "white",
            "linecolor": "white",
            "ticks": ""
           },
           "bgcolor": "#E5ECF6",
           "radialaxis": {
            "gridcolor": "white",
            "linecolor": "white",
            "ticks": ""
           }
          },
          "scene": {
           "xaxis": {
            "backgroundcolor": "#E5ECF6",
            "gridcolor": "white",
            "gridwidth": 2,
            "linecolor": "white",
            "showbackground": true,
            "ticks": "",
            "zerolinecolor": "white"
           },
           "yaxis": {
            "backgroundcolor": "#E5ECF6",
            "gridcolor": "white",
            "gridwidth": 2,
            "linecolor": "white",
            "showbackground": true,
            "ticks": "",
            "zerolinecolor": "white"
           },
           "zaxis": {
            "backgroundcolor": "#E5ECF6",
            "gridcolor": "white",
            "gridwidth": 2,
            "linecolor": "white",
            "showbackground": true,
            "ticks": "",
            "zerolinecolor": "white"
           }
          },
          "shapedefaults": {
           "line": {
            "color": "#2a3f5f"
           }
          },
          "ternary": {
           "aaxis": {
            "gridcolor": "white",
            "linecolor": "white",
            "ticks": ""
           },
           "baxis": {
            "gridcolor": "white",
            "linecolor": "white",
            "ticks": ""
           },
           "bgcolor": "#E5ECF6",
           "caxis": {
            "gridcolor": "white",
            "linecolor": "white",
            "ticks": ""
           }
          },
          "title": {
           "x": 0.05
          },
          "xaxis": {
           "automargin": true,
           "gridcolor": "white",
           "linecolor": "white",
           "ticks": "",
           "title": {
            "standoff": 15
           },
           "zerolinecolor": "white",
           "zerolinewidth": 2
          },
          "yaxis": {
           "automargin": true,
           "gridcolor": "white",
           "linecolor": "white",
           "ticks": "",
           "title": {
            "standoff": 15
           },
           "zerolinecolor": "white",
           "zerolinewidth": 2
          }
         }
        },
        "title": {
         "text": "Cumulative Samples Over Time by Organism"
        },
        "width": 1200,
        "xaxis": {
         "anchor": "y",
         "domain": [
          0,
          1
         ],
         "range": [
          "2009-10-01T00:00:00",
          "2024-04-01T00:00:00"
         ],
         "title": {
          "text": "Date"
         }
        },
        "yaxis": {
         "anchor": "x",
         "domain": [
          0,
          1
         ],
         "title": {
          "text": "Cumulative Number of Samples"
         }
        }
       }
      }
     },
     "metadata": {},
     "output_type": "display_data"
    }
   ],
   "source": [
    "import plotly.graph_objs as go\n",
    "from plotly.subplots import make_subplots\n",
    "\n",
    "def generate_cumulative_entries_plot(df, organism_order):\n",
    "    # Group the dataframe by date and organism, calculate the size, unstack, fill NaN with 0, and cumulatively sum\n",
    "    cumsum_df = df.groupby(['Date', 'ScientificName']).size().unstack().fillna(0).cumsum()\n",
    "\n",
    "    # Reindex the columns based on the organism order\n",
    "    cumsum_df = cumsum_df.reindex(organism_order, axis=1)\n",
    "\n",
    "    # Create a new figure with subplots\n",
    "    fig = make_subplots(rows=1, cols=1)\n",
    "\n",
    "    # Iterate over the organisms and add traces to the plot\n",
    "    for organism in organism_order:\n",
    "        fig.add_trace(go.Scatter(x=cumsum_df.index,\n",
    "                                 y=cumsum_df[organism],\n",
    "                                 mode='lines',\n",
    "                                 name=organism,\n",
    "                                 fill='tonexty'\n",
    "                                 ), row=1, col=1)\n",
    "\n",
    "    # Customize the layout\n",
    "    fig.update_layout(\n",
    "        title='Cumulative Samples Over Time by Organism',\n",
    "        xaxis_title='Date',\n",
    "        yaxis_title='Cumulative Number of Samples',\n",
    "        # legend_title='Organism',\n",
    "        legend=dict(orientation='h', yanchor='bottom', y=1.02, xanchor='right', x=1),\n",
    "        height=600,\n",
    "        width=1200\n",
    "    )\n",
    "\n",
    "    # Set the x-axis range to the date range in the data\n",
    "    latest_date = df['Date'].max()\n",
    "    fig.update_xaxes(range=[df['Date'].min(), latest_date])\n",
    "\n",
    "    return fig\n",
    "\n",
    "# Call the function with your dataframe and organism order\n",
    "fig = generate_cumulative_entries_plot(df, organism_order)\n",
    "\n",
    "# Display the plot\n",
    "fig.show()"
   ]
  },
  {
   "cell_type": "code",
   "execution_count": 96,
   "metadata": {},
   "outputs": [
    {
     "data": {
      "text/plain": [
       "(<Figure size 1500x1000 with 1 Axes>,\n",
       " <Axes: title={'center': 'Number of Publications per Year'}, xlabel='Year', ylabel='Number of\\nPublications'>)"
      ]
     },
     "execution_count": 96,
     "metadata": {},
     "output_type": "execute_result"
    },
    {
     "data": {
      "image/png": "[encoded data removed]",
      "text/plain": [
       "<Figure size 1500x1000 with 1 Axes>"
      ]
     },
     "metadata": {},
     "output_type": "display_data"
    }
   ],
   "source": [
    "pubmed_df = pd.read_csv('data/pubmed_results.csv', dtype={'Year': int, 'count': int}, sep=\"\\t\")\n",
    "\n",
    "# plot bar chart of number of publications per year\n",
    "def plot_pubmed_results(pubmed_df):\n",
    "    # Group the dataframe by year and calculate the number of publications\n",
    "\n",
    "    # Create a bar plot\n",
    "    fig, ax = plt.subplots(figsize=(15, 10))\n",
    "    ax.bar(pubmed_df['Year'], pubmed_df['Count'], color='skyblue')\n",
    "\n",
    "    # Customize the plot appearance\n",
    "    ax.set_title('Number of Publications per Year', fontsize=20)\n",
    "    ax.set_xlabel('Year', fontsize=16)\n",
    "    ax.set_ylabel('Number of\\nPublications', fontsize=16, rotation=0, labelpad=50, ha='center')\n",
    "    ax.xaxis.set_tick_params(rotation=0, labelsize=12)\n",
    "    ax.yaxis.set_tick_params(rotation=0, labelsize=12)\n",
    "\n",
    "    ax.set_xticks(pubmed_df['Year'])\n",
    "\n",
    "    # Return the figure and axes objects\n",
    "    return fig, ax\n",
    "\n",
    "plot_pubmed_results(pubmed_df)"
   ]
  },
  {
   "cell_type": "code",
   "execution_count": 97,
   "metadata": {},
   "outputs": [
    {
     "ename": "ValueError",
     "evalue": "too many values to unpack (expected 2)",
     "output_type": "error",
     "traceback": [
      "\u001b[0;31m---------------------------------------------------------------------------\u001b[0m",
      "\u001b[0;31mValueError\u001b[0m                                Traceback (most recent call last)",
      "Cell \u001b[0;32mIn[97], line 24\u001b[0m\n\u001b[1;32m     20\u001b[0m     fig\u001b[38;5;241m.\u001b[39mupdate_layout(height\u001b[38;5;241m=\u001b[39m\u001b[38;5;241m800\u001b[39m, width\u001b[38;5;241m=\u001b[39m\u001b[38;5;241m1200\u001b[39m, title_text\u001b[38;5;241m=\u001b[39m\u001b[38;5;124m\"\u001b[39m\u001b[38;5;124mCombined Plot of Cumulative Entries and Publications\u001b[39m\u001b[38;5;124m\"\u001b[39m)\n\u001b[1;32m     22\u001b[0m     \u001b[38;5;28;01mreturn\u001b[39;00m fig\n\u001b[0;32m---> 24\u001b[0m plot_combined_pubmed_entries(df, pubmed_df, organism_order)\n",
      "Cell \u001b[0;32mIn[97], line 7\u001b[0m, in \u001b[0;36mplot_combined_pubmed_entries\u001b[0;34m(df, pubmed_df, organism_order)\u001b[0m\n\u001b[1;32m      6\u001b[0m \u001b[38;5;28;01mdef\u001b[39;00m \u001b[38;5;21mplot_combined_pubmed_entries\u001b[39m(df, pubmed_df, organism_order):\n\u001b[0;32m----> 7\u001b[0m     fig, ax \u001b[38;5;241m=\u001b[39m generate_cumulative_entries_plot(df, organism_order)\n\u001b[1;32m      8\u001b[0m     fig2, ax2 \u001b[38;5;241m=\u001b[39m plot_pubmed_results(pubmed_df)\n\u001b[1;32m     10\u001b[0m     \u001b[38;5;66;03m# Create a subplot with two plots\u001b[39;00m\n",
      "\u001b[0;31mValueError\u001b[0m: too many values to unpack (expected 2)"
     ]
    }
   ],
   "source": [
    "# make a combined plot of the two plots using plotly\n",
    "\n",
    "import plotly.graph_objects as go\n",
    "from plotly.subplots import make_subplots\n",
    "\n",
    "def plot_combined_pubmed_entries(df, pubmed_df, organism_order):\n",
    "    fig, ax = generate_cumulative_entries_plot(df, organism_order)\n",
    "    fig2, ax2 = plot_pubmed_results(pubmed_df)\n",
    "\n",
    "    # Create a subplot with two plots\n",
    "    fig = make_subplots(rows=2, cols=1, subplot_titles=(\"Cumulative Entries Over Time by Organism\", \"Number of Publications per Year\"))\n",
    "\n",
    "    # Add the first plot\n",
    "    fig.add_trace(go.Scatter(x=fig.axes[0].get_xticks(), y=fig.axes[0].get_yticks(), mode='lines', name='Cumulative Entries Over Time by Organism'), row=1, col=1)\n",
    "\n",
    "    # Add the second plot\n",
    "    fig.add_trace(go.Bar(x=pubmed_df['Year'], y=pubmed_df['Count'], name='Number of Publications per Year'), row=2, col=1)\n",
    "\n",
    "    # Update the layout\n",
    "    fig.update_layout(height=800, width=1200, title_text=\"Combined Plot of Cumulative Entries and Publications\")\n",
    "\n",
    "    return fig\n",
    "\n",
    "plot_combined_pubmed_entries(df, pubmed_df, organism_order)\n"
   ]
  },
  {
   "cell_type": "code",
   "execution_count": null,
   "metadata": {},
   "outputs": [
    {
     "data": {
      "text/html": [
       "<div>\n",
       "<style scoped>\n",
       "    .dataframe tbody tr th:only-of-type {\n",
       "        vertical-align: middle;\n",
       "    }\n",
       "\n",
       "    .dataframe tbody tr th {\n",
       "        vertical-align: top;\n",
       "    }\n",
       "\n",
       "    .dataframe thead th {\n",
       "        text-align: right;\n",
       "    }\n",
       "</style>\n",
       "<table border=\"1\" class=\"dataframe\">\n",
       "  <thead>\n",
       "    <tr style=\"text-align: right;\">\n",
       "      <th></th>\n",
       "      <th>Date</th>\n",
       "      <th>counts</th>\n",
       "    </tr>\n",
       "  </thead>\n",
       "  <tbody>\n",
       "    <tr>\n",
       "      <th>0</th>\n",
       "      <td>2012-03-01</td>\n",
       "      <td>34</td>\n",
       "    </tr>\n",
       "    <tr>\n",
       "      <th>1</th>\n",
       "      <td>2013-05-01</td>\n",
       "      <td>8</td>\n",
       "    </tr>\n",
       "    <tr>\n",
       "      <th>2</th>\n",
       "      <td>2013-09-01</td>\n",
       "      <td>59</td>\n",
       "    </tr>\n",
       "    <tr>\n",
       "      <th>3</th>\n",
       "      <td>2014-04-01</td>\n",
       "      <td>492</td>\n",
       "    </tr>\n",
       "    <tr>\n",
       "      <th>4</th>\n",
       "      <td>2019-10-01</td>\n",
       "      <td>1</td>\n",
       "    </tr>\n",
       "    <tr>\n",
       "      <th>5</th>\n",
       "      <td>2022-06-01</td>\n",
       "      <td>8</td>\n",
       "    </tr>\n",
       "    <tr>\n",
       "      <th>6</th>\n",
       "      <td>2022-08-01</td>\n",
       "      <td>4</td>\n",
       "    </tr>\n",
       "  </tbody>\n",
       "</table>\n",
       "</div>"
      ],
      "text/plain": [
       "        Date  counts\n",
       "0 2012-03-01      34\n",
       "1 2013-05-01       8\n",
       "2 2013-09-01      59\n",
       "3 2014-04-01     492\n",
       "4 2019-10-01       1\n",
       "5 2022-06-01       8\n",
       "6 2022-08-01       4"
      ]
     },
     "execution_count": 345,
     "metadata": {},
     "output_type": "execute_result"
    }
   ],
   "source": [
    "# find number of Danio rerio entries per month\n",
    "df_danio = df[df['ScientificName'] == 'Danio rerio']\n",
    "df_danio = df_danio.groupby('Date')\n",
    "df_danio = df_danio.size().reset_index(name='counts')\n",
    "df_danio"
   ]
  },
  {
   "cell_type": "code",
   "execution_count": null,
   "metadata": {},
   "outputs": [
    {
     "data": {
      "image/png": "[encoded data removed]",
      "text/plain": [
       "<Figure size 1500x1000 with 2 Axes>"
      ]
     },
     "metadata": {},
     "output_type": "display_data"
    }
   ],
   "source": [
    "import matplotlib.pyplot as plt\n",
    "import matplotlib.dates as mdates\n",
    "\n",
    "fig, ax = plt.subplots(2, 1, figsize=(15, 10))\n",
    "\n",
    "\n",
    "def generate_cumulative_entries_plot(df, organism_order, fig, ax):\n",
    "    cumsum_df = df.groupby(['Date', 'ScientificName']).size().unstack().fillna(0).cumsum()\n",
    "    cumsum_df = cumsum_df.reindex(organism_order, axis=1)\n",
    "\n",
    "    ax.set_prop_cycle(color=plt.cm.tab20.colors)\n",
    "    cumsum_df.plot.area(ax=ax, title='Cumulative Entries Over Time by Organism')\n",
    "\n",
    "    handles, labels = ax.get_legend_handles_labels()\n",
    "    ax.legend(reversed(handles), reversed(labels), title=None, loc='upper left', fontsize=16)\n",
    "    ax.set_title('Cumulative Samples Over Time by Organism', fontsize=20)\n",
    "    ax.set_xlabel('Year', fontsize=16)\n",
    "    ax.set_ylabel('Cumulative\\nNumber of\\nSamples', rotation=0, labelpad=50, fontsize=16, ha='center')\n",
    "\n",
    "    latest_date = df['Date'].max()\n",
    "    ax.set_xlim([df['Date'].min(), latest_date])\n",
    "    # ax.xaxis.set_major_formatter(mdates.DateFormatter('%Y-%m-%d'))\n",
    "    ax.xaxis.set_tick_params(rotation=0, labelsize=12)\n",
    "    ax.yaxis.set_tick_params(rotation=0, labelsize=12)\n",
    "\n",
    "    return fig, ax\n",
    "\n",
    "def plot_pubmed_results(pubmed_df, ax):\n",
    "    ax.bar(pubmed_df['Year'], pubmed_df['Count'], color='skyblue')\n",
    "\n",
    "    ax.set_title('Number of Publications per Year', fontsize=20)\n",
    "    ax.set_xlabel('Year', fontsize=16)\n",
    "    ax.set_ylabel('Number of\\nPublications', fontsize=16, rotation=0, labelpad=50, ha='center')\n",
    "    ax.tick_params(axis='x', rotation=0, labelsize=12)\n",
    "    ax.tick_params(axis='y', labelsize=12)\n",
    "\n",
    "    ax.set_xticks(pubmed_df['Year'])\n",
    "\n",
    "\n",
    "# Create the two-panel figure\n",
    "fig, ax1 = generate_cumulative_entries_plot(df, organism_order, fig, ax[0])\n",
    "\n",
    "# Create the second axis for the bar plot\n",
    "plot_pubmed_results(pubmed_df, ax[1])\n",
    "\n",
    "# Adjust the spacing between subplots\n",
    "plt.tight_layout()\n",
    "\n",
    "# Display the plot\n",
    "plt.show()"
   ]
  }
 ],
 "metadata": {
  "kernelspec": {
   "display_name": "Python 3",
   "language": "python",
   "name": "python3"
  },
  "language_info": {
   "codemirror_mode": {
    "name": "ipython",
    "version": 3
   },
   "file_extension": ".py",
   "mimetype": "text/x-python",
   "name": "python",
   "nbconvert_exporter": "python",
   "pygments_lexer": "ipython3",
   "version": "3.11.5"
  }
 },
 "nbformat": 4,
 "nbformat_minor": 2
}
