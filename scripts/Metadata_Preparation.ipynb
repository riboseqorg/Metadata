{
 "cells": [
  {
   "cell_type": "markdown",
   "metadata": {},
   "source": [
    "# Metadata Preparation\n",
    "This notebook carries out the semi-manual metadata cleaning steps that aim to correct any noticed errors remaining after the RiboSeq Metadata [R scripts](https://github.com/Roleren/riboseq_metadata)"
   ]
  },
  {
   "cell_type": "code",
   "execution_count": 1,
   "metadata": {},
   "outputs": [],
   "source": [
    "import pandas as pd \n"
   ]
  },
  {
   "cell_type": "code",
   "execution_count": 2,
   "metadata": {},
   "outputs": [],
   "source": [
    "latest_metadata_path = \"/home/jack/projects/Metadata/data/standardized_columns_final_2024-04-22.csv\""
   ]
  },
  {
   "cell_type": "markdown",
   "metadata": {},
   "source": [
    "## Trips-Viz Metadata Matching"
   ]
  },
  {
   "cell_type": "code",
   "execution_count": 3,
   "metadata": {},
   "outputs": [
    {
     "name": "stderr",
     "output_type": "stream",
     "text": [
      "/tmp/ipykernel_2084577/757137606.py:5: DtypeWarning: Columns (30,31,32,33,34,35,36,37,38,39,40,41,42,43,44,45,46,47,48,49,50,51,53,54,55,56,57,58,59,60,61,62,63,64,65,66,67,68,69,70,73,89,91,93,94,95,100,101,102,104,105,108,109,110,111,112,114,115) have mixed types. Specify dtype option on import or set low_memory=False.\n",
      "  filtered = pd.read_csv(latest_metadata_path)\n"
     ]
    }
   ],
   "source": [
    "files = pd.read_csv('/home/jack/projects/RiboSeqOrg-DataPortal/data/trips_files.csv',\n",
    "                    names=['file_id', 'organism_id', 'study_id', 'file_name', 'file_description', 'file_type', 'owner', 'mapped_reads', 'control', 'cell_line'])\n",
    "studies = pd.read_csv('/home/jack/projects/RiboSeqOrg-DataPortal/data/trips_studies.csv',\n",
    "                      names=['study_id', 'organism_id', 'study_name', 'paper_authors', 'srp_nos', 'paper_year', 'paper_pmid', 'paper_link', 'gse_nos', 'adapters', 'paper_title', 'description', 'private', 'owner'])\n",
    "filtered = pd.read_csv(latest_metadata_path)"
   ]
  },
  {
   "cell_type": "code",
   "execution_count": 4,
   "metadata": {},
   "outputs": [
    {
     "data": {
      "text/plain": [
       "(12725, 10)"
      ]
     },
     "execution_count": 4,
     "metadata": {},
     "output_type": "execute_result"
    }
   ],
   "source": [
    "files.shape"
   ]
  },
  {
   "cell_type": "code",
   "execution_count": 5,
   "metadata": {},
   "outputs": [
    {
     "data": {
      "text/html": [
       "<div>\n",
       "<style scoped>\n",
       "    .dataframe tbody tr th:only-of-type {\n",
       "        vertical-align: middle;\n",
       "    }\n",
       "\n",
       "    .dataframe tbody tr th {\n",
       "        vertical-align: top;\n",
       "    }\n",
       "\n",
       "    .dataframe thead th {\n",
       "        text-align: right;\n",
       "    }\n",
       "</style>\n",
       "<table border=\"1\" class=\"dataframe\">\n",
       "  <thead>\n",
       "    <tr style=\"text-align: right;\">\n",
       "      <th></th>\n",
       "      <th>study_id</th>\n",
       "      <th>organism_id</th>\n",
       "      <th>study_name</th>\n",
       "      <th>paper_authors</th>\n",
       "      <th>srp_nos</th>\n",
       "      <th>paper_year</th>\n",
       "      <th>paper_pmid</th>\n",
       "      <th>paper_link</th>\n",
       "      <th>gse_nos</th>\n",
       "      <th>adapters</th>\n",
       "      <th>paper_title</th>\n",
       "      <th>description</th>\n",
       "      <th>private</th>\n",
       "      <th>owner</th>\n",
       "    </tr>\n",
       "  </thead>\n",
       "  <tbody>\n",
       "    <tr>\n",
       "      <th>NaN</th>\n",
       "      <td>0</td>\n",
       "      <td>1</td>\n",
       "      <td>2</td>\n",
       "      <td>3</td>\n",
       "      <td>4</td>\n",
       "      <td>5</td>\n",
       "      <td>6</td>\n",
       "      <td>7</td>\n",
       "      <td>8</td>\n",
       "      <td>9</td>\n",
       "      <td>10</td>\n",
       "      <td>11</td>\n",
       "      <td>12</td>\n",
       "      <td>13</td>\n",
       "    </tr>\n",
       "    <tr>\n",
       "      <th>0.0</th>\n",
       "      <td>-1</td>\n",
       "      <td>0</td>\n",
       "      <td>NaN</td>\n",
       "      <td>NaN</td>\n",
       "      <td>NaN</td>\n",
       "      <td>NaN</td>\n",
       "      <td>NaN</td>\n",
       "      <td>NaN</td>\n",
       "      <td>NaN</td>\n",
       "      <td>NaN</td>\n",
       "      <td>NaN</td>\n",
       "      <td>NaN</td>\n",
       "      <td>0</td>\n",
       "      <td>0</td>\n",
       "    </tr>\n",
       "    <tr>\n",
       "      <th>1.0</th>\n",
       "      <td>1</td>\n",
       "      <td>10</td>\n",
       "      <td>Nedialkova15</td>\n",
       "      <td>Nedialkova DD, Leidel SA</td>\n",
       "      <td>SRP056647</td>\n",
       "      <td>2015</td>\n",
       "      <td>26052047</td>\n",
       "      <td>\"https://linkinghub.elsevier.com/retrieve/pii/...</td>\n",
       "      <td>GSE67387</td>\n",
       "      <td>NaN</td>\n",
       "      <td>Optimization of Codon Translation Rates via tR...</td>\n",
       "      <td>Ribosome profiling of wild-type and tRNA modif...</td>\n",
       "      <td>0</td>\n",
       "      <td>1</td>\n",
       "    </tr>\n",
       "    <tr>\n",
       "      <th>2.0</th>\n",
       "      <td>2</td>\n",
       "      <td>7</td>\n",
       "      <td>Dunn13</td>\n",
       "      <td>Dunn JG, Foo CK, Belletier NG, Gavis ER, Weiss...</td>\n",
       "      <td>SRP028243</td>\n",
       "      <td>2013</td>\n",
       "      <td>24302569</td>\n",
       "      <td>\"https://doi.org/10.7554/eLife.01179\"</td>\n",
       "      <td>GSE49197</td>\n",
       "      <td>CTGTAGGCACCATCAAT</td>\n",
       "      <td>Ribosome profiling reveals pervasive and regul...</td>\n",
       "      <td>12 samples of Drosophila ribosome profiling an...</td>\n",
       "      <td>0</td>\n",
       "      <td>1</td>\n",
       "    </tr>\n",
       "    <tr>\n",
       "      <th>3.0</th>\n",
       "      <td>3</td>\n",
       "      <td>8</td>\n",
       "      <td>Nakahigashi16</td>\n",
       "      <td>Nakahigashi K, Takai Y, Kimura M, Abe N, Nakay...</td>\n",
       "      <td>DRP003075</td>\n",
       "      <td>2016</td>\n",
       "      <td>NaN</td>\n",
       "      <td>https://academic.oup.com/dnaresearch/article-l...</td>\n",
       "      <td>Nakahigashi16</td>\n",
       "      <td>NaN</td>\n",
       "      <td>Comprehensive identification of translation st...</td>\n",
       "      <td>NaN</td>\n",
       "      <td>0</td>\n",
       "      <td>1</td>\n",
       "    </tr>\n",
       "  </tbody>\n",
       "</table>\n",
       "</div>"
      ],
      "text/plain": [
       "     study_id  organism_id     study_name  \\\n",
       "NaN         0            1              2   \n",
       "0.0        -1            0            NaN   \n",
       "1.0         1           10   Nedialkova15   \n",
       "2.0         2            7         Dunn13   \n",
       "3.0         3            8  Nakahigashi16   \n",
       "\n",
       "                                         paper_authors    srp_nos paper_year  \\\n",
       "NaN                                                  3          4          5   \n",
       "0.0                                                NaN        NaN        NaN   \n",
       "1.0                           Nedialkova DD, Leidel SA  SRP056647       2015   \n",
       "2.0  Dunn JG, Foo CK, Belletier NG, Gavis ER, Weiss...  SRP028243       2013   \n",
       "3.0  Nakahigashi K, Takai Y, Kimura M, Abe N, Nakay...  DRP003075       2016   \n",
       "\n",
       "    paper_pmid                                         paper_link  \\\n",
       "NaN          6                                                  7   \n",
       "0.0        NaN                                                NaN   \n",
       "1.0   26052047  \"https://linkinghub.elsevier.com/retrieve/pii/...   \n",
       "2.0   24302569              \"https://doi.org/10.7554/eLife.01179\"   \n",
       "3.0        NaN  https://academic.oup.com/dnaresearch/article-l...   \n",
       "\n",
       "           gse_nos           adapters  \\\n",
       "NaN              8                  9   \n",
       "0.0            NaN                NaN   \n",
       "1.0       GSE67387                NaN   \n",
       "2.0       GSE49197  CTGTAGGCACCATCAAT   \n",
       "3.0  Nakahigashi16                NaN   \n",
       "\n",
       "                                           paper_title  \\\n",
       "NaN                                                 10   \n",
       "0.0                                                NaN   \n",
       "1.0  Optimization of Codon Translation Rates via tR...   \n",
       "2.0  Ribosome profiling reveals pervasive and regul...   \n",
       "3.0  Comprehensive identification of translation st...   \n",
       "\n",
       "                                           description  private  owner  \n",
       "NaN                                                 11       12     13  \n",
       "0.0                                                NaN        0      0  \n",
       "1.0  Ribosome profiling of wild-type and tRNA modif...        0      1  \n",
       "2.0  12 samples of Drosophila ribosome profiling an...        0      1  \n",
       "3.0                                                NaN        0      1  "
      ]
     },
     "execution_count": 5,
     "metadata": {},
     "output_type": "execute_result"
    }
   ],
   "source": [
    "studies.head()"
   ]
  },
  {
   "cell_type": "code",
   "execution_count": 6,
   "metadata": {},
   "outputs": [],
   "source": [
    "public_studies = studies[studies['private'] == 0]\n",
    "public_study_ids = list(public_studies['study_id'].values)"
   ]
  },
  {
   "cell_type": "code",
   "execution_count": 7,
   "metadata": {},
   "outputs": [
    {
     "data": {
      "text/plain": [
       "(2649, 10)"
      ]
     },
     "execution_count": 7,
     "metadata": {},
     "output_type": "execute_result"
    }
   ],
   "source": [
    "files = files[files['study_id'].isin(public_study_ids)]\n",
    "files = files[files['file_type'] == 'riboseq']\n",
    "files.shape"
   ]
  },
  {
   "cell_type": "code",
   "execution_count": 8,
   "metadata": {},
   "outputs": [],
   "source": [
    "organisms = pd.read_csv('/home/jack/projects/RiboSeqOrg-DataPortal/data/trips_orgnaims.csv',\n",
    "                        names=['organism_id', 'organism_name', 'transcriptome_list', 'gwips_databasename', 'gwips_clade', 'gwips_organism', 'gwips_database', 'default_transcript', 'private', 'owner'])\n",
    "                        "
   ]
  },
  {
   "cell_type": "code",
   "execution_count": 9,
   "metadata": {},
   "outputs": [
    {
     "data": {
      "text/html": [
       "<div>\n",
       "<style scoped>\n",
       "    .dataframe tbody tr th:only-of-type {\n",
       "        vertical-align: middle;\n",
       "    }\n",
       "\n",
       "    .dataframe tbody tr th {\n",
       "        vertical-align: top;\n",
       "    }\n",
       "\n",
       "    .dataframe thead th {\n",
       "        text-align: right;\n",
       "    }\n",
       "</style>\n",
       "<table border=\"1\" class=\"dataframe\">\n",
       "  <thead>\n",
       "    <tr style=\"text-align: right;\">\n",
       "      <th></th>\n",
       "      <th>organism_id</th>\n",
       "      <th>organism_name</th>\n",
       "      <th>transcriptome_list</th>\n",
       "      <th>gwips_databasename</th>\n",
       "      <th>gwips_clade</th>\n",
       "      <th>gwips_organism</th>\n",
       "      <th>gwips_database</th>\n",
       "      <th>default_transcript</th>\n",
       "      <th>private</th>\n",
       "      <th>owner</th>\n",
       "    </tr>\n",
       "  </thead>\n",
       "  <tbody>\n",
       "    <tr>\n",
       "      <th>0</th>\n",
       "      <td>1</td>\n",
       "      <td>saccharomyces_cerevisiae</td>\n",
       "      <td>sgd</td>\n",
       "      <td>yeast</td>\n",
       "      <td>yeast</td>\n",
       "      <td>S.+cerevisiae</td>\n",
       "      <td>sacCer3</td>\n",
       "      <td>YPR122W</td>\n",
       "      <td>0</td>\n",
       "      <td>1</td>\n",
       "    </tr>\n",
       "    <tr>\n",
       "      <th>1</th>\n",
       "      <td>2</td>\n",
       "      <td>mycoplasma_hyorhinis</td>\n",
       "      <td>Ensembl_release37</td>\n",
       "      <td>mycoplasma_hyorhinis</td>\n",
       "      <td>mycoplasma_hyorhinis</td>\n",
       "      <td>M.+hyorinis</td>\n",
       "      <td>mh</td>\n",
       "      <td>AFX74150</td>\n",
       "      <td>1</td>\n",
       "      <td>1</td>\n",
       "    </tr>\n",
       "    <tr>\n",
       "      <th>2</th>\n",
       "      <td>3</td>\n",
       "      <td>mus_musculus</td>\n",
       "      <td>Gencode_M14</td>\n",
       "      <td>mouse</td>\n",
       "      <td>mammal</td>\n",
       "      <td>Mouse</td>\n",
       "      <td>mm10</td>\n",
       "      <td>ENSMUST00000037796</td>\n",
       "      <td>0</td>\n",
       "      <td>1</td>\n",
       "    </tr>\n",
       "    <tr>\n",
       "      <th>3</th>\n",
       "      <td>4</td>\n",
       "      <td>homo_sapiens</td>\n",
       "      <td>Gencode_v25</td>\n",
       "      <td>homo_sapiens</td>\n",
       "      <td>mammal</td>\n",
       "      <td>Human</td>\n",
       "      <td>hg38</td>\n",
       "      <td>ENST00000558401</td>\n",
       "      <td>0</td>\n",
       "      <td>1</td>\n",
       "    </tr>\n",
       "    <tr>\n",
       "      <th>4</th>\n",
       "      <td>5</td>\n",
       "      <td>homo_sapiens_polio</td>\n",
       "      <td>Ensembl_2011</td>\n",
       "      <td>homo_sapiens</td>\n",
       "      <td>mammal</td>\n",
       "      <td>Human</td>\n",
       "      <td>hg38</td>\n",
       "      <td>polio</td>\n",
       "      <td>1</td>\n",
       "      <td>1</td>\n",
       "    </tr>\n",
       "  </tbody>\n",
       "</table>\n",
       "</div>"
      ],
      "text/plain": [
       "   organism_id             organism_name transcriptome_list  \\\n",
       "0            1  saccharomyces_cerevisiae                sgd   \n",
       "1            2      mycoplasma_hyorhinis  Ensembl_release37   \n",
       "2            3              mus_musculus        Gencode_M14   \n",
       "3            4              homo_sapiens        Gencode_v25   \n",
       "4            5        homo_sapiens_polio       Ensembl_2011   \n",
       "\n",
       "     gwips_databasename           gwips_clade gwips_organism gwips_database  \\\n",
       "0                 yeast                 yeast  S.+cerevisiae        sacCer3   \n",
       "1  mycoplasma_hyorhinis  mycoplasma_hyorhinis    M.+hyorinis             mh   \n",
       "2                 mouse                mammal          Mouse           mm10   \n",
       "3          homo_sapiens                mammal          Human           hg38   \n",
       "4          homo_sapiens                mammal          Human           hg38   \n",
       "\n",
       "   default_transcript  private  owner  \n",
       "0             YPR122W        0      1  \n",
       "1            AFX74150        1      1  \n",
       "2  ENSMUST00000037796        0      1  \n",
       "3     ENST00000558401        0      1  \n",
       "4               polio        1      1  "
      ]
     },
     "execution_count": 9,
     "metadata": {},
     "output_type": "execute_result"
    }
   ],
   "source": [
    "organisms.head()"
   ]
  },
  {
   "cell_type": "code",
   "execution_count": 10,
   "metadata": {},
   "outputs": [],
   "source": [
    "with open('/home/jack/projects/RiboSeqOrg-DataPortal/data/trips_model.tsv', 'w') as f:\n",
    "    for row in files.iterrows():\n",
    "        match = filtered[filtered['Run'] == row[1]['file_name'].split('.')[0]]\n",
    "        if len(match['Run'].values) == 0:\n",
    "            run = 'NA'\n",
    "            bioproject = 'NA'\n",
    "        else:\n",
    "            run = match['Run'].values[0]\n",
    "            bioproject = match['BioProject'].values[0]\n",
    "        organism = organisms[organisms['organism_id'] == row[1]['organism_id']]\n",
    "        if organism.shape[0] == 0:\n",
    "            continue\n",
    "        study = studies[studies['study_id'] == row[1]['study_id']]\n",
    "        f.write(f\"{bioproject}\\t{run}\\t{row[1]['file_id']}\\t{row[1]['file_name'].split('.')[0]}\\t{study['study_name'].values[0]}\\t{study['srp_nos'].values[0]}\\t{study['gse_nos'].values[0]}\\t{study['paper_pmid'].values[0]}\\t{organism['organism_name'].values[0]}\\t{organism['transcriptome_list'].values[0]}\\n\")"
   ]
  },
  {
   "cell_type": "markdown",
   "metadata": {},
   "source": [
    "## Metadata Cleanup"
   ]
  },
  {
   "cell_type": "code",
   "execution_count": 11,
   "metadata": {},
   "outputs": [
    {
     "name": "stderr",
     "output_type": "stream",
     "text": [
      "/tmp/ipykernel_2084577/4029497756.py:1: DtypeWarning: Columns (30,31,32,33,34,35,36,37,38,39,40,41,42,43,44,45,46,47,48,49,50,51,53,54,55,56,57,58,59,60,61,62,63,64,65,66,67,68,69,70,73,89,91,93,94,95,100,101,102,104,105,108,109,110,111,112,114,115) have mixed types. Specify dtype option on import or set low_memory=False.\n",
      "  latest_metadata = pd.read_csv(latest_metadata_path)\n"
     ]
    }
   ],
   "source": [
    "latest_metadata = pd.read_csv(latest_metadata_path)"
   ]
  },
  {
   "cell_type": "code",
   "execution_count": 12,
   "metadata": {},
   "outputs": [],
   "source": [
    "# List of column pairs to update\n",
    "column_pairs = [('TISSUE', 'TISSUE_st'), ('CELL_LINE', 'CELL_LINE_st'), ('INHIBITOR', 'INHIBITOR_st'),\n",
    "                ('CONDITION', 'CONDITION_st'), ('REPLICATE', 'REPLICATE_st'), ('LIBRARYTYPE', 'LIBRARYTYPE_st'),\n",
    "                ('FRACTION', 'FRACTION_st'), ('TIMEPOINT', 'TIMEPOINT_st'), ('ScientificName', 'scientific_name')]\n",
    "\n",
    "for main_col, source_col in column_pairs:\n",
    "    # Update the main column with non-NaN values from the source column\n",
    "    if source_col in latest_metadata.columns:\n",
    "        latest_metadata.loc[latest_metadata[source_col].notnull(), main_col] = latest_metadata.loc[latest_metadata[source_col].notnull(), source_col]\n",
    "\n",
    "# then drop the source columns\n",
    "latest_metadata.drop(columns=[col for _, col in column_pairs if col in latest_metadata.columns], inplace=True)"
   ]
  },
  {
   "cell_type": "code",
   "execution_count": 13,
   "metadata": {},
   "outputs": [],
   "source": [
    "import numpy as np"
   ]
  },
  {
   "cell_type": "code",
   "execution_count": 14,
   "metadata": {},
   "outputs": [
    {
     "data": {
      "text/plain": [
       "AUTHOR\n",
       "Atger          884\n",
       "Bazzini        526\n",
       "Marcel         200\n",
       "Chou           165\n",
       "Mohan          158\n",
       "              ... \n",
       "Latif            2\n",
       "Gupta            1\n",
       "Nakahigashi      1\n",
       "Hanson           1\n",
       "Weinberg         1\n",
       "Name: count, Length: 479, dtype: int64"
      ]
     },
     "execution_count": 14,
     "metadata": {},
     "output_type": "execute_result"
    }
   ],
   "source": [
    "latest_metadata.loc[latest_metadata['Study_Pubmed_id'] == 1, 'Study_Pubmed_id'] = np.nan\n",
    "latest_metadata.loc[latest_metadata['AUTHOR'] == 'Makar', 'AUTHOR'] = np.nan\n",
    "latest_metadata['AUTHOR'].value_counts()\n"
   ]
  },
  {
   "cell_type": "code",
   "execution_count": 15,
   "metadata": {},
   "outputs": [
    {
     "data": {
      "text/plain": [
       "avgLength                  0.390836\n",
       "LibraryName               67.331536\n",
       "Study_Pubmed_id           31.334232\n",
       "CenterName                 0.936658\n",
       "AUTHOR                    29.083558\n",
       "                            ...    \n",
       "Barcode                   98.659030\n",
       "Monosome_purification    100.000000\n",
       "Nuclease                  99.501348\n",
       "Kit                       99.258760\n",
       "Info                       4.865229\n",
       "Length: 92, dtype: float64"
      ]
     },
     "execution_count": 15,
     "metadata": {},
     "output_type": "execute_result"
    }
   ],
   "source": [
    "nan_percentages = latest_metadata.isna().mean() * 100\n",
    "\n",
    "#print any that are not 0% na \n",
    "nan_percentages[nan_percentages > 0]\n"
   ]
  },
  {
   "cell_type": "code",
   "execution_count": 16,
   "metadata": {},
   "outputs": [
    {
     "data": {
      "text/plain": [
       "477"
      ]
     },
     "execution_count": 16,
     "metadata": {},
     "output_type": "execute_result"
    }
   ],
   "source": [
    "len(latest_metadata['CELL_LINE'].unique())"
   ]
  },
  {
   "cell_type": "code",
   "execution_count": 17,
   "metadata": {},
   "outputs": [],
   "source": [
    "# replace anything in the CELL_LINE column that with lymphoblastoid in cell line \n",
    "# There were many with GMXXXXlymphoblasoid cell line as the cell line \n",
    "# Create a boolean mask without NaN/NA values\n",
    "mask = latest_metadata['CELL_LINE'].str.contains('lymphoblastoid', case=False, na=False)\n",
    "\n",
    "# Update the 'CELL_LINE' column for rows where the mask is True\n",
    "latest_metadata.loc[mask, 'CELL_LINE'] = 'lymphoblastoid'"
   ]
  },
  {
   "cell_type": "code",
   "execution_count": 64,
   "metadata": {},
   "outputs": [
    {
     "data": {
      "text/plain": [
       "CELL_LINE\n",
       "HEK293                      861\n",
       "3T3                         229\n",
       "A549                        183\n",
       "mESC                        155\n",
       "E14                         150\n",
       "                           ... \n",
       "MOLM13leukemia cell line      1\n",
       "HL60leukemia cell line        1\n",
       "HBE                           1\n",
       "GM19238                       1\n",
       "GM19204                       1\n",
       "Name: count, Length: 310, dtype: int64"
      ]
     },
     "execution_count": 64,
     "metadata": {},
     "output_type": "execute_result"
    }
   ],
   "source": [
    "latest_metadata['CELL_LINE'].value_counts()"
   ]
  },
  {
   "cell_type": "code",
   "execution_count": 18,
   "metadata": {},
   "outputs": [
    {
     "data": {
      "text/plain": [
       "120"
      ]
     },
     "execution_count": 18,
     "metadata": {},
     "output_type": "execute_result"
    }
   ],
   "source": [
    "len(latest_metadata.columns)"
   ]
  },
  {
   "cell_type": "code",
   "execution_count": 19,
   "metadata": {},
   "outputs": [],
   "source": [
    "latest_metadata.loc[latest_metadata['translation inhibitor'] == \"8 µg/mL harringtonine for 10 min, then 0.1 mg/mL cycloheximide in lysis buffer\", 'translation inhibitor'] = 'harr'"
   ]
  },
  {
   "cell_type": "code",
   "execution_count": 20,
   "metadata": {},
   "outputs": [],
   "source": [
    "# drop columns that are not helpful\n",
    "unwanted = [ \n",
    "    'Run.1',\n",
    "    'BioProject.1',\n",
    "    'name',\n",
    "    'not_unique',\n",
    "    'translation inhibitor',\n",
    "    'mouse line',\n",
    "    'type',\n",
    "    'disease state',\n",
    "    'diagnosis',\n",
    "    'cell status',\n",
    "    'isolates',\n",
    "    'lncrna probes',\n",
    "    'sequencing type',\n",
    "    'knockdown or knockout',\n",
    "    'input',\n",
    "    'fragmentation',\n",
    "    'lentivirus',\n",
    "    'animal group',\n",
    "    'cell stage',\n",
    "    'biol replicate',\n",
    "    'tech replicate',\n",
    "    'tretment',\n",
    "    'progenitor cell type',\n",
    "    'geographic location (country and/or sea)',\n",
    "    'specimen with known storage state',\n",
    "    'rnasei treatment',\n",
    "    'model',\n",
    "    'identity',\n",
    "    'cdna type',\n",
    "    'primer set',\n",
    "    'lentivirally transduced transgenes',\n",
    "    'genotype/variaion',\n",
    "    ]\n",
    "\n",
    "drop_list = [col for col in latest_metadata.columns if col in unwanted]\n",
    "\n",
    "for col in latest_metadata.columns:\n",
    "    if \"Experimental\" in col:\n",
    "        drop_list.append(col)\n",
    "latest_metadata.drop(columns=drop_list, inplace=True)"
   ]
  },
  {
   "cell_type": "code",
   "execution_count": 21,
   "metadata": {},
   "outputs": [
    {
     "data": {
      "text/plain": [
       "73"
      ]
     },
     "execution_count": 21,
     "metadata": {},
     "output_type": "execute_result"
    }
   ],
   "source": [
    "len(latest_metadata.columns)"
   ]
  },
  {
   "cell_type": "code",
   "execution_count": 22,
   "metadata": {},
   "outputs": [],
   "source": [
    "latest_metadata.to_csv(\"../data/standardised_22-04-24.csv\", index=False)"
   ]
  },
  {
   "cell_type": "code",
   "execution_count": 23,
   "metadata": {},
   "outputs": [],
   "source": [
    "high_priority_columns = [\n",
    "    'Run',\n",
    "    'BioProject',\n",
    "    'Study_Pubmed_id',\n",
    "    'AUTHOR',\n",
    "    'TISSUE',\n",
    "    'CELL_LINE',\n",
    "    'INHIBITOR',\n",
    "    'CONDITION',\n",
    "    'REPLICATE',\n",
    "    'LIBRARYTYPE',\n",
    "    'FRACTION',\n",
    "    'TIMEPOINT',\n",
    "    'ScientificName',\n",
    "    'Sex',\n",
    "]"
   ]
  },
  {
   "cell_type": "code",
   "execution_count": 24,
   "metadata": {},
   "outputs": [],
   "source": [
    "combined = latest_metadata['CELL_LINE'] + \"-\" + latest_metadata['TISSUE'] + '-' + latest_metadata['ScientificName']\n",
    "counts = combined.value_counts()\n",
    "counts.to_csv('../data/counts.tsv', sep='\\t', header=False)"
   ]
  },
  {
   "cell_type": "markdown",
   "metadata": {},
   "source": [
    "## Specific Corrections"
   ]
  },
  {
   "cell_type": "markdown",
   "metadata": {},
   "source": [
    "S2, a Drosophila embryonic cell line is often misidentified when Sample 2 is meant. As a result all non drosophila S2 cell line entries can be overwritten"
   ]
  },
  {
   "cell_type": "code",
   "execution_count": 25,
   "metadata": {},
   "outputs": [],
   "source": [
    "import numpy as np"
   ]
  },
  {
   "cell_type": "code",
   "execution_count": 26,
   "metadata": {},
   "outputs": [],
   "source": [
    "# Create a boolean mask without NaN/NA values where cell line is \"S2\" and organism is not Drosophila melanogaster\n",
    "mask = (latest_metadata['CELL_LINE'] == 'S2') & (latest_metadata['ScientificName'] != 'Drosophila melanogaster')\n",
    "\n",
    "# Update the 'CELL_LINE' column for rows where the mask is True\n",
    "latest_metadata.loc[mask, 'CELL_LINE'] = np.nan\n",
    "latest_metadata.loc[mask, 'TISSUE'] = np.nan\n",
    "\n"
   ]
  },
  {
   "cell_type": "code",
   "execution_count": 27,
   "metadata": {},
   "outputs": [],
   "source": [
    "mask = latest_metadata['CELL_LINE'] == \"TSC2\"\n",
    "\n",
    "latest_metadata.loc[mask, 'CELL_LINE'] = np.nan\n",
    "latest_metadata.loc[mask, 'TISSUE'] = np.nan\n"
   ]
  },
  {
   "cell_type": "code",
   "execution_count": 28,
   "metadata": {},
   "outputs": [],
   "source": [
    "# Create a boolean mask without NaN/NA values where cell line is \"S2\" and organism is not Drosophila melanogaster\n",
    "mask = (latest_metadata['CELL_LINE'] == 'H1') & (latest_metadata['ScientificName'] == 'Escherichia coli')\n",
    "\n",
    "# Update the 'CELL_LINE' column for rows where the mask is True\n",
    "latest_metadata.loc[mask, 'CELL_LINE'] = np.nan\n",
    "latest_metadata.loc[mask, 'TISSUE'] = np.nan"
   ]
  },
  {
   "cell_type": "code",
   "execution_count": 29,
   "metadata": {},
   "outputs": [],
   "source": [
    "mask = (latest_metadata['CELL_LINE'] == 'PC3') & (latest_metadata['ScientificName'] == 'Neurospora crassa')\n",
    "\n",
    "# latest_metadata[mask][['Run', 'CELL_LINE', 'TISSUE', 'ScientificName']]\n",
    "# Update the 'CELL_LINE' column for rows where the mask is True\n",
    "latest_metadata.loc[mask, 'CELL_LINE'] = np.nan\n",
    "latest_metadata.loc[mask, 'TISSUE'] = np.nan"
   ]
  },
  {
   "cell_type": "code",
   "execution_count": 30,
   "metadata": {},
   "outputs": [],
   "source": [
    "mask = (latest_metadata['CELL_LINE'] == 'H1') & (latest_metadata['TISSUE'] == 'embryo') & (latest_metadata['ScientificName'] != 'Homo sapiens')\n",
    "\n",
    "latest_metadata[mask][['Run', 'CELL_LINE', 'TISSUE', 'ScientificName']]\n",
    "# Update the 'CELL_LINE' column for rows where the mask is True\n",
    "latest_metadata.loc[mask, 'CELL_LINE'] = np.nan\n",
    "latest_metadata.loc[mask, 'TISSUE'] = np.nan\n"
   ]
  },
  {
   "cell_type": "code",
   "execution_count": null,
   "metadata": {},
   "outputs": [],
   "source": []
  },
  {
   "cell_type": "code",
   "execution_count": 31,
   "metadata": {},
   "outputs": [],
   "source": [
    "mask = (latest_metadata['TISSUE'] == 'stem') & (latest_metadata['ScientificName'] == 'Mus musculus')\n",
    "\n",
    "latest_metadata[mask][['Run', 'CELL_LINE', 'TISSUE', 'ScientificName']]\n",
    "# Update the 'CELL_LINE' column for rows where the mask is True\n",
    "latest_metadata.loc[mask, 'CELL_LINE'] = np.nan\n",
    "latest_metadata.loc[mask, 'TISSUE'] = np.nan"
   ]
  },
  {
   "cell_type": "code",
   "execution_count": 32,
   "metadata": {},
   "outputs": [],
   "source": [
    "mask = (latest_metadata['TISSUE'] == 'stem') & (latest_metadata['ScientificName'] == 'Homo sapiens')\n",
    "\n",
    "latest_metadata[mask][['Run', 'CELL_LINE', 'TISSUE', 'ScientificName']]\n",
    "# Update the 'CELL_LINE' column for rows where the mask is True\n",
    "latest_metadata.loc[mask, 'CELL_LINE'] = np.nan\n",
    "latest_metadata.loc[mask, 'TISSUE'] = np.nan"
   ]
  },
  {
   "cell_type": "code",
   "execution_count": 33,
   "metadata": {},
   "outputs": [],
   "source": [
    "mask = (latest_metadata['TISSUE'] == 'leaf') & (latest_metadata['CELL_LINE'] == 'H9')\n",
    "\n",
    "latest_metadata[mask][['Run', 'CELL_LINE', 'TISSUE', 'ScientificName']]\n",
    "# Update the 'CELL_LINE' column for rows where the mask is True\n",
    "latest_metadata.loc[mask, 'CELL_LINE'] = np.nan\n",
    "latest_metadata.loc[mask, 'TISSUE'] = np.nan"
   ]
  },
  {
   "cell_type": "code",
   "execution_count": 34,
   "metadata": {},
   "outputs": [],
   "source": [
    "mask = (latest_metadata['TISSUE'] != 'kidney') & (latest_metadata['CELL_LINE'] == 'HEK293')\n",
    "\n",
    "latest_metadata[mask][['Run', 'CELL_LINE', 'TISSUE', 'ScientificName']]\n",
    "# Update the 'CELL_LINE' column for rows where the mask is True\n",
    "latest_metadata.loc[mask, 'CELL_LINE'] = np.nan\n",
    "latest_metadata.loc[mask, 'TISSUE'] = np.nan"
   ]
  },
  {
   "cell_type": "code",
   "execution_count": 35,
   "metadata": {},
   "outputs": [],
   "source": [
    "mask = (latest_metadata['TISSUE'] != 'cervix') & (latest_metadata['CELL_LINE'] == 'HeLa')\n",
    "\n",
    "latest_metadata[mask][['Run', 'CELL_LINE', 'TISSUE', 'ScientificName']]\n",
    "# Update the 'CELL_LINE' column for rows where the mask is True\n",
    "latest_metadata.loc[mask, 'CELL_LINE'] = np.nan\n",
    "latest_metadata.loc[mask, 'TISSUE'] = np.nan"
   ]
  },
  {
   "cell_type": "code",
   "execution_count": 36,
   "metadata": {},
   "outputs": [],
   "source": [
    "mask = (latest_metadata['TISSUE'] == 'EBV-transformed lymphoblastoid cells') \n",
    "\n",
    "latest_metadata[mask][['Run', 'CELL_LINE', 'TISSUE', 'ScientificName']]\n",
    "# Update the 'CELL_LINE' column for rows where the mask is True\n",
    "latest_metadata.loc[mask, 'CELL_LINE'] = np.nan\n",
    "\n",
    "# latest_metadata.loc[mask, 'TISSUE'] = np.nan"
   ]
  },
  {
   "cell_type": "code",
   "execution_count": 37,
   "metadata": {},
   "outputs": [],
   "source": [
    "mask = (latest_metadata['CELL_LINE'] == 'HEK293') & (latest_metadata['TISSUE'] == 'kidney') & (latest_metadata['ScientificName'] != 'Homo sapiens') \n",
    "\n",
    "latest_metadata[mask][['Run', 'CELL_LINE', 'TISSUE', 'ScientificName']]\n",
    "# Update the 'CELL_LINE' column for rows where the mask is True\n",
    "latest_metadata.loc[mask, 'CELL_LINE'] = np.nan\n",
    "\n",
    "latest_metadata.loc[mask, 'TISSUE'] = np.nan"
   ]
  },
  {
   "cell_type": "code",
   "execution_count": 38,
   "metadata": {},
   "outputs": [
    {
     "data": {
      "text/html": [
       "<div>\n",
       "<style scoped>\n",
       "    .dataframe tbody tr th:only-of-type {\n",
       "        vertical-align: middle;\n",
       "    }\n",
       "\n",
       "    .dataframe tbody tr th {\n",
       "        vertical-align: top;\n",
       "    }\n",
       "\n",
       "    .dataframe thead th {\n",
       "        text-align: right;\n",
       "    }\n",
       "</style>\n",
       "<table border=\"1\" class=\"dataframe\">\n",
       "  <thead>\n",
       "    <tr style=\"text-align: right;\">\n",
       "      <th></th>\n",
       "      <th>Run</th>\n",
       "      <th>CELL_LINE</th>\n",
       "      <th>TISSUE</th>\n",
       "      <th>ScientificName</th>\n",
       "    </tr>\n",
       "  </thead>\n",
       "  <tbody>\n",
       "    <tr>\n",
       "      <th>9708</th>\n",
       "      <td>SRR18113903</td>\n",
       "      <td>NaN</td>\n",
       "      <td>embryo</td>\n",
       "      <td>Homo sapiens</td>\n",
       "    </tr>\n",
       "    <tr>\n",
       "      <th>9709</th>\n",
       "      <td>SRR18113904</td>\n",
       "      <td>NaN</td>\n",
       "      <td>embryo</td>\n",
       "      <td>Homo sapiens</td>\n",
       "    </tr>\n",
       "    <tr>\n",
       "      <th>9710</th>\n",
       "      <td>SRR18113900</td>\n",
       "      <td>NaN</td>\n",
       "      <td>embryo</td>\n",
       "      <td>Homo sapiens</td>\n",
       "    </tr>\n",
       "    <tr>\n",
       "      <th>9711</th>\n",
       "      <td>SRR18113901</td>\n",
       "      <td>NaN</td>\n",
       "      <td>embryo</td>\n",
       "      <td>Homo sapiens</td>\n",
       "    </tr>\n",
       "    <tr>\n",
       "      <th>9712</th>\n",
       "      <td>SRR18113897</td>\n",
       "      <td>NaN</td>\n",
       "      <td>embryo</td>\n",
       "      <td>Homo sapiens</td>\n",
       "    </tr>\n",
       "    <tr>\n",
       "      <th>9713</th>\n",
       "      <td>SRR18113898</td>\n",
       "      <td>NaN</td>\n",
       "      <td>embryo</td>\n",
       "      <td>Homo sapiens</td>\n",
       "    </tr>\n",
       "    <tr>\n",
       "      <th>9725</th>\n",
       "      <td>SRR18113797</td>\n",
       "      <td>NaN</td>\n",
       "      <td>embryo</td>\n",
       "      <td>Homo sapiens</td>\n",
       "    </tr>\n",
       "    <tr>\n",
       "      <th>9726</th>\n",
       "      <td>SRR18113798</td>\n",
       "      <td>NaN</td>\n",
       "      <td>embryo</td>\n",
       "      <td>Homo sapiens</td>\n",
       "    </tr>\n",
       "    <tr>\n",
       "      <th>9727</th>\n",
       "      <td>SRR18113795</td>\n",
       "      <td>NaN</td>\n",
       "      <td>embryo</td>\n",
       "      <td>Homo sapiens</td>\n",
       "    </tr>\n",
       "    <tr>\n",
       "      <th>9728</th>\n",
       "      <td>SRR18113796</td>\n",
       "      <td>NaN</td>\n",
       "      <td>embryo</td>\n",
       "      <td>Homo sapiens</td>\n",
       "    </tr>\n",
       "    <tr>\n",
       "      <th>9729</th>\n",
       "      <td>SRR18113792</td>\n",
       "      <td>NaN</td>\n",
       "      <td>embryo</td>\n",
       "      <td>Homo sapiens</td>\n",
       "    </tr>\n",
       "    <tr>\n",
       "      <th>9730</th>\n",
       "      <td>SRR18113793</td>\n",
       "      <td>NaN</td>\n",
       "      <td>embryo</td>\n",
       "      <td>Homo sapiens</td>\n",
       "    </tr>\n",
       "    <tr>\n",
       "      <th>9731</th>\n",
       "      <td>SRR18113794</td>\n",
       "      <td>NaN</td>\n",
       "      <td>embryo</td>\n",
       "      <td>Homo sapiens</td>\n",
       "    </tr>\n",
       "    <tr>\n",
       "      <th>9732</th>\n",
       "      <td>SRR18113790</td>\n",
       "      <td>NaN</td>\n",
       "      <td>embryo</td>\n",
       "      <td>Homo sapiens</td>\n",
       "    </tr>\n",
       "    <tr>\n",
       "      <th>9733</th>\n",
       "      <td>SRR18113791</td>\n",
       "      <td>NaN</td>\n",
       "      <td>embryo</td>\n",
       "      <td>Homo sapiens</td>\n",
       "    </tr>\n",
       "    <tr>\n",
       "      <th>9734</th>\n",
       "      <td>SRR18113788</td>\n",
       "      <td>NaN</td>\n",
       "      <td>embryo</td>\n",
       "      <td>Homo sapiens</td>\n",
       "    </tr>\n",
       "    <tr>\n",
       "      <th>9739</th>\n",
       "      <td>SRR18113785</td>\n",
       "      <td>NaN</td>\n",
       "      <td>embryo</td>\n",
       "      <td>Homo sapiens</td>\n",
       "    </tr>\n",
       "    <tr>\n",
       "      <th>9740</th>\n",
       "      <td>SRR18113782</td>\n",
       "      <td>NaN</td>\n",
       "      <td>embryo</td>\n",
       "      <td>Homo sapiens</td>\n",
       "    </tr>\n",
       "    <tr>\n",
       "      <th>9741</th>\n",
       "      <td>SRR18113783</td>\n",
       "      <td>NaN</td>\n",
       "      <td>embryo</td>\n",
       "      <td>Homo sapiens</td>\n",
       "    </tr>\n",
       "    <tr>\n",
       "      <th>9742</th>\n",
       "      <td>SRR18113780</td>\n",
       "      <td>NaN</td>\n",
       "      <td>embryo</td>\n",
       "      <td>Homo sapiens</td>\n",
       "    </tr>\n",
       "    <tr>\n",
       "      <th>9743</th>\n",
       "      <td>SRR18113781</td>\n",
       "      <td>NaN</td>\n",
       "      <td>embryo</td>\n",
       "      <td>Homo sapiens</td>\n",
       "    </tr>\n",
       "  </tbody>\n",
       "</table>\n",
       "</div>"
      ],
      "text/plain": [
       "              Run CELL_LINE  TISSUE ScientificName\n",
       "9708  SRR18113903       NaN  embryo   Homo sapiens\n",
       "9709  SRR18113904       NaN  embryo   Homo sapiens\n",
       "9710  SRR18113900       NaN  embryo   Homo sapiens\n",
       "9711  SRR18113901       NaN  embryo   Homo sapiens\n",
       "9712  SRR18113897       NaN  embryo   Homo sapiens\n",
       "9713  SRR18113898       NaN  embryo   Homo sapiens\n",
       "9725  SRR18113797       NaN  embryo   Homo sapiens\n",
       "9726  SRR18113798       NaN  embryo   Homo sapiens\n",
       "9727  SRR18113795       NaN  embryo   Homo sapiens\n",
       "9728  SRR18113796       NaN  embryo   Homo sapiens\n",
       "9729  SRR18113792       NaN  embryo   Homo sapiens\n",
       "9730  SRR18113793       NaN  embryo   Homo sapiens\n",
       "9731  SRR18113794       NaN  embryo   Homo sapiens\n",
       "9732  SRR18113790       NaN  embryo   Homo sapiens\n",
       "9733  SRR18113791       NaN  embryo   Homo sapiens\n",
       "9734  SRR18113788       NaN  embryo   Homo sapiens\n",
       "9739  SRR18113785       NaN  embryo   Homo sapiens\n",
       "9740  SRR18113782       NaN  embryo   Homo sapiens\n",
       "9741  SRR18113783       NaN  embryo   Homo sapiens\n",
       "9742  SRR18113780       NaN  embryo   Homo sapiens\n",
       "9743  SRR18113781       NaN  embryo   Homo sapiens"
      ]
     },
     "execution_count": 38,
     "metadata": {},
     "output_type": "execute_result"
    }
   ],
   "source": [
    "mask = (latest_metadata['CELL_LINE'].str.endswith(\"-cell\")) & (latest_metadata['TISSUE'] == \"embryo\")\n",
    "mask = mask.fillna(False)\n",
    "latest_metadata[mask][['Run', 'CELL_LINE', 'TISSUE', 'ScientificName']]\n",
    "# Update the 'CELL_LINE' column for rows where the mask is True\n",
    "latest_metadata.loc[mask, 'CELL_LINE'] = np.nan\n",
    "latest_metadata[mask][['Run', 'CELL_LINE', 'TISSUE', 'ScientificName']]\n"
   ]
  },
  {
   "cell_type": "code",
   "execution_count": 39,
   "metadata": {},
   "outputs": [],
   "source": [
    "mask = (latest_metadata['CELL_LINE'].str.endswith(\"derived tumor\")) & (latest_metadata['TISSUE'] == \"Glioblastoma\")\n",
    "mask = mask.fillna(False)\n",
    "latest_metadata[mask][['Run', 'CELL_LINE', 'TISSUE', 'ScientificName']]\n",
    "# Update the 'CELL_LINE' column for rows where the mask is True\n",
    "latest_metadata.loc[mask, 'CELL_LINE'] = np.nan\n",
    "latest_metadata.loc[mask, 'TISSUE'] = np.nan"
   ]
  },
  {
   "cell_type": "code",
   "execution_count": 40,
   "metadata": {},
   "outputs": [
    {
     "data": {
      "text/html": [
       "<div>\n",
       "<style scoped>\n",
       "    .dataframe tbody tr th:only-of-type {\n",
       "        vertical-align: middle;\n",
       "    }\n",
       "\n",
       "    .dataframe tbody tr th {\n",
       "        vertical-align: top;\n",
       "    }\n",
       "\n",
       "    .dataframe thead th {\n",
       "        text-align: right;\n",
       "    }\n",
       "</style>\n",
       "<table border=\"1\" class=\"dataframe\">\n",
       "  <thead>\n",
       "    <tr style=\"text-align: right;\">\n",
       "      <th></th>\n",
       "      <th>Run</th>\n",
       "      <th>CELL_LINE</th>\n",
       "      <th>TISSUE</th>\n",
       "      <th>ScientificName</th>\n",
       "    </tr>\n",
       "  </thead>\n",
       "  <tbody>\n",
       "    <tr>\n",
       "      <th>8208</th>\n",
       "      <td>SRR13679796</td>\n",
       "      <td>HCT116</td>\n",
       "      <td>oocyte</td>\n",
       "      <td>Homo sapiens</td>\n",
       "    </tr>\n",
       "    <tr>\n",
       "      <th>8209</th>\n",
       "      <td>SRR13679797</td>\n",
       "      <td>HCT116</td>\n",
       "      <td>oocyte</td>\n",
       "      <td>Homo sapiens</td>\n",
       "    </tr>\n",
       "    <tr>\n",
       "      <th>8224</th>\n",
       "      <td>SRR13679812</td>\n",
       "      <td>HCT116</td>\n",
       "      <td>oocyte</td>\n",
       "      <td>Homo sapiens</td>\n",
       "    </tr>\n",
       "    <tr>\n",
       "      <th>8225</th>\n",
       "      <td>SRR13679813</td>\n",
       "      <td>HCT116</td>\n",
       "      <td>oocyte</td>\n",
       "      <td>Homo sapiens</td>\n",
       "    </tr>\n",
       "    <tr>\n",
       "      <th>8226</th>\n",
       "      <td>SRR13679814</td>\n",
       "      <td>HCT116</td>\n",
       "      <td>oocyte</td>\n",
       "      <td>Homo sapiens</td>\n",
       "    </tr>\n",
       "    <tr>\n",
       "      <th>8227</th>\n",
       "      <td>SRR13679815</td>\n",
       "      <td>HCT116</td>\n",
       "      <td>oocyte</td>\n",
       "      <td>Homo sapiens</td>\n",
       "    </tr>\n",
       "  </tbody>\n",
       "</table>\n",
       "</div>"
      ],
      "text/plain": [
       "              Run CELL_LINE  TISSUE ScientificName\n",
       "8208  SRR13679796    HCT116  oocyte   Homo sapiens\n",
       "8209  SRR13679797    HCT116  oocyte   Homo sapiens\n",
       "8224  SRR13679812    HCT116  oocyte   Homo sapiens\n",
       "8225  SRR13679813    HCT116  oocyte   Homo sapiens\n",
       "8226  SRR13679814    HCT116  oocyte   Homo sapiens\n",
       "8227  SRR13679815    HCT116  oocyte   Homo sapiens"
      ]
     },
     "execution_count": 40,
     "metadata": {},
     "output_type": "execute_result"
    }
   ],
   "source": [
    "mask = (latest_metadata['CELL_LINE'] == \"HCT116\") & (latest_metadata['TISSUE'] != \"colon\")\n",
    "mask = mask.fillna(False)\n",
    "latest_metadata[mask][['Run', 'CELL_LINE', 'TISSUE', 'ScientificName']]\n",
    "# Update the 'CELL_LINE' column for rows where the mask is True\n",
    "# latest_metadata.loc[mask, 'CELL_LINE'] = np.nan\n",
    "# latest_metadata.loc[mask, 'TISSUE'] = np.nan"
   ]
  },
  {
   "cell_type": "code",
   "execution_count": 41,
   "metadata": {},
   "outputs": [],
   "source": [
    "latest_metadata.to_csv(\"../data/standardised_22-04-24_updated.csv\", index=False)"
   ]
  },
  {
   "cell_type": "code",
   "execution_count": 42,
   "metadata": {},
   "outputs": [],
   "source": [
    "combined = latest_metadata['CELL_LINE'] + \"-\" + latest_metadata['TISSUE'] + '-' + latest_metadata['ScientificName']\n",
    "counts = combined.value_counts()\n",
    "counts.to_csv('../data/counts.tsv', sep='\\t', header=False)"
   ]
  },
  {
   "cell_type": "code",
   "execution_count": 43,
   "metadata": {},
   "outputs": [
    {
     "data": {
      "text/html": [
       "<div>\n",
       "<style scoped>\n",
       "    .dataframe tbody tr th:only-of-type {\n",
       "        vertical-align: middle;\n",
       "    }\n",
       "\n",
       "    .dataframe tbody tr th {\n",
       "        vertical-align: top;\n",
       "    }\n",
       "\n",
       "    .dataframe thead th {\n",
       "        text-align: right;\n",
       "    }\n",
       "</style>\n",
       "<table border=\"1\" class=\"dataframe\">\n",
       "  <thead>\n",
       "    <tr style=\"text-align: right;\">\n",
       "      <th></th>\n",
       "      <th>Run</th>\n",
       "      <th>CELL_LINE</th>\n",
       "      <th>TISSUE</th>\n",
       "      <th>ScientificName</th>\n",
       "    </tr>\n",
       "  </thead>\n",
       "  <tbody>\n",
       "  </tbody>\n",
       "</table>\n",
       "</div>"
      ],
      "text/plain": [
       "Empty DataFrame\n",
       "Columns: [Run, CELL_LINE, TISSUE, ScientificName]\n",
       "Index: []"
      ]
     },
     "execution_count": 43,
     "metadata": {},
     "output_type": "execute_result"
    }
   ],
   "source": [
    "mask = (latest_metadata['TISSUE'] == \"embryo\") & (latest_metadata['ScientificName'] == \"Mus musculus\") & (latest_metadata['CELL_LINE'] == np.nan)\n",
    "mask = mask.fillna(False)\n",
    "latest_metadata[mask][['Run', 'CELL_LINE', 'TISSUE', 'ScientificName']]"
   ]
  },
  {
   "cell_type": "code",
   "execution_count": 44,
   "metadata": {},
   "outputs": [],
   "source": [
    "# convert all INHIBITOR to lowercase\n",
    "latest_metadata['INHIBITOR'] = latest_metadata['INHIBITOR'].str.lower()"
   ]
  },
  {
   "cell_type": "code",
   "execution_count": 45,
   "metadata": {},
   "outputs": [],
   "source": [
    "mask = (latest_metadata['INHIBITOR'] == \"no treatment\") | (latest_metadata['INHIBITOR'] == \"none\") | (latest_metadata['INHIBITOR'] == \"no erythromycin\")\n",
    "latest_metadata.loc[mask, 'INHIBITOR'] = \"untreated\""
   ]
  },
  {
   "cell_type": "code",
   "execution_count": 46,
   "metadata": {},
   "outputs": [
    {
     "name": "stderr",
     "output_type": "stream",
     "text": [
      "/tmp/ipykernel_2084577/3323106336.py:2: FutureWarning: Downcasting object dtype arrays on .fillna, .ffill, .bfill is deprecated and will change in a future version. Call result.infer_objects(copy=False) instead. To opt-in to the future behavior, set `pd.set_option('future.no_silent_downcasting', True)`\n",
      "  mask = mask.fillna(False)\n"
     ]
    }
   ],
   "source": [
    "mask = (latest_metadata['INHIBITOR'].str.endswith(\"thapsigargin\"))\n",
    "mask = mask.fillna(False)\n",
    "latest_metadata.loc[mask, 'INHIBITOR'] = \"thapsigargin\""
   ]
  },
  {
   "cell_type": "code",
   "execution_count": 47,
   "metadata": {},
   "outputs": [],
   "source": [
    "# Make all INHIBITOR entries that are not 'chx', 'harr', ''lactim' np.nan\n",
    "accepted_list = [\n",
    "    'untreated',\n",
    "    'chx',\n",
    "    'harr',\n",
    "    'lactim',\n",
    "    'chx_harr',\n",
    "    'chx_lactim',\n",
    "    'frozen',\n",
    "    'tetracycline',\n",
    "    'thapsigargin',\n",
    "    'anisomycin',\n",
    "    'tunicamycin',\n",
    "]\n",
    "mask = ~(latest_metadata['INHIBITOR'].isin(accepted_list) | latest_metadata['INHIBITOR'].str.endswith(\"in\"))\n",
    "mask = mask.fillna(False)\n",
    "\n",
    "latest_metadata.loc[mask, 'INHIBITOR'] = np.nan"
   ]
  },
  {
   "cell_type": "code",
   "execution_count": 48,
   "metadata": {},
   "outputs": [
    {
     "name": "stderr",
     "output_type": "stream",
     "text": [
      "/tmp/ipykernel_2084577/341228739.py:2: FutureWarning: Downcasting object dtype arrays on .fillna, .ffill, .bfill is deprecated and will change in a future version. Call result.infer_objects(copy=False) instead. To opt-in to the future behavior, set `pd.set_option('future.no_silent_downcasting', True)`\n",
      "  mask = mask.fillna(False)\n"
     ]
    }
   ],
   "source": [
    "mask = latest_metadata['INHIBITOR'].str.endswith(\"min\")\n",
    "mask = mask.fillna(False)\n",
    "\n",
    "latest_metadata.loc[mask, 'INHIBITOR'] = np.nan\n"
   ]
  },
  {
   "cell_type": "code",
   "execution_count": 49,
   "metadata": {},
   "outputs": [],
   "source": [
    "latest_metadata['INHIBITOR'].value_counts().to_csv('../data/inhib_counts.tsv', sep='\\t', header=False)"
   ]
  },
  {
   "cell_type": "code",
   "execution_count": 50,
   "metadata": {},
   "outputs": [],
   "source": [
    "latest_metadata.to_csv(\"../data/standardised_22-04-24_updated.csv\", index=False)"
   ]
  },
  {
   "cell_type": "code",
   "execution_count": 51,
   "metadata": {},
   "outputs": [
    {
     "name": "stderr",
     "output_type": "stream",
     "text": [
      "/tmp/ipykernel_2084577/653559186.py:2: FutureWarning: Downcasting object dtype arrays on .fillna, .ffill, .bfill is deprecated and will change in a future version. Call result.infer_objects(copy=False) instead. To opt-in to the future behavior, set `pd.set_option('future.no_silent_downcasting', True)`\n",
      "  mask = mask.fillna(False)\n"
     ]
    }
   ],
   "source": [
    "mask = latest_metadata['LIBRARYTYPE'].str.startswith(\"Ribosome\")\n",
    "mask = mask.fillna(False)\n",
    "latest_metadata.loc[mask, 'LIBRARYTYPE'] = \"RFP\""
   ]
  },
  {
   "cell_type": "code",
   "execution_count": 52,
   "metadata": {},
   "outputs": [
    {
     "name": "stderr",
     "output_type": "stream",
     "text": [
      "/tmp/ipykernel_2084577/3772127391.py:2: FutureWarning: Downcasting object dtype arrays on .fillna, .ffill, .bfill is deprecated and will change in a future version. Call result.infer_objects(copy=False) instead. To opt-in to the future behavior, set `pd.set_option('future.no_silent_downcasting', True)`\n",
      "  mask = mask.fillna(False)\n"
     ]
    }
   ],
   "source": [
    "mask = latest_metadata['LIBRARYTYPE'].str.contains(\"ibosome\", case=False)\n",
    "mask = mask.fillna(False)\n",
    "latest_metadata.loc[mask, 'LIBRARYTYPE'] = \"RFP\""
   ]
  },
  {
   "cell_type": "code",
   "execution_count": 53,
   "metadata": {},
   "outputs": [
    {
     "name": "stderr",
     "output_type": "stream",
     "text": [
      "/tmp/ipykernel_2084577/2833749186.py:2: FutureWarning: Downcasting object dtype arrays on .fillna, .ffill, .bfill is deprecated and will change in a future version. Call result.infer_objects(copy=False) instead. To opt-in to the future behavior, set `pd.set_option('future.no_silent_downcasting', True)`\n",
      "  mask = mask.fillna(False)\n"
     ]
    }
   ],
   "source": [
    "mask = latest_metadata['LIBRARYTYPE'].str.startswith(\"40S\")\n",
    "mask = mask.fillna(False)\n",
    "latest_metadata.loc[mask, 'LIBRARYTYPE'] = \"SSU\""
   ]
  },
  {
   "cell_type": "code",
   "execution_count": 54,
   "metadata": {},
   "outputs": [
    {
     "name": "stderr",
     "output_type": "stream",
     "text": [
      "/tmp/ipykernel_2084577/1441698002.py:2: FutureWarning: Downcasting object dtype arrays on .fillna, .ffill, .bfill is deprecated and will change in a future version. Call result.infer_objects(copy=False) instead. To opt-in to the future behavior, set `pd.set_option('future.no_silent_downcasting', True)`\n",
      "  mask = mask.fillna(False)\n"
     ]
    }
   ],
   "source": [
    "mask = latest_metadata['LIBRARYTYPE'].str.startswith(\"small ribosomal subunit\")\n",
    "mask = mask.fillna(False)\n",
    "latest_metadata.loc[mask, 'LIBRARYTYPE'] = \"SSU\""
   ]
  },
  {
   "cell_type": "code",
   "execution_count": 55,
   "metadata": {},
   "outputs": [
    {
     "name": "stderr",
     "output_type": "stream",
     "text": [
      "/tmp/ipykernel_2084577/3750572317.py:2: FutureWarning: Downcasting object dtype arrays on .fillna, .ffill, .bfill is deprecated and will change in a future version. Call result.infer_objects(copy=False) instead. To opt-in to the future behavior, set `pd.set_option('future.no_silent_downcasting', True)`\n",
      "  mask = mask.fillna(False)\n"
     ]
    }
   ],
   "source": [
    "mask = latest_metadata['LIBRARYTYPE'].str.startswith(\"80S\")\n",
    "mask = mask.fillna(False)\n",
    "latest_metadata.loc[mask, 'LIBRARYTYPE'] = \"LSU\""
   ]
  },
  {
   "cell_type": "code",
   "execution_count": 56,
   "metadata": {},
   "outputs": [
    {
     "name": "stderr",
     "output_type": "stream",
     "text": [
      "/tmp/ipykernel_2084577/3795245585.py:2: FutureWarning: Downcasting object dtype arrays on .fillna, .ffill, .bfill is deprecated and will change in a future version. Call result.infer_objects(copy=False) instead. To opt-in to the future behavior, set `pd.set_option('future.no_silent_downcasting', True)`\n",
      "  mask = mask.fillna(False)\n"
     ]
    }
   ],
   "source": [
    "mask = latest_metadata['LIBRARYTYPE'].str.startswith(\"large ribosomal subunit \")\n",
    "mask = mask.fillna(False)\n",
    "latest_metadata.loc[mask, 'LIBRARYTYPE'] = \"LSU\""
   ]
  },
  {
   "cell_type": "code",
   "execution_count": 57,
   "metadata": {},
   "outputs": [
    {
     "name": "stderr",
     "output_type": "stream",
     "text": [
      "/tmp/ipykernel_2084577/1738090903.py:2: FutureWarning: Downcasting object dtype arrays on .fillna, .ffill, .bfill is deprecated and will change in a future version. Call result.infer_objects(copy=False) instead. To opt-in to the future behavior, set `pd.set_option('future.no_silent_downcasting', True)`\n",
      "  mask = mask.fillna(False)\n"
     ]
    }
   ],
   "source": [
    "mask = latest_metadata['LIBRARYTYPE'].str.startswith(\"Ribotag\")\n",
    "mask = mask.fillna(False)\n",
    "latest_metadata.loc[mask, 'LIBRARYTYPE'] = \"RiboTag\""
   ]
  },
  {
   "cell_type": "code",
   "execution_count": 58,
   "metadata": {},
   "outputs": [],
   "source": [
    "latest_metadata['LIBRARYTYPE'].value_counts().to_csv('../data/libtype_counts.tsv', sep='\\t', header=False)"
   ]
  },
  {
   "cell_type": "code",
   "execution_count": 59,
   "metadata": {},
   "outputs": [],
   "source": [
    "latest_metadata.to_csv(\"../data/standardised_22-04-24_updated.csv\", index=False)"
   ]
  },
  {
   "cell_type": "code",
   "execution_count": 60,
   "metadata": {},
   "outputs": [],
   "source": [
    "organism_list = [\n",
    "    \"Salmonella enterica\",\n",
    "    \"Escherichia coli\",\n",
    "    \"Saccharomyces cerevisiae\",\n",
    "    \"Zymomonas mobilis\",\n",
    "    \"Oryza sativa\",\n",
    "    \"Streptomyces avermitilis\",\n",
    "    \"Mycobacterium tuberculosis\",\n",
    "    \"Streptomyces tsukubensis\",\n",
    "    \"Staphylococcus aureus\",\n",
    "    \"Trypanosoma cruzi\",\n",
    "    \"Lacticaseibacillus rhamnosus\",\n",
    "    \"Bacillus subtilis\",\n",
    "    \"Caulobacter vibrioides\",\n",
    "    \"Pseudomonas aeruginosa\",\n",
    "    \"Mycobacteroides abscessus\",\n",
    "    \"Schizosaccharomyces pombe\",\n",
    "    \"Mycoplasmoides gallisepticum\",\n",
    "    \"Plasmodium falciparum\",\n",
    "    \"Streptomyces coelicolor\",\n",
    "    \"Flavobacterium johnsoniae\",\n",
    "    \"Mycoplasma pneumoniae\",\n",
    "    \"Cryptococcus neoformans\",\n",
    "    \"Mycolicibacterium smegmatis\",\n",
    "    \"Sinorhizobium meliloti\",\n",
    "    \"Bacteroides thetaiotaomicron\",\n",
    "    \"Vibrio natriegens\",\n",
    "    \"Vibrio vulnificus\"\n",
    "]\n",
    "\n",
    "for organism in organism_list:\n",
    "    mask = latest_metadata['ScientificName'].str.startswith(organism)\n",
    "    mask = mask.fillna(False)\n",
    "    latest_metadata.loc[mask, 'ScientificName'] = organism\n"
   ]
  },
  {
   "cell_type": "code",
   "execution_count": 61,
   "metadata": {},
   "outputs": [],
   "source": [
    "mask = latest_metadata['ScientificName'].str.startswith(\"Severe acute respiratory syndrome coronavirus 2\")\n",
    "mask = mask.fillna(False)\n",
    "latest_metadata.loc[mask, 'ScientificName'] = \"SARS-CoV2\""
   ]
  },
  {
   "cell_type": "code",
   "execution_count": 62,
   "metadata": {},
   "outputs": [],
   "source": [
    "latest_metadata['ScientificName'].value_counts().to_csv('../data/ScientificName_counts.tsv', sep='\\t', header=False)"
   ]
  },
  {
   "cell_type": "code",
   "execution_count": 63,
   "metadata": {},
   "outputs": [],
   "source": [
    "latest_metadata.to_csv(\"../data/standardised_22-04-24_updated.csv\", index=False)"
   ]
  }
 ],
 "metadata": {
  "kernelspec": {
   "display_name": "RiboSeqOrg-DataPortal",
   "language": "python",
   "name": "python3"
  },
  "language_info": {
   "codemirror_mode": {
    "name": "ipython",
    "version": 3
   },
   "file_extension": ".py",
   "mimetype": "text/x-python",
   "name": "python",
   "nbconvert_exporter": "python",
   "pygments_lexer": "ipython3",
   "version": "3.11.5"
  },
  "orig_nbformat": 4
 },
 "nbformat": 4,
 "nbformat_minor": 2
}
